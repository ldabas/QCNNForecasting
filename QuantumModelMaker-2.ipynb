{
  "nbformat": 4,
  "nbformat_minor": 2,
  "metadata": {
    "colab": {
      "name": "QuantumModelMaker.ipynb",
      "provenance": [],
      "collapsed_sections": [],
      "machine_shape": "hm"
    },
    "kernelspec": {
      "name": "python3",
      "display_name": "Python 3"
    },
    "language_info": {
      "name": "python"
    },
    "accelerator": "GPU"
  },
  "cells": [
    {
      "cell_type": "code",
      "execution_count": 1,
      "source": [
        "! pip install -q tensorflow==2.4.1 tensorflow-quantum"
      ],
      "outputs": [
        {
          "output_type": "stream",
          "name": "stdout",
          "text": [
            "\u001b[K     |████████████████████████████████| 394.3 MB 5.0 kB/s \n",
            "\u001b[K     |████████████████████████████████| 7.8 MB 41.9 MB/s \n",
            "\u001b[K     |████████████████████████████████| 462 kB 78.1 MB/s \n",
            "\u001b[K     |████████████████████████████████| 2.9 MB 73.9 MB/s \n",
            "\u001b[K     |████████████████████████████████| 3.8 MB 65.9 MB/s \n",
            "\u001b[K     |████████████████████████████████| 90 kB 11.0 MB/s \n",
            "\u001b[K     |████████████████████████████████| 1.3 MB 77.8 MB/s \n",
            "\u001b[K     |████████████████████████████████| 90 kB 11.3 MB/s \n",
            "\u001b[K     |████████████████████████████████| 100 kB 12.2 MB/s \n",
            "\u001b[K     |████████████████████████████████| 5.6 MB 69.9 MB/s \n",
            "\u001b[K     |████████████████████████████████| 1.5 MB 60.4 MB/s \n",
            "\u001b[K     |████████████████████████████████| 380 kB 65.6 MB/s \n",
            "\u001b[K     |████████████████████████████████| 93 kB 1.6 MB/s \n",
            "\u001b[K     |████████████████████████████████| 93 kB 1.5 MB/s \n",
            "\u001b[K     |████████████████████████████████| 93 kB 1.5 MB/s \n",
            "\u001b[K     |████████████████████████████████| 93 kB 1.5 MB/s \n",
            "\u001b[K     |████████████████████████████████| 93 kB 1.3 MB/s \n",
            "\u001b[K     |████████████████████████████████| 92 kB 1.3 MB/s \n",
            "\u001b[K     |████████████████████████████████| 93 kB 1.5 MB/s \n",
            "\u001b[K     |████████████████████████████████| 93 kB 1.4 MB/s \n",
            "\u001b[K     |████████████████████████████████| 92 kB 1.2 MB/s \n",
            "\u001b[K     |████████████████████████████████| 92 kB 1.2 MB/s \n",
            "\u001b[K     |████████████████████████████████| 92 kB 278 kB/s \n",
            "\u001b[K     |████████████████████████████████| 92 kB 183 kB/s \n",
            "\u001b[K     |████████████████████████████████| 92 kB 12.2 MB/s \n",
            "\u001b[K     |████████████████████████████████| 91 kB 11.8 MB/s \n",
            "\u001b[K     |████████████████████████████████| 91 kB 11.8 MB/s \n",
            "\u001b[K     |████████████████████████████████| 91 kB 11.0 MB/s \n",
            "\u001b[K     |████████████████████████████████| 91 kB 11.3 MB/s \n",
            "\u001b[K     |████████████████████████████████| 91 kB 11.0 MB/s \n",
            "\u001b[K     |████████████████████████████████| 91 kB 11.7 MB/s \n",
            "\u001b[K     |████████████████████████████████| 91 kB 10.4 MB/s \n",
            "\u001b[?25h"
          ]
        }
      ],
      "metadata": {
        "colab": {
          "base_uri": "https://localhost:8080/"
        },
        "id": "5zUIKAk7rp25",
        "outputId": "b49d3aac-7d00-4cab-d9ec-6cc0b9d54d8a"
      }
    },
    {
      "cell_type": "code",
      "execution_count": 2,
      "source": [
        "import tensorflow as tf\n",
        "import tensorflow_quantum as tfq\n",
        "\n",
        "\n",
        "import cirq\n",
        "import sympy\n",
        "import numpy as np\n",
        "import seaborn as sns\n",
        "\n",
        "import collections\n",
        "import tensorflow as tf\n",
        "from tensorflow import keras\n",
        "from tensorflow.keras import layers\n",
        "import pandas as pd\n",
        "from sklearn import preprocessing\n",
        "\n",
        "from sklearn.model_selection import train_test_split\n",
        "from sklearn.preprocessing import MinMaxScaler\n",
        "\n",
        "\n",
        "\n",
        "# visualization tools\n",
        "%matplotlib inline\n",
        "import matplotlib.pyplot as plt\n",
        "from cirq.contrib.svg import SVGCircuit\n",
        "from statsmodels.tsa.api import ExponentialSmoothing\n",
        "\n",
        "model_type = []\n",
        "global model_type\n",
        "\n",
        "\n",
        "\n",
        "def update_model_type(var):\n",
        "    model_type.append(var)\n",
        "\n",
        "sample = []\n",
        "global sample\n",
        "\n",
        "\n",
        "\n",
        "def update_sample(var):\n",
        "    sample.append(var)\n",
        "\n",
        "\n",
        "\n"
      ],
      "outputs": [
        {
          "output_type": "stream",
          "name": "stderr",
          "text": [
            "/usr/local/lib/python3.7/dist-packages/statsmodels/tools/_testing.py:19: FutureWarning: pandas.util.testing is deprecated. Use the functions in the public API at pandas.testing instead.\n",
            "  import pandas.util.testing as tm\n"
          ]
        }
      ],
      "metadata": {
        "id": "gt7KO0_Fr6p7",
        "colab": {
          "base_uri": "https://localhost:8080/"
        },
        "outputId": "016595c3-4a19-4101-f8e1-5352186196f2"
      }
    },
    {
      "cell_type": "code",
      "execution_count": 3,
      "source": [
        "%tensorflow_version 2.x\n",
        "import tensorflow as tf\n",
        "device_name = tf.test.gpu_device_name()\n",
        "if device_name != '/device:GPU:0':\n",
        "  raise SystemError('GPU device not found')\n",
        "print('Found GPU at: {}'.format(device_name))"
      ],
      "outputs": [
        {
          "output_type": "stream",
          "name": "stdout",
          "text": [
            "Found GPU at: /device:GPU:0\n"
          ]
        }
      ],
      "metadata": {
        "colab": {
          "base_uri": "https://localhost:8080/"
        },
        "id": "-796_Bv3sPsw",
        "outputId": "6aefa6cd-dfa6-47fd-83d3-ce3fa56570ea"
      }
    },
    {
      "cell_type": "code",
      "execution_count": 4,
      "source": [
        "df = pd.read_csv(\"viable_dataset.csv\", index_col=\"Date\")"
      ],
      "outputs": [],
      "metadata": {
        "id": "cfuveG1Xtse4"
      }
    },
    {
      "cell_type": "code",
      "execution_count": 5,
      "source": [
        "split_fraction = 0.7\n",
        "train_split = int(split_fraction * int(df.shape[0]))\n",
        "test_split = int((split_fraction+0.15) * int(df.shape[0]))\n",
        "learning_rate = 0.001\n",
        "batch_size = 1\n",
        "epochs = 100\n",
        "\n",
        "def quantum_rescale(dataset):\n",
        "    x = dataset[[0,1,2,3,5]]\n",
        "    y = dataset[[4]]\n",
        "\n",
        "    x = x/(x.to_numpy().max())\n",
        "    y = y/(y.to_numpy().max())\n",
        "    return x, y\n",
        "\n",
        "def smooth(dataset, train_split, smooth_level):\n",
        "  for column in dataset.columns:\n",
        "    data = dataset[column]\n",
        "    exp = ExponentialSmoothing(data[:train_split])\n",
        "    exp_model = exp.fit(smoothing_level=smooth_level)\n",
        "    result = exp_model.fittedvalues\n",
        "    dataset[column][:train_split] = result\n",
        "    return dataset\n",
        "\n",
        "class UndefinedQModelError(Exception):\n",
        "    \"\"\"Please input either 'discrete' or 'time-window' as model type\"\"\"\n",
        "    def __init__(self, message=\"Please input either 'discrete' or 'time-window' as model type and specify number of inputs\"):\n",
        "        self.message = message\n",
        "        super().__init__(self.message)\n",
        "    pass"
      ],
      "outputs": [],
      "metadata": {
        "id": "ayaRBHsmtwSI"
      }
    },
    {
      "cell_type": "code",
      "execution_count": 6,
      "source": [
        "cols = [df.columns[i] for i in [0, 1, 2, 3, 4, 5]]\n",
        "selected_features = [df.columns[i] for i in [0, 1, 2, 3, 4, 5]]\n",
        "features = df[selected_features]\n",
        "features.set_index(df.index, inplace=True)\n",
        "#print(features.head())\n",
        "\n",
        "features = smooth(features, train_split, smooth_level=0.8)\n",
        "#print(features.head())\n",
        "\n",
        "#features = normalize(features.values, train_split)\n",
        "features = pd.DataFrame(features.values)\n",
        "#print(features.head())\n",
        "\n",
        "\n"
      ],
      "outputs": [
        {
          "output_type": "stream",
          "name": "stderr",
          "text": [
            "/usr/local/lib/python3.7/dist-packages/statsmodels/tsa/base/tsa_model.py:165: ValueWarning: No frequency information was provided, so inferred frequency D will be used.\n",
            "  % freq, ValueWarning)\n",
            "/usr/local/lib/python3.7/dist-packages/ipykernel_launcher.py:22: SettingWithCopyWarning: \n",
            "A value is trying to be set on a copy of a slice from a DataFrame\n",
            "\n",
            "See the caveats in the documentation: https://pandas.pydata.org/pandas-docs/stable/user_guide/indexing.html#returning-a-view-versus-a-copy\n"
          ]
        }
      ],
      "metadata": {
        "colab": {
          "base_uri": "https://localhost:8080/"
        },
        "id": "BTZo7SIFt4V1",
        "outputId": "266428cf-61be-41fc-88a7-b66c5a61967c"
      }
    },
    {
      "cell_type": "code",
      "execution_count": 7,
      "source": [
        "X, y = quantum_rescale(features)\n"
      ],
      "outputs": [],
      "metadata": {
        "id": "RBdgz4LNt9ln"
      }
    },
    {
      "cell_type": "code",
      "execution_count": 8,
      "source": [
        "def create_discrete_circuits(data, qubits, test=False):\n",
        "    cs = []\n",
        "    column_list = [0,1,2,3,5]\n",
        "    #print(data.iloc[4])\n",
        "    for i in range(0,len(data)):\n",
        "        \n",
        "        cir = cirq.Circuit()\n",
        "\n",
        "        for j in column_list:\n",
        "            #print(f\"i: {i} and j: {j}\")\n",
        "            if j==5:\n",
        "              cir += cirq.rx(data.iloc[i][j] * np.pi).on(qubits[j-1])\n",
        "              #print(\"Debug 1\")\n",
        "              cir += cirq.ry(data.iloc[i][j] * np.pi).on(qubits[j-1])\n",
        "            else:\n",
        "              cir += cirq.rx(data.iloc[i][j] * np.pi).on(qubits[j])\n",
        "              #print(\"Debug 2\")\n",
        "              cir += cirq.ry(data.iloc[i][j] * np.pi).on(qubits[j])\n",
        "        cs.append(cir)\n",
        "    SVGCircuit(cir)\n",
        "    if test:\n",
        "        return tfq.convert_to_tensor([cs])\n",
        "    return tfq.convert_to_tensor(cs)\n",
        "\n",
        "def encode_discrete_data(data, labels, qubits):\n",
        "    X_train =  data.iloc[:train_split-1]# 80:10:10 Split\n",
        "    y_train = labels.iloc[:train_split-1]\n",
        "    X_test =  data.iloc[train_split:test_split-1]\n",
        "    y_test = labels.iloc[train_split:test_split-1]\n",
        "    X_val =  data.iloc[test_split:]\n",
        "    y_val = labels.iloc[test_split:]\n",
        "    \n",
        "    return create_discrete_circuits(X_train, qubits), create_discrete_circuits(X_val,qubits), create_discrete_circuits(X_test, qubits), y_train, y_val, y_test"
      ],
      "outputs": [],
      "metadata": {
        "id": "fpmKDHg9vJPp"
      }
    },
    {
      "cell_type": "code",
      "execution_count": 9,
      "source": [
        "# Quantum NN\n",
        "def create_time_window_circuits(data, qubits, test=False):\n",
        "    cs = []\n",
        "    column_list = [0,1,2,3,5]\n",
        "    #print(data.iloc[4])\n",
        "    for i in range(0,len(data)-2):\n",
        "        \n",
        "        cir = cirq.Circuit()\n",
        "\n",
        "        for j in column_list:\n",
        "            #print(f\"i: {i} and j: {j}\")\n",
        "            if j==5:\n",
        "              cir += cirq.rx(data.iloc[i][j] * np.pi).on(qubits[j-1])\n",
        "              #print(\"Hello1-5\")\n",
        "              cir += cirq.ry(data.iloc[i][j] * np.pi).on(qubits[j-1])\n",
        "            else:\n",
        "              cir += cirq.rx(data.iloc[i][j] * np.pi).on(qubits[j])\n",
        "              #print(\"Hello1\")\n",
        "              cir += cirq.ry(data.iloc[i][j] * np.pi).on(qubits[j])\n",
        "\n",
        "        for j in column_list:\n",
        "            if j==5:\n",
        "              cir += cirq.rx(data.iloc[i+1][j] * np.pi).on(qubits[j-1])\n",
        "              #print(\"Hello2-5\")\n",
        "              cir += cirq.ry(data.iloc[i+1][j] * np.pi).on(qubits[j-1])\n",
        "\n",
        "            else:\n",
        "              cir += cirq.rx(data.iloc[i+1][j] * np.pi).on(qubits[j])\n",
        "              #print(\"Hello2\")\n",
        "              cir += cirq.ry(data.iloc[i+1][j] * np.pi).on(qubits[j])\n",
        "\n",
        "        for j in column_list:\n",
        "            if j==5:\n",
        "              cir += cirq.rx(data.iloc[i+2][j] * np.pi).on(qubits[j-1])\n",
        "              #print(\"Hello3-5\")\n",
        "              cir += cirq.ry(data.iloc[i+2][j] * np.pi).on(qubits[j-1])\n",
        "            else:\n",
        "                cir += cirq.rx(data.iloc[i+2][j] * np.pi).on(qubits[j])\n",
        "                #print(\"Hello3\")\n",
        "                cir += cirq.ry(data.iloc[i+2][j] * np.pi).on(qubits[j])\n",
        "        \n",
        "        cs.append(cir)\n",
        "        SVGCircuit(cir)\n",
        "\n",
        "    #print(cs[0])\n",
        "    if test:\n",
        "        return tfq.convert_to_tensor([cs])\n",
        "    return tfq.convert_to_tensor(cs)\n",
        "\n",
        "def encode_time_window_data(data, labels, qubits):\n",
        "\n",
        "    X_train =  data.iloc[:train_split-1]# 80:10:10 Split\n",
        "    y_train = labels.iloc[2:train_split-1]\n",
        "    X_val =  data.iloc[test_split:]\n",
        "    y_val = labels.iloc[test_split+2:]\n",
        "    X_test =  data.iloc[train_split:test_split-1]\n",
        "    y_test = labels.iloc[train_split+2:test_split-1]\n",
        "    \n",
        "    return create_time_window_circuits(X_train, qubits), create_time_window_circuits(X_val,qubits), create_time_window_circuits(X_test, qubits), y_train, y_val, y_test"
      ],
      "outputs": [],
      "metadata": {
        "id": "B2pD_L_6w78_"
      }
    },
    {
      "cell_type": "code",
      "execution_count": 10,
      "source": [
        "#QCNN Layers were proposed by Cong and Lukin https://arxiv.org/abs/1810.03787\n",
        "# Unitaries used were proposed by Robert Tucci https://arxiv.org/abs/quant-ph/0507171\n",
        "# QCNN Layer implementation was demonstrated in https://www.tensorflow.org/quantum/tutorials/qcnn#15_define_layers\n",
        "# These layers have been used to make multivariate QCNN regression models fort this project.\n",
        "def one_qubit_unitary(bit, symbols):\n",
        "        return cirq.Circuit(\n",
        "            cirq.X(bit)**symbols[0],\n",
        "            cirq.Y(bit)**symbols[1],\n",
        "            cirq.Z(bit)**symbols[2])\n",
        "\n",
        "def two_qubit_unitary(bits, symbols):\n",
        "    circuit = cirq.Circuit()\n",
        "    circuit += one_qubit_unitary(bits[0], symbols[0:3])\n",
        "    circuit += one_qubit_unitary(bits[1], symbols[3:6])\n",
        "    circuit += [cirq.ZZ(*bits)**symbols[6]]\n",
        "    circuit += [cirq.YY(*bits)**symbols[7]]\n",
        "    circuit += [cirq.XX(*bits)**symbols[8]]\n",
        "    circuit += one_qubit_unitary(bits[0], symbols[9:12])\n",
        "    circuit += one_qubit_unitary(bits[1], symbols[12:])\n",
        "    return circuit\n",
        "\n",
        "def two_qubit_pool(source_qubit, sink_qubit, symbols):\n",
        "    pool_circuit = cirq.Circuit()\n",
        "    sink_basis_selector = one_qubit_unitary(sink_qubit, symbols[0:3])\n",
        "    source_basis_selector = one_qubit_unitary(source_qubit, symbols[3:6])\n",
        "    pool_circuit.append(sink_basis_selector)\n",
        "    pool_circuit.append(source_basis_selector)\n",
        "    pool_circuit.append(cirq.CNOT(control=source_qubit, target=sink_qubit))\n",
        "    pool_circuit.append(sink_basis_selector**-1)\n",
        "    return pool_circuit\n",
        "\n",
        "def quantum_pool_circuit(source_bits, sink_bits, symbols):\n",
        "    circuit = cirq.Circuit()\n",
        "    for source, sink in zip(source_bits, sink_bits):\n",
        "        circuit += two_qubit_pool(source, sink, symbols)\n",
        "    return circuit\n",
        "\n",
        "def quantum_conv_circuit(bits, symbols):\n",
        "    circuit = cirq.Circuit()\n",
        "    for first, second in zip(bits[0::2], bits[1::2]):\n",
        "        circuit += two_qubit_unitary([first, second], symbols)\n",
        "    for first, second in zip(bits[1::2], bits[2::2] + [bits[0]]):\n",
        "        circuit += two_qubit_unitary([first, second], symbols)\n",
        "    return circuit\n"
      ],
      "outputs": [],
      "metadata": {
        "id": "RTovEXMAviQa"
      }
    },
    {
      "cell_type": "code",
      "execution_count": 11,
      "source": [
        "def create_model_circuit(qubits):\n",
        "    \"\"\"Create sequence of alternating convolution and pooling operators \n",
        "    which gradually shrink over time.\"\"\"\n",
        "    model_circuit = cirq.Circuit()\n",
        "    symbols = sympy.symbols('qconv0:63')\n",
        "\n",
        "    model_circuit += quantum_conv_circuit(qubits, symbols[:15])# 15\n",
        "    model_circuit += quantum_pool_circuit(qubits[:1], qubits[1:],# 6\n",
        "                                          symbols[15:21])\n",
        "    model_circuit += quantum_conv_circuit(qubits[1:], symbols[21:36])\n",
        "    model_circuit += quantum_pool_circuit(qubits[1:3], qubits[3:],\n",
        "                                          symbols[36:42])\n",
        "    model_circuit += quantum_conv_circuit(qubits[3:], symbols[42:57])\n",
        "    model_circuit += quantum_pool_circuit([qubits[3]], [qubits[4]],\n",
        "                                          symbols[57:63])\n",
        "    return model_circuit"
      ],
      "outputs": [],
      "metadata": {
        "id": "uqS_Q6vxwRfI"
      }
    },
    {
      "cell_type": "code",
      "execution_count": 12,
      "source": [
        "def prepare_quantum_states(X, y, feature_count = 5, type=None):\n",
        "  qubits = [cirq.GridQubit(0, i) for i in range(feature_count)]\n",
        "\n",
        "  if type=='discrete':\n",
        "    X_train, X_val, X_test, y_train, y_val, y_test = encode_discrete_data(X, y, qubits)\n",
        "  elif type=='time-window':\n",
        "    X_train, X_val, X_test, y_train, y_val, y_test = encode_time_window_data(X, y, qubits)\n",
        "  else:\n",
        "    raise UndefinedQModelError\n",
        "  qcnn_circuit = create_model_circuit(qubits)\n",
        "  print(qcnn_circuit)\n",
        "\n",
        "  return qcnn_circuit, qubits, X_train, X_val, X_test, y_train, y_val, y_test"
      ],
      "outputs": [],
      "metadata": {
        "id": "ZpG2biLjwre7"
      }
    },
    {
      "cell_type": "code",
      "execution_count": 13,
      "source": [
        "def get_callbacks(patience = 5):\n",
        "  path_checkpoint = \"model_checkpoint.h5\"\n",
        "  es_callback = keras.callbacks.EarlyStopping(monitor=\"val_loss\", min_delta=0, patience=patience)\n",
        "\n",
        "  modelckpt_callback = keras.callbacks.ModelCheckpoint(\n",
        "      monitor=\"val_loss\",\n",
        "      filepath=path_checkpoint,\n",
        "      verbose=1,\n",
        "      save_weights_only=True,\n",
        "      save_best_only=True,\n",
        "  )\n",
        "\n",
        "  return es_callback, modelckpt_callback"
      ],
      "outputs": [],
      "metadata": {
        "id": "8eWiRFct2s02"
      }
    },
    {
      "cell_type": "code",
      "execution_count": 14,
      "source": [
        "def build_model(qcnn_circuit, qubits):\n",
        "\n",
        "  readout_operators = [cirq.Z(qubits[0])]\n",
        "  inputs = tf.keras.Input(shape=(), dtype=tf.dtypes.string)\n",
        "  dense = tfq.layers.PQC(qcnn_circuit, readout_operators, differentiator=tfq.differentiators.Adjoint())(inputs)\n",
        "  model = tf.keras.models.Model(inputs=inputs, outputs=dense)\n",
        "  model.compile(loss='mse', optimizer=tf.keras.optimizers.Adam(lr=1e-3))\n",
        "\n",
        "  return model"
      ],
      "outputs": [],
      "metadata": {
        "id": "8jaScvR-zPe_"
      }
    },
    {
      "cell_type": "code",
      "execution_count": 17,
      "source": [
        "def make_q_cnn_model(type = None, retrain = False, model = None, history=None):\n",
        "  update_model_type(type)\n",
        "  qcnn_circuit, qubits, X_train, X_val, X_test, y_train, y_val, y_test = prepare_quantum_states(X, y, feature_count = 5, type=type)\n",
        "  es_callback, modelckpt_callback = get_callbacks(patience = 5)\n",
        "\n",
        "  if not retrain:\n",
        "    model= build_model(qcnn_circuit, qubits)\n",
        "  return train_model(model, es_callback, modelckpt_callback, X_train, X_val, y_train, y_val)"
      ],
      "outputs": [],
      "metadata": {
        "id": "NDXK9gOU1jzN"
      }
    },
    {
      "cell_type": "code",
      "execution_count": 18,
      "source": [
        "def train_model(model, es_callback, modelckpt_callback, X_train, X_val, y_train, y_val):\n",
        "  history = model.fit(\n",
        "    X_train, y_train ,\n",
        "    epochs=epochs,\n",
        "    batch_size=1,\n",
        "    validation_data=(X_val, y_val),\n",
        "    callbacks=[es_callback, modelckpt_callback]\n",
        "    )\n",
        "  return model, history"
      ],
      "outputs": [],
      "metadata": {
        "id": "PIfydZ795N1K"
      }
    },
    {
      "cell_type": "code",
      "execution_count": null,
      "source": [
        "make_q_cnn_model('time-window')\n",
        "\n",
        "#model, history = make_q_cnn_model('time-window',True, model, history) # This should only be done after the above line has been executed and more training is desired"
      ],
      "outputs": [],
      "metadata": {
        "colab": {
          "base_uri": "https://localhost:8080/",
          "height": 1000
        },
        "id": "FYLw8fGd52xK",
        "outputId": "2ba89536-5da2-48d8-a9f7-dd17f3f13f45"
      }
    },
    {
      "cell_type": "code",
      "execution_count": null,
      "source": [
        "make_q_cnn_model('discrete')\n",
        "\n",
        "#model, history = make_q_cnn_model('discrete',True, model, history) # This should only be done after the above line has been executed and more training is desired\n"
      ],
      "outputs": [],
      "metadata": {
        "colab": {
          "base_uri": "https://localhost:8080/",
          "height": 803
        },
        "id": "mV6D6zJ4E6Ma",
        "outputId": "35db884d-447e-4b92-d951-7456c2a34976"
      }
    },
    {
      "cell_type": "markdown",
      "source": [
        "# **Quantum Model Validator**"
      ],
      "metadata": {
        "id": "NbvgsRrYbgF3"
      }
    },
    {
      "cell_type": "code",
      "execution_count": null,
      "source": [
        "model_type[-1]"
      ],
      "outputs": [
        {
          "output_type": "execute_result",
          "data": {
            "text/plain": [
              "'time-window'"
            ],
            "application/vnd.google.colaboratory.intrinsic+json": {
              "type": "string"
            }
          },
          "metadata": {},
          "execution_count": 55
        }
      ],
      "metadata": {
        "colab": {
          "base_uri": "https://localhost:8080/",
          "height": 37
        },
        "id": "oWjSSC_pebSR",
        "outputId": "8adb7f92-120b-46a0-8540-b0ec24b874b3"
      }
    },
    {
      "cell_type": "code",
      "execution_count": 20,
      "source": [
        "def visualize_loss(history, title):\n",
        "    loss = history.history[\"loss\"]\n",
        "    val_loss = history.history[\"val_loss\"]\n",
        "    epochs = range(len(loss))\n",
        "    plt.figure()\n",
        "    plt.plot(epochs, loss, \"b\", label=\"Training loss\")\n",
        "    plt.plot(epochs, val_loss, \"r\", label=\"Validation loss\")\n",
        "    plt.title(title)\n",
        "    plt.xlabel(\"Epochs\")\n",
        "    plt.ylabel(\"Loss\")\n",
        "    plt.legend()\n",
        "    plt.show()\n",
        "\n",
        "visualize_loss(history, f\"Mean Square Error For {model_type[-1]} QNN Model\")"
      ],
      "outputs": [
        {
          "output_type": "display_data",
          "data": {
            "text/plain": [
              "<Figure size 432x288 with 1 Axes>"
            ],
            "image/png": "[encoded data removed]"
          },
          "metadata": {
            "needs_background": "light"
          }
        }
      ],
      "metadata": {
        "colab": {
          "base_uri": "https://localhost:8080/",
          "height": 295
        },
        "id": "djgiWkiv6K4f",
        "outputId": "34a95682-d697-4b6c-bfbe-039d4c116445"
      }
    },
    {
      "cell_type": "code",
      "execution_count": null,
      "source": [
        "metrics = pd.DataFrame(columns=[\"TYPE\", \"sample\", \"MAPE\",\n",
        "                                \"Accuracy%\", \"RMSE\", \"RMSE%\", \"MAE\", \"MAE%\"])\n",
        "\n",
        "update_sample('in_sample')\n",
        "qcnn_circuit, qubits, X_train, X_val, X_test, y_train, y_val, y_test = prepare_quantum_states(X, y, feature_count = 5, type=model_type[-1])\n",
        "\n",
        "actual = np.array(y_val).flatten() #* y.to_numpy().max()#Rescaling back to original values\n",
        "predicted = model.predict(X_val).flatten()# * y.to_numpy().max()#Resclaing back to original values\n",
        "errors = actual - predicted\n",
        "# IN SAMPLE\n",
        "\n",
        "plt.clf()\n",
        "\n",
        "results = pd.DataFrame(columns=[\"Expected\", \"Predicted\"])\n",
        "results[\"Expected\"] = actual\n",
        "results[\"Predicted\"] = predicted\n",
        "sns.set(rc={'figure.figsize':(12.7,6.27)})\n",
        "sns.lineplot(data=results,palette=\"deep\").set_title(sample[-1]\n",
        "                                                    +\"_quantum_\"\n",
        "                                                    +model_type[-1]\n",
        "                                                    +\"_cnn_forecast\")\n",
        "plt.savefig(sample[-1]+\"_quantum_\"+model_type[-1]+\"_cnn_forecast\"+ \".png\")\n",
        "\n",
        "results = pd.DataFrame(columns=[\"Expected\", \"Predicted\"])\n",
        "results[\"Expected\"] = actual\n",
        "\n",
        "\n",
        "results[\"Predicted\"] = predicted\n",
        "\n",
        "sns.set(rc={'figure.figsize':(12.7,6.27)})\n",
        "\n",
        "\n",
        "sns.lineplot(data=results,palette=\"deep\")\n",
        "\n",
        "\n",
        "plt.clf()\n",
        "\n",
        "\n",
        "errors = np.array(errors)\n",
        "mape = np.mean(np.abs(errors)/actual)\n",
        "rmse = np.sqrt(np.mean((np.square(errors))))\n",
        "rmse_percent = 100*rmse/np.mean(actual)\n",
        "mae = np.mean(np.abs(errors))\n",
        "mae_percent = 100*np.mean(np.abs(errors))/np.mean(actual)\n",
        "accuracy = 100 - 100*mape\n",
        "\n",
        "\n",
        "\n",
        "metrics = metrics.append({\"type\":model_type[-1], \"sample\":sample[-1],\n",
        "                          \"MAPE\": mape, \"Accuracy%\": accuracy, \n",
        "                          \"RMSE\":rmse, \"RMSE%\":rmse_percent,\n",
        "                          \"MAE\":mae, \"MAE%\":mae_percent}, ignore_index=True )\n",
        "metrics.to_csv(\"quantum_cnn_\"+model_type[-1]+\".csv\")\n"
      ],
      "outputs": [],
      "metadata": {
        "colab": {
          "base_uri": "https://localhost:8080/",
          "height": 207
        },
        "id": "nWHpZN2A_A0f",
        "outputId": "612eb49c-7071-47bd-f690-1272dd5152a7"
      }
    },
    {
      "cell_type": "code",
      "execution_count": 42,
      "source": [
        "actual = np.array(y_test).flatten() #* y.to_numpy().max()#Rescaling back to original values\n",
        "predicted = model.predict(X_test).flatten()# * y.to_numpy().max()#Resclaing back to original values\n",
        "errors = actual - predicted\n",
        "# OUT OF SAMPLE\n",
        "update_sample('out_of_sample')\n",
        "\n",
        "plt.clf()\n",
        "\n",
        "results = pd.DataFrame(columns=[\"Expected\", \"Predicted\"])\n",
        "results[\"Expected\"] = actual\n",
        "results[\"Predicted\"] = predicted\n",
        "sns.set(rc={'figure.figsize':(12.7,6.27)})\n",
        "sns.lineplot(data=results,palette=\"deep\").set_title(sample[-1]\n",
        "                                                    +\"_quantum_\"\n",
        "                                                    +model_type[-1]\n",
        "                                                    +\"_cnn_forecast\")\n",
        "plt.savefig(sample[-1]+\"_quantum_\"+model_type[-1]+\"_cnn_forecast\"+ \".png\")\n",
        "\n",
        "results = pd.DataFrame(columns=[\"Expected\", \"Predicted\"])\n",
        "results[\"Expected\"] = actual\n",
        "\n",
        "\n",
        "results[\"Predicted\"] = predicted\n",
        "\n",
        "sns.set(rc={'figure.figsize':(12.7,6.27)})\n",
        "\n",
        "\n",
        "sns.lineplot(data=results,palette=\"deep\")\n",
        "\n",
        "\n",
        "plt.clf()\n",
        "\n",
        "\n",
        "errors = np.array(errors)\n",
        "mape = np.mean(np.abs(errors)/actual)\n",
        "rmse = np.sqrt(np.mean((np.square(errors))))\n",
        "rmse_percent = 100*rmse/np.mean(actual)\n",
        "mae = np.mean(np.abs(errors))\n",
        "mae_percent = 100*np.mean(np.abs(errors))/np.mean(actual)\n",
        "accuracy = 100 - 100*mape\n",
        "\n",
        "\n",
        "\n",
        "metrics = metrics.append({\"type\":model_type[-1], \"sample\":sample[-1],\n",
        "                          \"MAPE\": mape, \"Accuracy%\": accuracy, \n",
        "                          \"RMSE\":rmse, \"RMSE%\":rmse_percent,\n",
        "                          \"MAE\":mae, \"MAE%\":mae_percent}, ignore_index=True )\n",
        "metrics.to_csv(\"quantum_cnn_\"+model_type[-1]+\".csv\")\n"
      ],
      "outputs": [
        {
          "output_type": "stream",
          "name": "stdout",
          "text": [
            "(0, 0): ───X^qconv0───Y^qconv1───Z^qconv2────────────────────────────────────ZZ──────────YY──────────XX──────────X^qconv9───Y^qconv10───Z^qconv11──────────────────────────────────────────────────────────────────────────────────────────────────────────────────────────────────────────────────────────────────────────────────────────────────────────────────────────────────────────────────────────────────────────────────────────────────────────────────────────────────────────────────────────────────────────────────────────────────────────────────────────────────────────────────────────────────────────────────────────────────────────────────────────────────────────────────────────────────────────────────────────────────────────────────X^qconv18───Y^qconv19───Z^qconv20───@─────────────────────────────────────────────────────────────────────────────────────────────────────────────────────────────────────────────────────────────────────────────────────────────────────────────────────────────────────────────────────────────────────────────────────────────────────────────────────────────────────────────────────────────────────────────────────────────────────────────────────────────────────────────────────────────────────────────────────────────────────────────────────────────────────────────────────────────────────────────────────────────────────────────────────────────────────────────────────────────────────────────────────────────────────────────────────────────────────────────────────────────────────────────────────────────────────────────────────────────────────────────────────────────────────────────────────────────────────────────────────────────────────────────────────────────────────────────────────────────────────────────────────────────────────────────────────────────────────────────────────────────────────────────────────────────────────────────────────────────────────────────────────────────────────────────────────────────────────────────────────────────────────────────────────────────────────────────────────────────────────────────────────────────────────────────────────────────────────────────────────────────────────────────────────────────────────────────────────────────────────────────────────────────────────────────────────────────────────\n",
            "                                                                             │           │           │                                                                                                                                                                                                                                                                                                                                                                                                                                                                                                                                                                                                                                                                                                 │\n",
            "(0, 1): ────────────────────────────────────X^qconv3───Y^qconv4───Z^qconv5───ZZ^qconv6───YY^qconv7───XX^qconv8──────────────────────────────────────X^qconv12───Y^qconv13───Z^qconv14────────────────────────────────────────────────────────────────────────────────────────────────────────────────────────────────────────────────────────────────────────────────X^qconv0───Y^qconv1───Z^qconv2────────────────────────────────────ZZ──────────YY──────────XX──────────X^qconv9───Y^qconv10───Z^qconv11────────────────────────────────────────────────────────────────────────────────────────────────────────────────────────────────────────────────────────────────────────────────────────────────────────────────────X^qconv15───Y^qconv16───Z^qconv17───────────────────────────────────────X───Z^(-qconv17)───Y^(-qconv16)───X^(-qconv15)───X^qconv21───Y^qconv22───Z^qconv23───────────────────────────────────────ZZ───────────YY───────────XX───────────X^qconv30───Y^qconv31───Z^qconv32─────────────────────────────────────────────────────────────────────────────────────────────────────────────────────────────────────────────────────────────────────────────────────────────────────────────────────────────────────────────────────────────────────────────────────────────────────────────────────────────────────────────────────────────────────────────────────────────────────────────────────────────────────────────────────────X^qconv24───Y^qconv25───Z^qconv26───ZZ───────────YY───────────XX───────────────────────────────────────────────X^qconv33───Y^qconv34───Z^qconv35───────────────────────────────────────X^qconv39───Y^qconv40───Z^qconv41───@────────────────────────────────────────────────────────────────────────────────────────────────────────────────────────────────────────────────────────────────────────────────────────────────────────────────────────────────────────────────────────────────────────────────────────────────────────────────────────────────────────────────────────────────────────────────────────────────────────────────────────────────────────────────────────────────────────────────────────────────────────────────────────────────────────────────────────────────────────────────────────────────────────────────────────────────────────────────────────────────────────────────\n",
            "                                                                                                                                                                                                                                                                                                                                                                                                                                       │           │           │                                                                                                                                                                                                                                                                                                                                                                                                                                                                │            │            │                                                                                                                                                                                                                                                                                                                                                                                                                                                                                                                                          │            │            │                                                                                                                                                            │\n",
            "(0, 2): ────────────────────────────────────────────────────────────────────────────────────────────────────────────────────────────────────────────────────────────────────────────────X^qconv0───Y^qconv1───Z^qconv2────────────────────────────────────ZZ──────────YY──────────XX──────────X^qconv9───Y^qconv10───Z^qconv11────────────────────────────────────────────────────────────────────────X^qconv3───Y^qconv4───Z^qconv5───ZZ^qconv6───YY^qconv7───XX^qconv8──────────────────────────────────────X^qconv12───Y^qconv13───Z^qconv14─────────────────────────────────────────────────────────────────────────────────────────────────────────────────────────────────────────────────────────────────────────────────────────────────────────────────────────────────────────────────────────────────────────────────────────────────────────────────────────────────────────────X^qconv24───Y^qconv25───Z^qconv26───ZZ^qconv27───YY^qconv28───XX^qconv29───────────────────────────────────────X^qconv33───Y^qconv34───Z^qconv35──────────────────────────────────────────────────────────────────────────────────────────────────────────────────────────────────────────────────────────────────────────────────────────X^qconv21───Y^qconv22───Z^qconv23───────────────────────────────────────ZZ───────────YY───────────XX───────────X^qconv30───Y^qconv31───Z^qconv32───────────────────────────────────────────────────────────────────────────────────────────────────────────────┼────────────┼────────────┼────────────────────────────────────────────────────────────────────────────────────────────────────────────────────────────────────────────────────────────┼────────────────────────────────────────────────────────────────────────────────────X^qconv39───Y^qconv40───Z^qconv41───@───────────────────────────────────────────────────────────────────────────────────────────────────────────────────────────────────────────────────────────────────────────────────────────────────────────────────────────────────────────────────────────────────────────────────────────────────────────────────────────────────────────────────────────────────────────────────────────────────────────────────────────────────────────────────────────────────────────────────────────────────────────────────────────────────────────────────────\n",
            "                                                                                                                                                                                                                                                          │           │           │                                                                                                                                                                                                                                                                                                                                                                                                                                                                                                                                                                                                                                                                                                                                                                                                                                                                                                                                                                                                                           │            │            │                                                                                                                                                            │            │            │                                                                                                                                                            │                                                                                                                        │\n",
            "(0, 3): ─────────────────────────────────────────────────────────────────────────────────────────────────────────────────────────────────────────────────────────────────────────────────────────────────────────────────X^qconv3───Y^qconv4───Z^qconv5───ZZ^qconv6───YY^qconv7───XX^qconv8──────────────────────────────────────X^qconv12───Y^qconv13───Z^qconv14────────────────────────────────────────────────────────────────────────────────────────────────────────────────────────────────────────────────────────────────────────────────X^qconv0───Y^qconv1───Z^qconv2────────────────────────────────────ZZ──────────YY──────────XX──────────X^qconv9───Y^qconv10───Z^qconv11───────────────────────────────────────────────────────────────────────────────────────────────────────────────────────────────────────────────────────────────────────────────────────────────────────────────────────────────────────────────────────────────────────────────────────────────────────────────────────────────────────────────────────X^qconv21───Y^qconv22───Z^qconv23───────────────────────────────────────ZZ───────────YY───────────XX───────────X^qconv30───Y^qconv31───Z^qconv32───────────────────────────────────────────────────────────────────────────X^qconv24───Y^qconv25───Z^qconv26───ZZ^qconv27───YY^qconv28───XX^qconv29───────────────────────────────────────X^qconv33───Y^qconv34───Z^qconv35───────────────────────────────────────────────────────────────────────────┼────────────┼────────────┼────────────────────────────────────────────────────────────────────────────────────X^qconv36───Y^qconv37───Z^qconv38───────────────────────────────────────X───Z^(-qconv38)───Y^(-qconv37)───X^(-qconv36)───────────────────────────────────────────────────────────────────────────┼────────────────────────────────────────────────X^qconv42───Y^qconv43───Z^qconv44───────────────────────────────────────ZZ───────────YY───────────XX───────────X^qconv51───Y^qconv52───Z^qconv53───────────────────────────────────────────────────────────────────────────X^qconv45───Y^qconv46───Z^qconv47───ZZ───────────YY───────────XX───────────────────────────────────────────────X^qconv54───Y^qconv55───Z^qconv56───────────────────────────────────────X^qconv60───Y^qconv61───Z^qconv62───@────────────────────────────────────────────────\n",
            "                                                                                                                                                                                                                                                                                                                                                                                                                                                                                                                                                                                                                    │           │           │                                                                                                                                                                                                                                                                                                                                                                                                                                                                          │            │            │                                                                                                                                                                                                                                                                                                                                                   │            │            │                                                                                                                                                                                                                                                                                     │                                                                                                                        │            │            │                                                                                                                                                            │            │            │                                                                                                                                                            │\n",
            "(0, 4): ───────────────────────────────────────────────────────────────────────────────────────────────────────────────────────────────────────────────────────────────────────────────────────────────────────────────────────────────────────────────────────────────────────────────────────────────────────────────────────────────────────────────────────────────────────────────────────────────────────────────────────────────────────────────────────────────────────────────────────────────────────────────────────────────────────────────────────────────────────────X^qconv3───Y^qconv4───Z^qconv5───ZZ^qconv6───YY^qconv7───XX^qconv8──────────────────────────────────────X^qconv12───Y^qconv13───Z^qconv14───────────────────────────────────────────────────────────────────────────────────────────────────────────────────────────────────────────────────────────────────────────────────────────────────────────────────────────────────────────────────────────────────────────────────────────────────────────────────────────────────────────────────────X^qconv24───Y^qconv25───Z^qconv26───ZZ^qconv27───YY^qconv28───XX^qconv29───────────────────────────────────────X^qconv33───Y^qconv34───Z^qconv35──────────────────────────────────────────────────────────────────────────────────────────────────────────────────────────────────────────────────────────────────────────────────────────X^qconv21───Y^qconv22───Z^qconv23───────────────────────────────────────ZZ^qconv27───YY^qconv28───XX^qconv29───X^qconv30───Y^qconv31───Z^qconv32────────────────────────────────────────────────────────────────────────────────────────────────────────────────────────────────────────────────────────────────X^qconv36───Y^qconv37───Z^qconv38───────────────────────────────────────X───Z^(-qconv38)───Y^(-qconv37)───X^(-qconv36)───────────────────────────────────────X^qconv45───Y^qconv46───Z^qconv47───ZZ^qconv48───YY^qconv49───XX^qconv50───────────────────────────────────────X^qconv54───Y^qconv55───Z^qconv56───X^qconv42───Y^qconv43───Z^qconv44───────────────────────────────────────ZZ^qconv48───YY^qconv49───XX^qconv50───X^qconv51───Y^qconv52───Z^qconv53───────────────────────────────────────X^qconv57───Y^qconv58───Z^qconv59───────────────────────────────────────X───Z^(-qconv59)───Y^(-qconv58)───X^(-qconv57)───\n"
          ]
        },
        {
          "output_type": "display_data",
          "data": {
            "text/plain": [
              "<Figure size 914.4x451.44 with 0 Axes>"
            ]
          },
          "metadata": {}
        }
      ],
      "metadata": {
        "colab": {
          "base_uri": "https://localhost:8080/",
          "height": 207
        },
        "id": "kfIyVRdCdfrz",
        "outputId": "b136cd2c-dfdb-463a-9987-3b941f8e2cfa"
      }
    },
    {
      "cell_type": "code",
      "execution_count": 43,
      "source": [
        "model.save_weights(\"quantum_\"+model_type[-1]+\"_CNN_model\")"
      ],
      "outputs": [],
      "metadata": {
        "id": "rLntp6UA_vr2"
      }
    },
    {
      "cell_type": "code",
      "execution_count": null,
      "source": [],
      "outputs": [],
      "metadata": {
        "id": "UM3fVM53hvqm"
      }
    }
  ]
}