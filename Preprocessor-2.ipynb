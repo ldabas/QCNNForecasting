{
  "nbformat": 4,
  "nbformat_minor": 0,
  "metadata": {
    "colab": {
      "name": "Preprocessor.ipynb",
      "provenance": []
    },
    "kernelspec": {
      "name": "python3",
      "display_name": "Python 3"
    },
    "language_info": {
      "name": "python"
    }
  },
  "cells": [
    {
      "cell_type": "code",
      "metadata": {
        "id": "heyTZQnlEXPl",
        "colab": {
          "base_uri": "https://localhost:8080/"
        },
        "outputId": "82ff0e07-816a-403a-c111-892a2216ab55"
      },
      "source": [
        "import pandas as pd\n",
        "import tensorflow as tf\n",
        "from tensorflow import keras\n",
        "from tensorflow.keras import layers\n",
        "from keras.models import Sequential\n",
        "from keras.layers import Dense, Flatten, Conv1D\n",
        "from statsmodels.tsa.seasonal import seasonal_decompose\n",
        "from statsmodels.multivariate.pca import PCA\n",
        "from sklearn.ensemble import RandomForestRegressor\n",
        "import matplotlib.pyplot as plt\n",
        "from sklearn.preprocessing import StandardScaler\n",
        "from math import sqrt\n",
        "from statsmodels.tsa.api import ExponentialSmoothing\n",
        "from statsmodels.tsa.holtwinters import SimpleExpSmoothing, Holt\n",
        "from statsmodels.tsa.api import VAR\n",
        "import numpy as np\n",
        "import seaborn as sns\n",
        "\n",
        "path = \"./raw_data/\""
      ],
      "execution_count": 2,
      "outputs": [
        {
          "output_type": "stream",
          "name": "stderr",
          "text": [
            "/usr/local/lib/python3.7/dist-packages/statsmodels/tools/_testing.py:19: FutureWarning: pandas.util.testing is deprecated. Use the functions in the public API at pandas.testing instead.\n",
            "  import pandas.util.testing as tm\n"
          ]
        }
      ]
    },
    {
      "cell_type": "code",
      "metadata": {
        "id": "DupaabEoR0nV"
      },
      "source": [
        "df1201 = pd.read_excel(path+\"Analysisprogram_1201_final.xls\", index_col=None, header=0)\n",
        "df1201 = df1201[9:40]\n",
        "df1202 = pd.read_excel(path+\"Analysisprogram_1202_final.xls\", index_col=None, header=0)\n",
        "df1202 = df1202[9:38]\n",
        "df1203 = pd.read_excel(path+\"Analysisprogram_1203_final.xls\", index_col=None, header=0)\n",
        "df1203 = df1203[9:40]\n",
        "df1204 = pd.read_excel(path+\"Analysisprogram_1204_final.xls\", index_col=None, header=0)\n",
        "df1204 = df1204[9:39]\n",
        "df1205 = pd.read_excel(path+\"Analysisprogram_1205_final.xls\", index_col=None, header=0)\n",
        "df1205 = df1205[9:40]\n",
        "df1206 = pd.read_excel(path+\"Analysisprogram_1206_final.xls\", index_col=None, header=0)\n",
        "df1206 = df1206[9:39]\n",
        "df1207 = pd.read_excel(path+\"Analysisprogram_1207_final.xls\", index_col=None, header=0)\n",
        "df1207 = df1207[9:40]\n",
        "df1208 = pd.read_excel(path+\"Analysisprogram_1208_final.xls\", index_col=None, header=0)\n",
        "df1208 = df1208[9:40]\n",
        "df1209 = pd.read_excel(path+\"Analysisprogram_1209_final.xls\", index_col=None, header=0)\n",
        "df1209 = df1209[9:39]\n",
        "df1210 = pd.read_excel(path+\"Analysisprogram_1210_final.xls\", index_col=None, header=0)\n",
        "df1210 = df1210[9:40]\n",
        "df1211 = pd.read_excel(path+\"Analysisprogram_1211_final.xls\", index_col=None, header=0)\n",
        "df1211 = df1211[9:39]\n",
        "df1212 = pd.read_excel(path+\"Analysisprogram_1212_final.xls\", index_col=None, header=0)\n",
        "df1212 = df1212[9:40]\n",
        "df1301 = pd.read_excel(path+\"Analysisprogram_1301_final.xls\", index_col=None, header=0)\n",
        "df1301 = df1301[9:40]\n",
        "df1302 = pd.read_excel(path+\"Analysisprogram_1302_final.xls\", index_col=None, header=0)\n",
        "df1302 = df1302[9:37]\n",
        "df1303 = pd.read_excel(path+\"Analysisprogram_1303_final.xls\", index_col=None, header=0)\n",
        "df1303 = df1303[9:40]\n",
        "df1304 = pd.read_excel(path+\"Analysisprogram_1304_final.xls\", index_col=None, header=0)\n",
        "df1304 = df1304[9:39]\n",
        "df1305 = pd.read_excel(path+\"Analysisprogram_1305_final.xls\", index_col=None, header=0)\n",
        "df1305 = df1305[9:40]\n",
        "df1306 = pd.read_excel(path+\"Analysisprogram_1306_final.xls\", index_col=None, header=0)\n",
        "df1306 = df1306[9:39]\n",
        "df1307 = pd.read_excel(path+\"Analysisprogram_1307_final.xls\", index_col=None, header=0)\n",
        "df1307 = df1307[9:40]\n",
        "df1308 = pd.read_excel(path+\"Analysisprogram_1308_final.xls\", index_col=None, header=0)\n",
        "df1308 = df1308[9:40]\n",
        "df1309 = pd.read_excel(path+\"Analysisprogram_1309_final.xls\", index_col=None, header=0)\n",
        "df1309 = df1309[9:39]\n",
        "df1310 = pd.read_excel(path+\"Analysisprogram_1310_final.xls\", index_col=None, header=0)\n",
        "df1310 = df1310[9:40]\n",
        "df1311= pd.read_excel(path+\"Analysisprogram_1311_final.xls\", index_col=None, header=0)\n",
        "df1311 = df1311[9:39]\n",
        "df1312 = pd.read_excel(path+\"Analysisprogram_1312_final.xls\", index_col=None, header=0)\n",
        "df1312 = df1312[9:40]\n",
        "df1401 = pd.read_excel(path+\"Analysisprogram_1401_final.xls\", index_col=None, header=0)\n",
        "df1401 = df1401[9:40]\n",
        "df1402 = pd.read_excel(path+\"Analysisprogram_1402_final.xls\", index_col=None, header=0)\n",
        "df1402 = df1402[9:37]\n",
        "df1403 = pd.read_excel(path+\"Analysisprogram_1403_final.xls\", index_col=None, header=0)\n",
        "df1403 = df1403[9:40]\n",
        "df1404 = pd.read_excel(path+\"Analysisprogram_1404_final.xls\", index_col=None, header=0)\n",
        "df1404 = df1404[9:39]"
      ],
      "execution_count": null,
      "outputs": []
    },
    {
      "cell_type": "code",
      "metadata": {
        "id": "eClyugCAWMRB"
      },
      "source": [
        "concatenated_df = pd.concat([df1201,df1202,df1203,df1204,df1205,df1206,df1207,df1208,df1209,df1210,df1211,df1212,\n",
        "                     df1301,df1302,df1303,df1304,df1305,df1306,df1307,df1308,df1309,df1310,df1311,df1312,\n",
        "                     df1401,df1402,df1403,df1404 ],ignore_index=True)"
      ],
      "execution_count": null,
      "outputs": []
    },
    {
      "cell_type": "code",
      "metadata": {
        "id": "hFykna0fSbL_"
      },
      "source": [
        "# MAKE DTI OBJECT, USE AS INDEX FOR PREP1DF\n",
        "\n",
        "concatenated_df.to_csv(\"prep1df_ver_1.csv\")"
      ],
      "execution_count": null,
      "outputs": []
    },
    {
      "cell_type": "code",
      "metadata": {
        "colab": {
          "base_uri": "https://localhost:8080/"
        },
        "id": "QRi5fOwhNGVt",
        "outputId": "307ad6e0-a644-4ef0-b374-f0243166d988"
      },
      "source": [
        "prep1df = pd.read_csv(\"prep1df_renamed.csv\")#, index_col=0)#Changed Column Names in Excel\n",
        "prep1df.rename(columns={'Unnamed: 0':'Date'}, inplace=True)\n",
        "prep1df.drop(columns=[\"Day\"],inplace=True)\n",
        "dti = pd.date_range(\"2012-01-01\", periods=851, freq=\"D\")\n",
        "prep1df.Date = dti\n",
        "prep1df.set_index('Date', inplace=True)\n",
        "missing_values = prep1df.isna().sum().sort_values(ascending=False)\n",
        "missing_values.head(26)"
      ],
      "execution_count": null,
      "outputs": [
        {
          "output_type": "execute_result",
          "data": {
            "text/plain": [
              "CAKE                                                851\n",
              "SONIC_TWAS_DDCOD_WEEK                               851\n",
              "TWAS_DAF_Q2_DAY                                     851\n",
              "TWAS_CENT_Q3_DAY                                    851\n",
              "DIG_SLUDGE_DEWATER_FEED                             851\n",
              "SONIC_TWAS_Q_DAY                                    851\n",
              "CH4CONTENT_WEEKLY                                   806\n",
              "TWAS_CENT_VS_DAY                                    484\n",
              "TWAS_CENT_DS_DAY                                    460\n",
              "DIG_SLUDGE_DEWATER_PLYMER_CONSUMPTION_3_PER_WEEK    432\n",
              "TWAS_DAF_VS_DAY                                     347\n",
              "DIGESTED_SLUDGE_VS_3_PER_WEEK                       338\n",
              "TPS_VS_DAY                                          333\n",
              "TWAS_DAF_DS_DAY                                     325\n",
              "PS_VS_DAY                                           324\n",
              "DIGESTED_SLUDGE_DS_3_PER_WEEK                       314\n",
              "TPS_DS_DAY                                          311\n",
              "PS_DS_DAY                                           301\n",
              "DIG_SLUDGE_DEWATER_DS_AFTER_DEWATER_3_PER_WEEK       56\n",
              "DIG_SLUDGE_DEWATER_FECL3_DAY                          6\n",
              "TPS_Q1_DAY                                            1\n",
              "PS_Q_DAY                                              1\n",
              "DIGESTED_SLUDGE_QOUT_DAY                              0\n",
              "TWAS_DAF_QIN_DAY                                      0\n",
              "BIOGAS_PRODUCTION_Q_DAY                               0\n",
              "dtype: int64"
            ]
          },
          "metadata": {},
          "execution_count": 9
        }
      ]
    },
    {
      "cell_type": "code",
      "metadata": {
        "colab": {
          "base_uri": "https://localhost:8080/",
          "height": 640
        },
        "id": "ZbYeL_qETwYm",
        "outputId": "95c0e3d2-6967-4564-91aa-74f59373c55a"
      },
      "source": [
        "prep1df"
      ],
      "execution_count": null,
      "outputs": [
        {
          "output_type": "execute_result",
          "data": {
            "text/html": [
              "<div>\n",
              "<style scoped>\n",
              "    .dataframe tbody tr th:only-of-type {\n",
              "        vertical-align: middle;\n",
              "    }\n",
              "\n",
              "    .dataframe tbody tr th {\n",
              "        vertical-align: top;\n",
              "    }\n",
              "\n",
              "    .dataframe thead th {\n",
              "        text-align: right;\n",
              "    }\n",
              "</style>\n",
              "<table border=\"1\" class=\"dataframe\">\n",
              "  <thead>\n",
              "    <tr style=\"text-align: right;\">\n",
              "      <th></th>\n",
              "      <th>PS_Q_DAY</th>\n",
              "      <th>PS_DS_DAY</th>\n",
              "      <th>PS_VS_DAY</th>\n",
              "      <th>TPS_Q1_DAY</th>\n",
              "      <th>TPS_DS_DAY</th>\n",
              "      <th>TPS_VS_DAY</th>\n",
              "      <th>TWAS_DAF_QIN_DAY</th>\n",
              "      <th>TWAS_DAF_Q2_DAY</th>\n",
              "      <th>TWAS_DAF_DS_DAY</th>\n",
              "      <th>TWAS_DAF_VS_DAY</th>\n",
              "      <th>TWAS_CENT_Q3_DAY</th>\n",
              "      <th>TWAS_CENT_DS_DAY</th>\n",
              "      <th>TWAS_CENT_VS_DAY</th>\n",
              "      <th>SONIC_TWAS_Q_DAY</th>\n",
              "      <th>SONIC_TWAS_DDCOD_WEEK</th>\n",
              "      <th>DIGESTED_SLUDGE_QOUT_DAY</th>\n",
              "      <th>DIGESTED_SLUDGE_DS_3_PER_WEEK</th>\n",
              "      <th>DIGESTED_SLUDGE_VS_3_PER_WEEK</th>\n",
              "      <th>BIOGAS_PRODUCTION_Q_DAY</th>\n",
              "      <th>CH4CONTENT_WEEKLY</th>\n",
              "      <th>DIG_SLUDGE_DEWATER_FEED</th>\n",
              "      <th>DIG_SLUDGE_DEWATER_FECL3_DAY</th>\n",
              "      <th>DIG_SLUDGE_DEWATER_PLYMER_CONSUMPTION_3_PER_WEEK</th>\n",
              "      <th>DIG_SLUDGE_DEWATER_DS_AFTER_DEWATER_3_PER_WEEK</th>\n",
              "      <th>CAKE</th>\n",
              "    </tr>\n",
              "    <tr>\n",
              "      <th>Date</th>\n",
              "      <th></th>\n",
              "      <th></th>\n",
              "      <th></th>\n",
              "      <th></th>\n",
              "      <th></th>\n",
              "      <th></th>\n",
              "      <th></th>\n",
              "      <th></th>\n",
              "      <th></th>\n",
              "      <th></th>\n",
              "      <th></th>\n",
              "      <th></th>\n",
              "      <th></th>\n",
              "      <th></th>\n",
              "      <th></th>\n",
              "      <th></th>\n",
              "      <th></th>\n",
              "      <th></th>\n",
              "      <th></th>\n",
              "      <th></th>\n",
              "      <th></th>\n",
              "      <th></th>\n",
              "      <th></th>\n",
              "      <th></th>\n",
              "      <th></th>\n",
              "    </tr>\n",
              "  </thead>\n",
              "  <tbody>\n",
              "    <tr>\n",
              "      <th>2012-01-01</th>\n",
              "      <td>1197.0</td>\n",
              "      <td>NaN</td>\n",
              "      <td>NaN</td>\n",
              "      <td>199.5</td>\n",
              "      <td>NaN</td>\n",
              "      <td>NaN</td>\n",
              "      <td>242.5</td>\n",
              "      <td>NaN</td>\n",
              "      <td>NaN</td>\n",
              "      <td>NaN</td>\n",
              "      <td>NaN</td>\n",
              "      <td>NaN</td>\n",
              "      <td>NaN</td>\n",
              "      <td>NaN</td>\n",
              "      <td>NaN</td>\n",
              "      <td>414</td>\n",
              "      <td>NaN</td>\n",
              "      <td>NaN</td>\n",
              "      <td>5.064</td>\n",
              "      <td>NaN</td>\n",
              "      <td>NaN</td>\n",
              "      <td>5600.0</td>\n",
              "      <td>NaN</td>\n",
              "      <td>32.1</td>\n",
              "      <td>NaN</td>\n",
              "    </tr>\n",
              "    <tr>\n",
              "      <th>2012-01-02</th>\n",
              "      <td>1197.0</td>\n",
              "      <td>NaN</td>\n",
              "      <td>NaN</td>\n",
              "      <td>199.5</td>\n",
              "      <td>NaN</td>\n",
              "      <td>NaN</td>\n",
              "      <td>165.5</td>\n",
              "      <td>NaN</td>\n",
              "      <td>NaN</td>\n",
              "      <td>NaN</td>\n",
              "      <td>NaN</td>\n",
              "      <td>NaN</td>\n",
              "      <td>NaN</td>\n",
              "      <td>NaN</td>\n",
              "      <td>NaN</td>\n",
              "      <td>392</td>\n",
              "      <td>NaN</td>\n",
              "      <td>NaN</td>\n",
              "      <td>5.293</td>\n",
              "      <td>NaN</td>\n",
              "      <td>NaN</td>\n",
              "      <td>2800.0</td>\n",
              "      <td>NaN</td>\n",
              "      <td>32.1</td>\n",
              "      <td>NaN</td>\n",
              "    </tr>\n",
              "    <tr>\n",
              "      <th>2012-01-03</th>\n",
              "      <td>1197.0</td>\n",
              "      <td>0.18</td>\n",
              "      <td>60.00</td>\n",
              "      <td>199.5</td>\n",
              "      <td>2.01</td>\n",
              "      <td>89.13</td>\n",
              "      <td>241.5</td>\n",
              "      <td>NaN</td>\n",
              "      <td>5.01</td>\n",
              "      <td>87.25</td>\n",
              "      <td>NaN</td>\n",
              "      <td>NaN</td>\n",
              "      <td>NaN</td>\n",
              "      <td>NaN</td>\n",
              "      <td>NaN</td>\n",
              "      <td>428</td>\n",
              "      <td>2.09</td>\n",
              "      <td>77.85</td>\n",
              "      <td>5.609</td>\n",
              "      <td>NaN</td>\n",
              "      <td>NaN</td>\n",
              "      <td>4200.0</td>\n",
              "      <td>3.865907</td>\n",
              "      <td>32.1</td>\n",
              "      <td>NaN</td>\n",
              "    </tr>\n",
              "    <tr>\n",
              "      <th>2012-01-04</th>\n",
              "      <td>1197.0</td>\n",
              "      <td>0.57</td>\n",
              "      <td>81.81</td>\n",
              "      <td>170.0</td>\n",
              "      <td>2.91</td>\n",
              "      <td>91.30</td>\n",
              "      <td>194.0</td>\n",
              "      <td>NaN</td>\n",
              "      <td>5.48</td>\n",
              "      <td>82.17</td>\n",
              "      <td>NaN</td>\n",
              "      <td>2.78</td>\n",
              "      <td>82.92</td>\n",
              "      <td>NaN</td>\n",
              "      <td>NaN</td>\n",
              "      <td>354</td>\n",
              "      <td>1.88</td>\n",
              "      <td>NaN</td>\n",
              "      <td>4.470</td>\n",
              "      <td>NaN</td>\n",
              "      <td>NaN</td>\n",
              "      <td>5600.0</td>\n",
              "      <td>4.399710</td>\n",
              "      <td>31.8</td>\n",
              "      <td>NaN</td>\n",
              "    </tr>\n",
              "    <tr>\n",
              "      <th>2012-01-05</th>\n",
              "      <td>1197.0</td>\n",
              "      <td>0.45</td>\n",
              "      <td>72.72</td>\n",
              "      <td>199.5</td>\n",
              "      <td>3.17</td>\n",
              "      <td>91.22</td>\n",
              "      <td>193.5</td>\n",
              "      <td>NaN</td>\n",
              "      <td>5.36</td>\n",
              "      <td>84.78</td>\n",
              "      <td>NaN</td>\n",
              "      <td>3.98</td>\n",
              "      <td>81.73</td>\n",
              "      <td>NaN</td>\n",
              "      <td>NaN</td>\n",
              "      <td>383</td>\n",
              "      <td>2.05</td>\n",
              "      <td>77.41</td>\n",
              "      <td>2.848</td>\n",
              "      <td>NaN</td>\n",
              "      <td>NaN</td>\n",
              "      <td>5600.0</td>\n",
              "      <td>4.509834</td>\n",
              "      <td>31.4</td>\n",
              "      <td>NaN</td>\n",
              "    </tr>\n",
              "    <tr>\n",
              "      <th>...</th>\n",
              "      <td>...</td>\n",
              "      <td>...</td>\n",
              "      <td>...</td>\n",
              "      <td>...</td>\n",
              "      <td>...</td>\n",
              "      <td>...</td>\n",
              "      <td>...</td>\n",
              "      <td>...</td>\n",
              "      <td>...</td>\n",
              "      <td>...</td>\n",
              "      <td>...</td>\n",
              "      <td>...</td>\n",
              "      <td>...</td>\n",
              "      <td>...</td>\n",
              "      <td>...</td>\n",
              "      <td>...</td>\n",
              "      <td>...</td>\n",
              "      <td>...</td>\n",
              "      <td>...</td>\n",
              "      <td>...</td>\n",
              "      <td>...</td>\n",
              "      <td>...</td>\n",
              "      <td>...</td>\n",
              "      <td>...</td>\n",
              "      <td>...</td>\n",
              "    </tr>\n",
              "    <tr>\n",
              "      <th>2014-04-26</th>\n",
              "      <td>711.0</td>\n",
              "      <td>NaN</td>\n",
              "      <td>NaN</td>\n",
              "      <td>199.5</td>\n",
              "      <td>NaN</td>\n",
              "      <td>NaN</td>\n",
              "      <td>271.5</td>\n",
              "      <td>NaN</td>\n",
              "      <td>NaN</td>\n",
              "      <td>NaN</td>\n",
              "      <td>NaN</td>\n",
              "      <td>NaN</td>\n",
              "      <td>NaN</td>\n",
              "      <td>NaN</td>\n",
              "      <td>NaN</td>\n",
              "      <td>470</td>\n",
              "      <td>NaN</td>\n",
              "      <td>NaN</td>\n",
              "      <td>1.824</td>\n",
              "      <td>NaN</td>\n",
              "      <td>NaN</td>\n",
              "      <td>2800.0</td>\n",
              "      <td>NaN</td>\n",
              "      <td>32.0</td>\n",
              "      <td>NaN</td>\n",
              "    </tr>\n",
              "    <tr>\n",
              "      <th>2014-04-27</th>\n",
              "      <td>711.0</td>\n",
              "      <td>NaN</td>\n",
              "      <td>NaN</td>\n",
              "      <td>199.5</td>\n",
              "      <td>NaN</td>\n",
              "      <td>NaN</td>\n",
              "      <td>188.5</td>\n",
              "      <td>NaN</td>\n",
              "      <td>NaN</td>\n",
              "      <td>NaN</td>\n",
              "      <td>NaN</td>\n",
              "      <td>NaN</td>\n",
              "      <td>NaN</td>\n",
              "      <td>NaN</td>\n",
              "      <td>NaN</td>\n",
              "      <td>390</td>\n",
              "      <td>NaN</td>\n",
              "      <td>NaN</td>\n",
              "      <td>1.670</td>\n",
              "      <td>NaN</td>\n",
              "      <td>NaN</td>\n",
              "      <td>1400.0</td>\n",
              "      <td>NaN</td>\n",
              "      <td>30.0</td>\n",
              "      <td>NaN</td>\n",
              "    </tr>\n",
              "    <tr>\n",
              "      <th>2014-04-28</th>\n",
              "      <td>993.0</td>\n",
              "      <td>1.90</td>\n",
              "      <td>84.00</td>\n",
              "      <td>199.5</td>\n",
              "      <td>1.9</td>\n",
              "      <td>85.00</td>\n",
              "      <td>185.5</td>\n",
              "      <td>NaN</td>\n",
              "      <td>2.70</td>\n",
              "      <td>82.00</td>\n",
              "      <td>NaN</td>\n",
              "      <td>4.90</td>\n",
              "      <td>81.00</td>\n",
              "      <td>NaN</td>\n",
              "      <td>NaN</td>\n",
              "      <td>392</td>\n",
              "      <td>1.80</td>\n",
              "      <td>76.00</td>\n",
              "      <td>1.613</td>\n",
              "      <td>NaN</td>\n",
              "      <td>NaN</td>\n",
              "      <td>1400.0</td>\n",
              "      <td>NaN</td>\n",
              "      <td>32.0</td>\n",
              "      <td>NaN</td>\n",
              "    </tr>\n",
              "    <tr>\n",
              "      <th>2014-04-29</th>\n",
              "      <td>823.0</td>\n",
              "      <td>2.10</td>\n",
              "      <td>84.00</td>\n",
              "      <td>199.5</td>\n",
              "      <td>2.1</td>\n",
              "      <td>85.00</td>\n",
              "      <td>180.5</td>\n",
              "      <td>NaN</td>\n",
              "      <td>2.70</td>\n",
              "      <td>83.00</td>\n",
              "      <td>NaN</td>\n",
              "      <td>5.40</td>\n",
              "      <td>81.00</td>\n",
              "      <td>NaN</td>\n",
              "      <td>NaN</td>\n",
              "      <td>387</td>\n",
              "      <td>2.00</td>\n",
              "      <td>76.00</td>\n",
              "      <td>1.943</td>\n",
              "      <td>NaN</td>\n",
              "      <td>NaN</td>\n",
              "      <td>4200.0</td>\n",
              "      <td>NaN</td>\n",
              "      <td>32.0</td>\n",
              "      <td>NaN</td>\n",
              "    </tr>\n",
              "    <tr>\n",
              "      <th>2014-04-30</th>\n",
              "      <td>625.0</td>\n",
              "      <td>1.60</td>\n",
              "      <td>85.00</td>\n",
              "      <td>199.5</td>\n",
              "      <td>1.5</td>\n",
              "      <td>85.00</td>\n",
              "      <td>377.5</td>\n",
              "      <td>NaN</td>\n",
              "      <td>3.10</td>\n",
              "      <td>82.00</td>\n",
              "      <td>NaN</td>\n",
              "      <td>NaN</td>\n",
              "      <td>NaN</td>\n",
              "      <td>NaN</td>\n",
              "      <td>NaN</td>\n",
              "      <td>569</td>\n",
              "      <td>1.90</td>\n",
              "      <td>77.00</td>\n",
              "      <td>1.811</td>\n",
              "      <td>NaN</td>\n",
              "      <td>NaN</td>\n",
              "      <td>4200.0</td>\n",
              "      <td>NaN</td>\n",
              "      <td>29.0</td>\n",
              "      <td>NaN</td>\n",
              "    </tr>\n",
              "  </tbody>\n",
              "</table>\n",
              "<p>851 rows × 25 columns</p>\n",
              "</div>"
            ],
            "text/plain": [
              "            PS_Q_DAY  ...  CAKE\n",
              "Date                  ...      \n",
              "2012-01-01    1197.0  ...   NaN\n",
              "2012-01-02    1197.0  ...   NaN\n",
              "2012-01-03    1197.0  ...   NaN\n",
              "2012-01-04    1197.0  ...   NaN\n",
              "2012-01-05    1197.0  ...   NaN\n",
              "...              ...  ...   ...\n",
              "2014-04-26     711.0  ...   NaN\n",
              "2014-04-27     711.0  ...   NaN\n",
              "2014-04-28     993.0  ...   NaN\n",
              "2014-04-29     823.0  ...   NaN\n",
              "2014-04-30     625.0  ...   NaN\n",
              "\n",
              "[851 rows x 25 columns]"
            ]
          },
          "metadata": {},
          "execution_count": 87
        }
      ]
    },
    {
      "cell_type": "code",
      "metadata": {
        "id": "5IrFiyFJOlCm"
      },
      "source": [
        "prep1df.drop(['CAKE',\n",
        "              'SONIC_TWAS_DDCOD_WEEK',\n",
        "              'DIG_SLUDGE_DEWATER_FEED',\n",
        "              'SONIC_TWAS_Q_DAY',\n",
        "              'CH4CONTENT_WEEKLY',\n",
        "              'TWAS_DAF_Q2_DAY',\n",
        "              'DIG_SLUDGE_DEWATER_PLYMER_CONSUMPTION_3_PER_WEEK',\n",
        "              'TWAS_CENT_Q3_DAY',\n",
        "              \n",
        "              ], axis=1, inplace=True)"
      ],
      "execution_count": null,
      "outputs": []
    },
    {
      "cell_type": "code",
      "metadata": {
        "id": "9CMnMTdHOo7A"
      },
      "source": [
        "\n",
        "prep1df.to_csv(\"better_prepdf.csv\")"
      ],
      "execution_count": null,
      "outputs": []
    },
    {
      "cell_type": "code",
      "metadata": {
        "id": "mLUXKLetdtiC",
        "colab": {
          "base_uri": "https://localhost:8080/",
          "height": 340
        },
        "outputId": "346cd796-0e86-40a7-bc6d-d8172528a92e"
      },
      "source": [
        "prepdf = pd.read_csv('better_prepdf.csv',index_col=0)\n",
        "\n",
        "filled_df = prepdf.copy()\n",
        "prepdf.head()"
      ],
      "execution_count": null,
      "outputs": [
        {
          "output_type": "execute_result",
          "data": {
            "text/html": [
              "<div>\n",
              "<style scoped>\n",
              "    .dataframe tbody tr th:only-of-type {\n",
              "        vertical-align: middle;\n",
              "    }\n",
              "\n",
              "    .dataframe tbody tr th {\n",
              "        vertical-align: top;\n",
              "    }\n",
              "\n",
              "    .dataframe thead th {\n",
              "        text-align: right;\n",
              "    }\n",
              "</style>\n",
              "<table border=\"1\" class=\"dataframe\">\n",
              "  <thead>\n",
              "    <tr style=\"text-align: right;\">\n",
              "      <th></th>\n",
              "      <th>PS_Q_DAY</th>\n",
              "      <th>PS_DS_DAY</th>\n",
              "      <th>PS_VS_DAY</th>\n",
              "      <th>TPS_Q1_DAY</th>\n",
              "      <th>TPS_DS_DAY</th>\n",
              "      <th>TPS_VS_DAY</th>\n",
              "      <th>TWAS_DAF_QIN_DAY</th>\n",
              "      <th>TWAS_DAF_DS_DAY</th>\n",
              "      <th>TWAS_DAF_VS_DAY</th>\n",
              "      <th>TWAS_CENT_DS_DAY</th>\n",
              "      <th>TWAS_CENT_VS_DAY</th>\n",
              "      <th>DIGESTED_SLUDGE_QOUT_DAY</th>\n",
              "      <th>DIGESTED_SLUDGE_DS_3_PER_WEEK</th>\n",
              "      <th>DIGESTED_SLUDGE_VS_3_PER_WEEK</th>\n",
              "      <th>BIOGAS_PRODUCTION_Q_DAY</th>\n",
              "      <th>DIG_SLUDGE_DEWATER_FECL3_DAY</th>\n",
              "      <th>DIG_SLUDGE_DEWATER_DS_AFTER_DEWATER_3_PER_WEEK</th>\n",
              "    </tr>\n",
              "    <tr>\n",
              "      <th>Date</th>\n",
              "      <th></th>\n",
              "      <th></th>\n",
              "      <th></th>\n",
              "      <th></th>\n",
              "      <th></th>\n",
              "      <th></th>\n",
              "      <th></th>\n",
              "      <th></th>\n",
              "      <th></th>\n",
              "      <th></th>\n",
              "      <th></th>\n",
              "      <th></th>\n",
              "      <th></th>\n",
              "      <th></th>\n",
              "      <th></th>\n",
              "      <th></th>\n",
              "      <th></th>\n",
              "    </tr>\n",
              "  </thead>\n",
              "  <tbody>\n",
              "    <tr>\n",
              "      <th>2012-01-01</th>\n",
              "      <td>1197.0</td>\n",
              "      <td>NaN</td>\n",
              "      <td>NaN</td>\n",
              "      <td>199.5</td>\n",
              "      <td>NaN</td>\n",
              "      <td>NaN</td>\n",
              "      <td>242.5</td>\n",
              "      <td>NaN</td>\n",
              "      <td>NaN</td>\n",
              "      <td>NaN</td>\n",
              "      <td>NaN</td>\n",
              "      <td>414</td>\n",
              "      <td>NaN</td>\n",
              "      <td>NaN</td>\n",
              "      <td>5.064</td>\n",
              "      <td>5600.0</td>\n",
              "      <td>32.1</td>\n",
              "    </tr>\n",
              "    <tr>\n",
              "      <th>2012-01-02</th>\n",
              "      <td>1197.0</td>\n",
              "      <td>NaN</td>\n",
              "      <td>NaN</td>\n",
              "      <td>199.5</td>\n",
              "      <td>NaN</td>\n",
              "      <td>NaN</td>\n",
              "      <td>165.5</td>\n",
              "      <td>NaN</td>\n",
              "      <td>NaN</td>\n",
              "      <td>NaN</td>\n",
              "      <td>NaN</td>\n",
              "      <td>392</td>\n",
              "      <td>NaN</td>\n",
              "      <td>NaN</td>\n",
              "      <td>5.293</td>\n",
              "      <td>2800.0</td>\n",
              "      <td>32.1</td>\n",
              "    </tr>\n",
              "    <tr>\n",
              "      <th>2012-01-03</th>\n",
              "      <td>1197.0</td>\n",
              "      <td>0.18</td>\n",
              "      <td>60.00</td>\n",
              "      <td>199.5</td>\n",
              "      <td>2.01</td>\n",
              "      <td>89.13</td>\n",
              "      <td>241.5</td>\n",
              "      <td>5.01</td>\n",
              "      <td>87.25</td>\n",
              "      <td>NaN</td>\n",
              "      <td>NaN</td>\n",
              "      <td>428</td>\n",
              "      <td>2.09</td>\n",
              "      <td>77.85</td>\n",
              "      <td>5.609</td>\n",
              "      <td>4200.0</td>\n",
              "      <td>32.1</td>\n",
              "    </tr>\n",
              "    <tr>\n",
              "      <th>2012-01-04</th>\n",
              "      <td>1197.0</td>\n",
              "      <td>0.57</td>\n",
              "      <td>81.81</td>\n",
              "      <td>170.0</td>\n",
              "      <td>2.91</td>\n",
              "      <td>91.30</td>\n",
              "      <td>194.0</td>\n",
              "      <td>5.48</td>\n",
              "      <td>82.17</td>\n",
              "      <td>2.78</td>\n",
              "      <td>82.92</td>\n",
              "      <td>354</td>\n",
              "      <td>1.88</td>\n",
              "      <td>NaN</td>\n",
              "      <td>4.470</td>\n",
              "      <td>5600.0</td>\n",
              "      <td>31.8</td>\n",
              "    </tr>\n",
              "    <tr>\n",
              "      <th>2012-01-05</th>\n",
              "      <td>1197.0</td>\n",
              "      <td>0.45</td>\n",
              "      <td>72.72</td>\n",
              "      <td>199.5</td>\n",
              "      <td>3.17</td>\n",
              "      <td>91.22</td>\n",
              "      <td>193.5</td>\n",
              "      <td>5.36</td>\n",
              "      <td>84.78</td>\n",
              "      <td>3.98</td>\n",
              "      <td>81.73</td>\n",
              "      <td>383</td>\n",
              "      <td>2.05</td>\n",
              "      <td>77.41</td>\n",
              "      <td>2.848</td>\n",
              "      <td>5600.0</td>\n",
              "      <td>31.4</td>\n",
              "    </tr>\n",
              "  </tbody>\n",
              "</table>\n",
              "</div>"
            ],
            "text/plain": [
              "            PS_Q_DAY  ...  DIG_SLUDGE_DEWATER_DS_AFTER_DEWATER_3_PER_WEEK\n",
              "Date                  ...                                                \n",
              "2012-01-01    1197.0  ...                                            32.1\n",
              "2012-01-02    1197.0  ...                                            32.1\n",
              "2012-01-03    1197.0  ...                                            32.1\n",
              "2012-01-04    1197.0  ...                                            31.8\n",
              "2012-01-05    1197.0  ...                                            31.4\n",
              "\n",
              "[5 rows x 17 columns]"
            ]
          },
          "metadata": {},
          "execution_count": 13
        }
      ]
    },
    {
      "cell_type": "code",
      "metadata": {
        "colab": {
          "base_uri": "https://localhost:8080/",
          "height": 576
        },
        "id": "96uYilj6AuzX",
        "outputId": "136b7e2b-5405-45cc-8f5f-eaaa85f8bcde"
      },
      "source": [
        "percent_missing = filled_df.isnull().sum() * 100 / len(filled_df)\n",
        "missing_value_df = pd.DataFrame({'percent_missing': percent_missing})\n",
        "missing_value_df"
      ],
      "execution_count": null,
      "outputs": [
        {
          "output_type": "execute_result",
          "data": {
            "text/html": [
              "<div>\n",
              "<style scoped>\n",
              "    .dataframe tbody tr th:only-of-type {\n",
              "        vertical-align: middle;\n",
              "    }\n",
              "\n",
              "    .dataframe tbody tr th {\n",
              "        vertical-align: top;\n",
              "    }\n",
              "\n",
              "    .dataframe thead th {\n",
              "        text-align: right;\n",
              "    }\n",
              "</style>\n",
              "<table border=\"1\" class=\"dataframe\">\n",
              "  <thead>\n",
              "    <tr style=\"text-align: right;\">\n",
              "      <th></th>\n",
              "      <th>percent_missing</th>\n",
              "    </tr>\n",
              "  </thead>\n",
              "  <tbody>\n",
              "    <tr>\n",
              "      <th>PS_Q_DAY</th>\n",
              "      <td>0.117509</td>\n",
              "    </tr>\n",
              "    <tr>\n",
              "      <th>PS_DS_DAY</th>\n",
              "      <td>35.370153</td>\n",
              "    </tr>\n",
              "    <tr>\n",
              "      <th>PS_VS_DAY</th>\n",
              "      <td>38.072855</td>\n",
              "    </tr>\n",
              "    <tr>\n",
              "      <th>TPS_Q1_DAY</th>\n",
              "      <td>0.117509</td>\n",
              "    </tr>\n",
              "    <tr>\n",
              "      <th>TPS_DS_DAY</th>\n",
              "      <td>36.545241</td>\n",
              "    </tr>\n",
              "    <tr>\n",
              "      <th>TPS_VS_DAY</th>\n",
              "      <td>39.130435</td>\n",
              "    </tr>\n",
              "    <tr>\n",
              "      <th>TWAS_DAF_QIN_DAY</th>\n",
              "      <td>0.000000</td>\n",
              "    </tr>\n",
              "    <tr>\n",
              "      <th>TWAS_DAF_DS_DAY</th>\n",
              "      <td>38.190364</td>\n",
              "    </tr>\n",
              "    <tr>\n",
              "      <th>TWAS_DAF_VS_DAY</th>\n",
              "      <td>40.775558</td>\n",
              "    </tr>\n",
              "    <tr>\n",
              "      <th>TWAS_CENT_DS_DAY</th>\n",
              "      <td>54.054054</td>\n",
              "    </tr>\n",
              "    <tr>\n",
              "      <th>TWAS_CENT_VS_DAY</th>\n",
              "      <td>56.874266</td>\n",
              "    </tr>\n",
              "    <tr>\n",
              "      <th>DIGESTED_SLUDGE_QOUT_DAY</th>\n",
              "      <td>0.000000</td>\n",
              "    </tr>\n",
              "    <tr>\n",
              "      <th>DIGESTED_SLUDGE_DS_3_PER_WEEK</th>\n",
              "      <td>36.897767</td>\n",
              "    </tr>\n",
              "    <tr>\n",
              "      <th>DIGESTED_SLUDGE_VS_3_PER_WEEK</th>\n",
              "      <td>39.717979</td>\n",
              "    </tr>\n",
              "    <tr>\n",
              "      <th>BIOGAS_PRODUCTION_Q_DAY</th>\n",
              "      <td>0.000000</td>\n",
              "    </tr>\n",
              "    <tr>\n",
              "      <th>DIG_SLUDGE_DEWATER_FECL3_DAY</th>\n",
              "      <td>0.705053</td>\n",
              "    </tr>\n",
              "    <tr>\n",
              "      <th>DIG_SLUDGE_DEWATER_DS_AFTER_DEWATER_3_PER_WEEK</th>\n",
              "      <td>6.580494</td>\n",
              "    </tr>\n",
              "  </tbody>\n",
              "</table>\n",
              "</div>"
            ],
            "text/plain": [
              "                                                percent_missing\n",
              "PS_Q_DAY                                               0.117509\n",
              "PS_DS_DAY                                             35.370153\n",
              "PS_VS_DAY                                             38.072855\n",
              "TPS_Q1_DAY                                             0.117509\n",
              "TPS_DS_DAY                                            36.545241\n",
              "TPS_VS_DAY                                            39.130435\n",
              "TWAS_DAF_QIN_DAY                                       0.000000\n",
              "TWAS_DAF_DS_DAY                                       38.190364\n",
              "TWAS_DAF_VS_DAY                                       40.775558\n",
              "TWAS_CENT_DS_DAY                                      54.054054\n",
              "TWAS_CENT_VS_DAY                                      56.874266\n",
              "DIGESTED_SLUDGE_QOUT_DAY                               0.000000\n",
              "DIGESTED_SLUDGE_DS_3_PER_WEEK                         36.897767\n",
              "DIGESTED_SLUDGE_VS_3_PER_WEEK                         39.717979\n",
              "BIOGAS_PRODUCTION_Q_DAY                                0.000000\n",
              "DIG_SLUDGE_DEWATER_FECL3_DAY                           0.705053\n",
              "DIG_SLUDGE_DEWATER_DS_AFTER_DEWATER_3_PER_WEEK         6.580494"
            ]
          },
          "metadata": {},
          "execution_count": 14
        }
      ]
    },
    {
      "cell_type": "code",
      "metadata": {
        "id": "0w1LKuOQIiiD"
      },
      "source": [
        "# Drop Columns with sparsity >35%\n",
        "prepdf_nonpca = prepdf.copy()\n",
        "prepdf_nonpca.drop(columns=['TWAS_DAF_DS_DAY', 'TWAS_DAF_VS_DAY', 'TWAS_CENT_VS_DAY', 'PS_DS_DAY','TWAS_CENT_DS_DAY','TPS_VS_DAY', 'DIG_SLUDGE_DEWATER_FECL3_DAY', 'DIGESTED_SLUDGE_DS_3_PER_WEEK', 'PS_VS_DAY','TPS_DS_DAY', 'DIGESTED_SLUDGE_VS_3_PER_WEEK' ], inplace=True)\n",
        "filled_df = prepdf_nonpca.copy()"
      ],
      "execution_count": null,
      "outputs": []
    },
    {
      "cell_type": "code",
      "metadata": {
        "id": "Oiaw8BXNLNGU"
      },
      "source": [
        "\n",
        "prepdf_nonpca = prepdf_nonpca.reset_index()\n"
      ],
      "execution_count": null,
      "outputs": []
    },
    {
      "cell_type": "code",
      "metadata": {
        "colab": {
          "base_uri": "https://localhost:8080/"
        },
        "id": "Om1VssMfKaYw",
        "outputId": "c2b57015-f276-4100-ebae-00e5792da3ca"
      },
      "source": [
        "# PS_Q_DAY\n",
        "df_PS_Q_DAY = prepdf_nonpca.drop(columns=['DIG_SLUDGE_DEWATER_DS_AFTER_DEWATER_3_PER_WEEK', 'TPS_Q1_DAY'])\n",
        "\n",
        "df_PS_Q_DAYWith = df_PS_Q_DAY[pd.isnull(df_PS_Q_DAY['PS_Q_DAY']) == False]\n",
        "df_PS_Q_DAYWithout = df_PS_Q_DAY[pd.isnull(df_PS_Q_DAY['PS_Q_DAY'])]\n",
        "\n",
        "variables = ['PS_Q_DAY', 'TWAS_DAF_QIN_DAY', 'DIGESTED_SLUDGE_QOUT_DAY', 'BIOGAS_PRODUCTION_Q_DAY']\n",
        "\n",
        "independentVariables = ['TWAS_DAF_QIN_DAY', 'DIGESTED_SLUDGE_QOUT_DAY', 'BIOGAS_PRODUCTION_Q_DAY']\n",
        "\n",
        "rfModel_PS_Q_DAY = RandomForestRegressor()\n",
        "rfModel_PS_Q_DAY.fit(df_PS_Q_DAYWith[independentVariables], df_PS_Q_DAYWith['PS_Q_DAY'])\n",
        "\n",
        "generatedPS_Q_DAYValues = rfModel_PS_Q_DAY.predict(X = df_PS_Q_DAYWithout[independentVariables])\n",
        "\n",
        "print(generatedPS_Q_DAYValues)\n",
        "df_PS_Q_DAYWithout['PS_Q_DAY'] = generatedPS_Q_DAYValues.astype(float)\n",
        "data = df_PS_Q_DAYWith.append(df_PS_Q_DAYWithout)\n",
        "\n",
        "data.reset_index(inplace=True)\n",
        "data.drop('index',inplace=True,axis=1)\n",
        "\n",
        "data.set_index('Date', inplace=True)\n",
        "data = data.sort_index(ascending=True)\n",
        "\n",
        "filled_df['PS_Q_DAY'] = data['PS_Q_DAY']"
      ],
      "execution_count": null,
      "outputs": [
        {
          "output_type": "stream",
          "text": [
            "[1025.4126]\n"
          ],
          "name": "stdout"
        },
        {
          "output_type": "stream",
          "text": [
            "/usr/local/lib/python3.7/dist-packages/ipykernel_launcher.py:17: SettingWithCopyWarning: \n",
            "A value is trying to be set on a copy of a slice from a DataFrame.\n",
            "Try using .loc[row_indexer,col_indexer] = value instead\n",
            "\n",
            "See the caveats in the documentation: https://pandas.pydata.org/pandas-docs/stable/user_guide/indexing.html#returning-a-view-versus-a-copy\n"
          ],
          "name": "stderr"
        }
      ]
    },
    {
      "cell_type": "code",
      "metadata": {
        "colab": {
          "base_uri": "https://localhost:8080/",
          "height": 235
        },
        "id": "ct-vcJFwK_qU",
        "outputId": "6cec4e53-535b-4ac8-d464-f0607ff0c43e"
      },
      "source": [
        "percent_missing = filled_df.isnull().sum() * 100 / len(filled_df)\n",
        "missing_value_df = pd.DataFrame({'percent_missing': percent_missing})\n",
        "missing_value_df"
      ],
      "execution_count": null,
      "outputs": [
        {
          "output_type": "execute_result",
          "data": {
            "text/html": [
              "<div>\n",
              "<style scoped>\n",
              "    .dataframe tbody tr th:only-of-type {\n",
              "        vertical-align: middle;\n",
              "    }\n",
              "\n",
              "    .dataframe tbody tr th {\n",
              "        vertical-align: top;\n",
              "    }\n",
              "\n",
              "    .dataframe thead th {\n",
              "        text-align: right;\n",
              "    }\n",
              "</style>\n",
              "<table border=\"1\" class=\"dataframe\">\n",
              "  <thead>\n",
              "    <tr style=\"text-align: right;\">\n",
              "      <th></th>\n",
              "      <th>percent_missing</th>\n",
              "    </tr>\n",
              "  </thead>\n",
              "  <tbody>\n",
              "    <tr>\n",
              "      <th>PS_Q_DAY</th>\n",
              "      <td>0.000000</td>\n",
              "    </tr>\n",
              "    <tr>\n",
              "      <th>TPS_Q1_DAY</th>\n",
              "      <td>0.117509</td>\n",
              "    </tr>\n",
              "    <tr>\n",
              "      <th>TWAS_DAF_QIN_DAY</th>\n",
              "      <td>0.000000</td>\n",
              "    </tr>\n",
              "    <tr>\n",
              "      <th>DIGESTED_SLUDGE_QOUT_DAY</th>\n",
              "      <td>0.000000</td>\n",
              "    </tr>\n",
              "    <tr>\n",
              "      <th>BIOGAS_PRODUCTION_Q_DAY</th>\n",
              "      <td>0.000000</td>\n",
              "    </tr>\n",
              "    <tr>\n",
              "      <th>DIG_SLUDGE_DEWATER_DS_AFTER_DEWATER_3_PER_WEEK</th>\n",
              "      <td>6.580494</td>\n",
              "    </tr>\n",
              "  </tbody>\n",
              "</table>\n",
              "</div>"
            ],
            "text/plain": [
              "                                                percent_missing\n",
              "PS_Q_DAY                                               0.000000\n",
              "TPS_Q1_DAY                                             0.117509\n",
              "TWAS_DAF_QIN_DAY                                       0.000000\n",
              "DIGESTED_SLUDGE_QOUT_DAY                               0.000000\n",
              "BIOGAS_PRODUCTION_Q_DAY                                0.000000\n",
              "DIG_SLUDGE_DEWATER_DS_AFTER_DEWATER_3_PER_WEEK         6.580494"
            ]
          },
          "metadata": {},
          "execution_count": 18
        }
      ]
    },
    {
      "cell_type": "code",
      "metadata": {
        "colab": {
          "base_uri": "https://localhost:8080/",
          "height": 357
        },
        "id": "VxZz2ZkrL7bD",
        "outputId": "422ba778-e0e0-491b-e435-8673d55b22d1"
      },
      "source": [
        "# TPS_Q1_DAY\n",
        "df_TPS_Q1_DAY = prepdf_nonpca.drop(columns=['DIG_SLUDGE_DEWATER_DS_AFTER_DEWATER_3_PER_WEEK', 'PS_Q_DAY'])\n",
        "\n",
        "df_TPS_Q1_DAYWith = df_TPS_Q1_DAY[pd.isnull(df_TPS_Q1_DAY['TPS_Q1_DAY']) == False]\n",
        "df_TPS_Q1_DAYWithout = df_TPS_Q1_DAY[pd.isnull(df_TPS_Q1_DAY['TPS_Q1_DAY'])]\n",
        "\n",
        "variables = ['TPS_Q1_DAY', 'TWAS_DAF_QIN_DAY', 'DIGESTED_SLUDGE_QOUT_DAY', 'BIOGAS_PRODUCTION_Q_DAY']\n",
        "\n",
        "independentVariables = ['TWAS_DAF_QIN_DAY', 'DIGESTED_SLUDGE_QOUT_DAY', 'BIOGAS_PRODUCTION_Q_DAY']\n",
        "\n",
        "rfModel_TPS_Q1_DAY = RandomForestRegressor()\n",
        "rfModel_TPS_Q1_DAY.fit(df_TPS_Q1_DAYWith[independentVariables], df_TPS_Q1_DAYWith['TPS_Q1_DAY'])\n",
        "\n",
        "generatedTPS_Q1_DAYValues = rfModel_TPS_Q1_DAY.predict(X = df_TPS_Q1_DAYWithout[independentVariables])\n",
        "\n",
        "print(generatedTPS_Q1_DAYValues)\n",
        "df_TPS_Q1_DAYWithout['TPS_Q1_DAY'] = generatedTPS_Q1_DAYValues.astype(float)\n",
        "data = df_TPS_Q1_DAYWith.append(df_TPS_Q1_DAYWithout)\n",
        "\n",
        "data.reset_index(inplace=True)\n",
        "data.drop('index',inplace=True,axis=1)\n",
        "\n",
        "data.set_index('Date', inplace=True)\n",
        "data = data.sort_index(ascending=True)\n",
        "\n",
        "filled_df['TPS_Q1_DAY'] = data['TPS_Q1_DAY']\n",
        "#data.TPS_Q1_DAY\n",
        "percent_missing = filled_df.isnull().sum() * 100 / len(filled_df)\n",
        "missing_value_df = pd.DataFrame({'percent_missing': percent_missing})\n",
        "missing_value_df"
      ],
      "execution_count": null,
      "outputs": [
        {
          "output_type": "stream",
          "text": [
            "[199.5]\n"
          ],
          "name": "stdout"
        },
        {
          "output_type": "stream",
          "text": [
            "/usr/local/lib/python3.7/dist-packages/ipykernel_launcher.py:17: SettingWithCopyWarning: \n",
            "A value is trying to be set on a copy of a slice from a DataFrame.\n",
            "Try using .loc[row_indexer,col_indexer] = value instead\n",
            "\n",
            "See the caveats in the documentation: https://pandas.pydata.org/pandas-docs/stable/user_guide/indexing.html#returning-a-view-versus-a-copy\n"
          ],
          "name": "stderr"
        },
        {
          "output_type": "execute_result",
          "data": {
            "text/html": [
              "<div>\n",
              "<style scoped>\n",
              "    .dataframe tbody tr th:only-of-type {\n",
              "        vertical-align: middle;\n",
              "    }\n",
              "\n",
              "    .dataframe tbody tr th {\n",
              "        vertical-align: top;\n",
              "    }\n",
              "\n",
              "    .dataframe thead th {\n",
              "        text-align: right;\n",
              "    }\n",
              "</style>\n",
              "<table border=\"1\" class=\"dataframe\">\n",
              "  <thead>\n",
              "    <tr style=\"text-align: right;\">\n",
              "      <th></th>\n",
              "      <th>percent_missing</th>\n",
              "    </tr>\n",
              "  </thead>\n",
              "  <tbody>\n",
              "    <tr>\n",
              "      <th>PS_Q_DAY</th>\n",
              "      <td>0.000000</td>\n",
              "    </tr>\n",
              "    <tr>\n",
              "      <th>TPS_Q1_DAY</th>\n",
              "      <td>0.000000</td>\n",
              "    </tr>\n",
              "    <tr>\n",
              "      <th>TWAS_DAF_QIN_DAY</th>\n",
              "      <td>0.000000</td>\n",
              "    </tr>\n",
              "    <tr>\n",
              "      <th>DIGESTED_SLUDGE_QOUT_DAY</th>\n",
              "      <td>0.000000</td>\n",
              "    </tr>\n",
              "    <tr>\n",
              "      <th>BIOGAS_PRODUCTION_Q_DAY</th>\n",
              "      <td>0.000000</td>\n",
              "    </tr>\n",
              "    <tr>\n",
              "      <th>DIG_SLUDGE_DEWATER_DS_AFTER_DEWATER_3_PER_WEEK</th>\n",
              "      <td>6.580494</td>\n",
              "    </tr>\n",
              "  </tbody>\n",
              "</table>\n",
              "</div>"
            ],
            "text/plain": [
              "                                                percent_missing\n",
              "PS_Q_DAY                                               0.000000\n",
              "TPS_Q1_DAY                                             0.000000\n",
              "TWAS_DAF_QIN_DAY                                       0.000000\n",
              "DIGESTED_SLUDGE_QOUT_DAY                               0.000000\n",
              "BIOGAS_PRODUCTION_Q_DAY                                0.000000\n",
              "DIG_SLUDGE_DEWATER_DS_AFTER_DEWATER_3_PER_WEEK         6.580494"
            ]
          },
          "metadata": {},
          "execution_count": 19
        }
      ]
    },
    {
      "cell_type": "code",
      "metadata": {
        "colab": {
          "base_uri": "https://localhost:8080/",
          "height": 459
        },
        "id": "8ml_4R0YMIBk",
        "outputId": "e11a2827-d457-4e0d-cba0-c1dbe39a8f81"
      },
      "source": [
        "# DIG_SLUDGE_DEWATER_DS_AFTER_DEWATER_3_PER_WEEK\n",
        "df_DIG_SLUDGE_DEWATER_DS_AFTER_DEWATER_3_PER_WEEK = filled_df.copy()#.drop(columns=['DIGESTED_SLUDGE_VS_3_PER_WEEK', 'TPS_DS_DAY', 'PS_VS_DAY'])\n",
        "\n",
        "df_DIG_SLUDGE_DEWATER_DS_AFTER_DEWATER_3_PER_WEEKWith = df_DIG_SLUDGE_DEWATER_DS_AFTER_DEWATER_3_PER_WEEK[pd.isnull(df_DIG_SLUDGE_DEWATER_DS_AFTER_DEWATER_3_PER_WEEK['DIG_SLUDGE_DEWATER_DS_AFTER_DEWATER_3_PER_WEEK']) == False]\n",
        "df_DIG_SLUDGE_DEWATER_DS_AFTER_DEWATER_3_PER_WEEKWithout = df_DIG_SLUDGE_DEWATER_DS_AFTER_DEWATER_3_PER_WEEK[pd.isnull(df_DIG_SLUDGE_DEWATER_DS_AFTER_DEWATER_3_PER_WEEK['DIG_SLUDGE_DEWATER_DS_AFTER_DEWATER_3_PER_WEEK'])]\n",
        "\n",
        "variables = ['PS_Q_DAY', 'TWAS_DAF_QIN_DAY', 'DIGESTED_SLUDGE_QOUT_DAY', 'BIOGAS_PRODUCTION_Q_DAY','TPS_Q1_DAY' ,'DIG_SLUDGE_DEWATER_DS_AFTER_DEWATER_3_PER_WEEK']\n",
        "\n",
        "independentVariables = ['PS_Q_DAY', 'TWAS_DAF_QIN_DAY', 'DIGESTED_SLUDGE_QOUT_DAY', 'BIOGAS_PRODUCTION_Q_DAY','TPS_Q1_DAY' ]\n",
        "\n",
        "rfModel_DIG_SLUDGE_DEWATER_DS_AFTER_DEWATER_3_PER_WEEK = RandomForestRegressor()\n",
        "rfModel_DIG_SLUDGE_DEWATER_DS_AFTER_DEWATER_3_PER_WEEK.fit(df_DIG_SLUDGE_DEWATER_DS_AFTER_DEWATER_3_PER_WEEKWith[independentVariables], df_DIG_SLUDGE_DEWATER_DS_AFTER_DEWATER_3_PER_WEEKWith['DIG_SLUDGE_DEWATER_DS_AFTER_DEWATER_3_PER_WEEK'])\n",
        "\n",
        "generatedDIG_SLUDGE_DEWATER_DS_AFTER_DEWATER_3_PER_WEEKValues = rfModel_DIG_SLUDGE_DEWATER_DS_AFTER_DEWATER_3_PER_WEEK.predict(X = df_DIG_SLUDGE_DEWATER_DS_AFTER_DEWATER_3_PER_WEEKWithout[independentVariables])\n",
        "\n",
        "print(generatedDIG_SLUDGE_DEWATER_DS_AFTER_DEWATER_3_PER_WEEKValues)\n",
        "df_DIG_SLUDGE_DEWATER_DS_AFTER_DEWATER_3_PER_WEEKWithout['DIG_SLUDGE_DEWATER_DS_AFTER_DEWATER_3_PER_WEEK'] = generatedDIG_SLUDGE_DEWATER_DS_AFTER_DEWATER_3_PER_WEEKValues.astype(float)\n",
        "data = df_DIG_SLUDGE_DEWATER_DS_AFTER_DEWATER_3_PER_WEEKWith.append(df_DIG_SLUDGE_DEWATER_DS_AFTER_DEWATER_3_PER_WEEKWithout)\n",
        "\n",
        "data.reset_index(inplace=True)\n",
        "\n",
        "\n",
        "data.set_index('Date', inplace=True)\n",
        "data = data.sort_index(ascending=True)\n",
        "\n",
        "filled_df['DIG_SLUDGE_DEWATER_DS_AFTER_DEWATER_3_PER_WEEK'] = data['DIG_SLUDGE_DEWATER_DS_AFTER_DEWATER_3_PER_WEEK']\n",
        "percent_missing = filled_df.isnull().sum() * 100 / len(filled_df)\n",
        "missing_value_df = pd.DataFrame({'percent_missing': percent_missing})\n",
        "missing_value_df"
      ],
      "execution_count": null,
      "outputs": [
        {
          "output_type": "stream",
          "text": [
            "[31.9183 31.761  31.3773 30.925  32.394  31.546  30.229  31.14   31.714\n",
            " 32.369  31.8368 30.98   30.8668 30.356  30.9054 30.854  31.577  31.233\n",
            " 31.098  30.9843 32.489  30.1368 31.2437 30.8741 30.781  30.4795 30.6596\n",
            " 30.8422 30.8366 30.3474 29.8472 30.3987 31.6196 30.3597 30.676  30.9358\n",
            " 30.4189 32.1584 30.109  30.1493 31.0941 31.7284 30.8812 30.9709 30.5735\n",
            " 30.6382 30.1464 29.7768 31.3722 30.4317 30.4368 30.8445 30.4933 29.7684\n",
            " 30.2479 30.2315]\n"
          ],
          "name": "stdout"
        },
        {
          "output_type": "stream",
          "text": [
            "/usr/local/lib/python3.7/dist-packages/ipykernel_launcher.py:17: SettingWithCopyWarning: \n",
            "A value is trying to be set on a copy of a slice from a DataFrame.\n",
            "Try using .loc[row_indexer,col_indexer] = value instead\n",
            "\n",
            "See the caveats in the documentation: https://pandas.pydata.org/pandas-docs/stable/user_guide/indexing.html#returning-a-view-versus-a-copy\n"
          ],
          "name": "stderr"
        },
        {
          "output_type": "execute_result",
          "data": {
            "text/html": [
              "<div>\n",
              "<style scoped>\n",
              "    .dataframe tbody tr th:only-of-type {\n",
              "        vertical-align: middle;\n",
              "    }\n",
              "\n",
              "    .dataframe tbody tr th {\n",
              "        vertical-align: top;\n",
              "    }\n",
              "\n",
              "    .dataframe thead th {\n",
              "        text-align: right;\n",
              "    }\n",
              "</style>\n",
              "<table border=\"1\" class=\"dataframe\">\n",
              "  <thead>\n",
              "    <tr style=\"text-align: right;\">\n",
              "      <th></th>\n",
              "      <th>percent_missing</th>\n",
              "    </tr>\n",
              "  </thead>\n",
              "  <tbody>\n",
              "    <tr>\n",
              "      <th>PS_Q_DAY</th>\n",
              "      <td>0.0</td>\n",
              "    </tr>\n",
              "    <tr>\n",
              "      <th>TPS_Q1_DAY</th>\n",
              "      <td>0.0</td>\n",
              "    </tr>\n",
              "    <tr>\n",
              "      <th>TWAS_DAF_QIN_DAY</th>\n",
              "      <td>0.0</td>\n",
              "    </tr>\n",
              "    <tr>\n",
              "      <th>DIGESTED_SLUDGE_QOUT_DAY</th>\n",
              "      <td>0.0</td>\n",
              "    </tr>\n",
              "    <tr>\n",
              "      <th>BIOGAS_PRODUCTION_Q_DAY</th>\n",
              "      <td>0.0</td>\n",
              "    </tr>\n",
              "    <tr>\n",
              "      <th>DIG_SLUDGE_DEWATER_DS_AFTER_DEWATER_3_PER_WEEK</th>\n",
              "      <td>0.0</td>\n",
              "    </tr>\n",
              "  </tbody>\n",
              "</table>\n",
              "</div>"
            ],
            "text/plain": [
              "                                                percent_missing\n",
              "PS_Q_DAY                                                    0.0\n",
              "TPS_Q1_DAY                                                  0.0\n",
              "TWAS_DAF_QIN_DAY                                            0.0\n",
              "DIGESTED_SLUDGE_QOUT_DAY                                    0.0\n",
              "BIOGAS_PRODUCTION_Q_DAY                                     0.0\n",
              "DIG_SLUDGE_DEWATER_DS_AFTER_DEWATER_3_PER_WEEK              0.0"
            ]
          },
          "metadata": {},
          "execution_count": 20
        }
      ]
    },
    {
      "cell_type": "code",
      "metadata": {
        "colab": {
          "base_uri": "https://localhost:8080/",
          "height": 375
        },
        "id": "7YRMPuTfMUqG",
        "outputId": "e605cde7-5547-455f-ca86-0037aa3aeb94"
      },
      "source": [
        "#PCA NOT IN USE\n",
        "# EXPLAIN WHY\n",
        "pc = PCA(data=prepdf,ncomp=1, missing='fill-em')\n",
        "temp=pc._adjusted_data"
      ],
      "execution_count": null,
      "outputs": [
        {
          "output_type": "error",
          "ename": "TypeError",
          "evalue": "ignored",
          "traceback": [
            "\u001b[0;31m---------------------------------------------------------------------------\u001b[0m",
            "\u001b[0;31mTypeError\u001b[0m                                 Traceback (most recent call last)",
            "\u001b[0;32m<ipython-input-73-ddbd49a0733d>\u001b[0m in \u001b[0;36m<module>\u001b[0;34m()\u001b[0m\n\u001b[1;32m      1\u001b[0m \u001b[0;31m#PCA NOT IN USE\u001b[0m\u001b[0;34m\u001b[0m\u001b[0;34m\u001b[0m\u001b[0;34m\u001b[0m\u001b[0m\n\u001b[1;32m      2\u001b[0m \u001b[0;31m# EXPLAIN WHY\u001b[0m\u001b[0;34m\u001b[0m\u001b[0;34m\u001b[0m\u001b[0;34m\u001b[0m\u001b[0m\n\u001b[0;32m----> 3\u001b[0;31m \u001b[0mpc\u001b[0m \u001b[0;34m=\u001b[0m \u001b[0mPCA\u001b[0m\u001b[0;34m(\u001b[0m\u001b[0mdata\u001b[0m\u001b[0;34m=\u001b[0m\u001b[0mprepdf\u001b[0m\u001b[0;34m,\u001b[0m\u001b[0mncomp\u001b[0m\u001b[0;34m=\u001b[0m\u001b[0;36m1\u001b[0m\u001b[0;34m,\u001b[0m \u001b[0mmissing\u001b[0m\u001b[0;34m=\u001b[0m\u001b[0;34m'fill-em'\u001b[0m\u001b[0;34m)\u001b[0m\u001b[0;34m\u001b[0m\u001b[0;34m\u001b[0m\u001b[0m\n\u001b[0m\u001b[1;32m      4\u001b[0m \u001b[0mtemp\u001b[0m\u001b[0;34m=\u001b[0m\u001b[0mpc\u001b[0m\u001b[0;34m.\u001b[0m\u001b[0m_adjusted_data\u001b[0m\u001b[0;34m\u001b[0m\u001b[0;34m\u001b[0m\u001b[0m\n",
            "\u001b[0;32m/usr/local/lib/python3.7/dist-packages/statsmodels/multivariate/pca.py\u001b[0m in \u001b[0;36m__init__\u001b[0;34m(self, data, ncomp, standardize, demean, normalize, gls, weights, method, missing, tol, max_iter, tol_em, max_em_iter)\u001b[0m\n\u001b[1;32m    241\u001b[0m         \u001b[0mself\u001b[0m\u001b[0;34m.\u001b[0m\u001b[0m_adjusted_data\u001b[0m \u001b[0;34m=\u001b[0m \u001b[0mself\u001b[0m\u001b[0;34m.\u001b[0m\u001b[0mdata\u001b[0m\u001b[0;34m\u001b[0m\u001b[0;34m\u001b[0m\u001b[0m\n\u001b[1;32m    242\u001b[0m         \u001b[0;32mif\u001b[0m \u001b[0mmissing\u001b[0m \u001b[0;32mis\u001b[0m \u001b[0;32mnot\u001b[0m \u001b[0;32mNone\u001b[0m\u001b[0;34m:\u001b[0m\u001b[0;34m\u001b[0m\u001b[0;34m\u001b[0m\u001b[0m\n\u001b[0;32m--> 243\u001b[0;31m             \u001b[0mself\u001b[0m\u001b[0;34m.\u001b[0m\u001b[0m_adjust_missing\u001b[0m\u001b[0;34m(\u001b[0m\u001b[0;34m)\u001b[0m\u001b[0;34m\u001b[0m\u001b[0;34m\u001b[0m\u001b[0m\n\u001b[0m\u001b[1;32m    244\u001b[0m             \u001b[0;31m# Update size\u001b[0m\u001b[0;34m\u001b[0m\u001b[0;34m\u001b[0m\u001b[0;34m\u001b[0m\u001b[0m\n\u001b[1;32m    245\u001b[0m             \u001b[0mself\u001b[0m\u001b[0;34m.\u001b[0m\u001b[0m_nobs\u001b[0m\u001b[0;34m,\u001b[0m \u001b[0mself\u001b[0m\u001b[0;34m.\u001b[0m\u001b[0m_nvar\u001b[0m \u001b[0;34m=\u001b[0m \u001b[0mself\u001b[0m\u001b[0;34m.\u001b[0m\u001b[0m_adjusted_data\u001b[0m\u001b[0;34m.\u001b[0m\u001b[0mshape\u001b[0m\u001b[0;34m\u001b[0m\u001b[0;34m\u001b[0m\u001b[0m\n",
            "\u001b[0;32m/usr/local/lib/python3.7/dist-packages/statsmodels/multivariate/pca.py\u001b[0m in \u001b[0;36m_adjust_missing\u001b[0;34m(self)\u001b[0m\n\u001b[1;32m    318\u001b[0m                 \u001b[0mself\u001b[0m\u001b[0;34m.\u001b[0m\u001b[0mcols\u001b[0m \u001b[0;34m=\u001b[0m \u001b[0mnp\u001b[0m\u001b[0;34m.\u001b[0m\u001b[0mwhere\u001b[0m\u001b[0;34m(\u001b[0m\u001b[0mdrop_col_index\u001b[0m\u001b[0;34m)\u001b[0m\u001b[0;34m[\u001b[0m\u001b[0;36m0\u001b[0m\u001b[0;34m]\u001b[0m\u001b[0;34m\u001b[0m\u001b[0;34m\u001b[0m\u001b[0m\n\u001b[1;32m    319\u001b[0m         \u001b[0;32melif\u001b[0m \u001b[0mself\u001b[0m\u001b[0;34m.\u001b[0m\u001b[0m_missing\u001b[0m \u001b[0;34m==\u001b[0m \u001b[0;34m'fill-em'\u001b[0m\u001b[0;34m:\u001b[0m\u001b[0;34m\u001b[0m\u001b[0;34m\u001b[0m\u001b[0m\n\u001b[0;32m--> 320\u001b[0;31m             \u001b[0mself\u001b[0m\u001b[0;34m.\u001b[0m\u001b[0m_adjusted_data\u001b[0m \u001b[0;34m=\u001b[0m \u001b[0mself\u001b[0m\u001b[0;34m.\u001b[0m\u001b[0m_fill_missing_em\u001b[0m\u001b[0;34m(\u001b[0m\u001b[0;34m)\u001b[0m\u001b[0;34m\u001b[0m\u001b[0;34m\u001b[0m\u001b[0m\n\u001b[0m\u001b[1;32m    321\u001b[0m         \u001b[0;32melse\u001b[0m\u001b[0;34m:\u001b[0m\u001b[0;34m\u001b[0m\u001b[0;34m\u001b[0m\u001b[0m\n\u001b[1;32m    322\u001b[0m             \u001b[0;32mraise\u001b[0m \u001b[0mValueError\u001b[0m\u001b[0;34m(\u001b[0m\u001b[0;34m'missing method is not known.'\u001b[0m\u001b[0;34m)\u001b[0m\u001b[0;34m\u001b[0m\u001b[0;34m\u001b[0m\u001b[0m\n",
            "\u001b[0;32m/usr/local/lib/python3.7/dist-packages/statsmodels/multivariate/pca.py\u001b[0m in \u001b[0;36m_fill_missing_em\u001b[0;34m(self)\u001b[0m\n\u001b[1;32m    470\u001b[0m         \u001b[0mEM\u001b[0m \u001b[0malgorithm\u001b[0m \u001b[0mto\u001b[0m \u001b[0mfill\u001b[0m \u001b[0mmissing\u001b[0m \u001b[0mvalues\u001b[0m\u001b[0;34m\u001b[0m\u001b[0;34m\u001b[0m\u001b[0m\n\u001b[1;32m    471\u001b[0m         \"\"\"\n\u001b[0;32m--> 472\u001b[0;31m         \u001b[0mnon_missing\u001b[0m \u001b[0;34m=\u001b[0m \u001b[0mnp\u001b[0m\u001b[0;34m.\u001b[0m\u001b[0mlogical_not\u001b[0m\u001b[0;34m(\u001b[0m\u001b[0mnp\u001b[0m\u001b[0;34m.\u001b[0m\u001b[0misnan\u001b[0m\u001b[0;34m(\u001b[0m\u001b[0mself\u001b[0m\u001b[0;34m.\u001b[0m\u001b[0mdata\u001b[0m\u001b[0;34m)\u001b[0m\u001b[0;34m)\u001b[0m\u001b[0;34m\u001b[0m\u001b[0;34m\u001b[0m\u001b[0m\n\u001b[0m\u001b[1;32m    473\u001b[0m \u001b[0;34m\u001b[0m\u001b[0m\n\u001b[1;32m    474\u001b[0m         \u001b[0;31m# If nothing missing, return without altering the data\u001b[0m\u001b[0;34m\u001b[0m\u001b[0;34m\u001b[0m\u001b[0;34m\u001b[0m\u001b[0m\n",
            "\u001b[0;31mTypeError\u001b[0m: ufunc 'isnan' not supported for the input types, and the inputs could not be safely coerced to any supported types according to the casting rule ''safe''"
          ]
        }
      ]
    },
    {
      "cell_type": "code",
      "metadata": {
        "colab": {
          "base_uri": "https://localhost:8080/",
          "height": 340
        },
        "id": "2E4KXFcVQHNP",
        "outputId": "65f43372-13a9-4a6a-da2d-8ae82fa808c7"
      },
      "source": [
        "filled_df.head()"
      ],
      "execution_count": null,
      "outputs": [
        {
          "output_type": "execute_result",
          "data": {
            "text/html": [
              "<div>\n",
              "<style scoped>\n",
              "    .dataframe tbody tr th:only-of-type {\n",
              "        vertical-align: middle;\n",
              "    }\n",
              "\n",
              "    .dataframe tbody tr th {\n",
              "        vertical-align: top;\n",
              "    }\n",
              "\n",
              "    .dataframe thead th {\n",
              "        text-align: right;\n",
              "    }\n",
              "</style>\n",
              "<table border=\"1\" class=\"dataframe\">\n",
              "  <thead>\n",
              "    <tr style=\"text-align: right;\">\n",
              "      <th></th>\n",
              "      <th>PS_Q_DAY</th>\n",
              "      <th>TPS_Q1_DAY</th>\n",
              "      <th>TWAS_DAF_QIN_DAY</th>\n",
              "      <th>DIGESTED_SLUDGE_QOUT_DAY</th>\n",
              "      <th>BIOGAS_PRODUCTION_Q_DAY</th>\n",
              "      <th>DIG_SLUDGE_DEWATER_DS_AFTER_DEWATER_3_PER_WEEK</th>\n",
              "    </tr>\n",
              "    <tr>\n",
              "      <th>Date</th>\n",
              "      <th></th>\n",
              "      <th></th>\n",
              "      <th></th>\n",
              "      <th></th>\n",
              "      <th></th>\n",
              "      <th></th>\n",
              "    </tr>\n",
              "  </thead>\n",
              "  <tbody>\n",
              "    <tr>\n",
              "      <th>2012-01-01</th>\n",
              "      <td>1197.0</td>\n",
              "      <td>199.5</td>\n",
              "      <td>242.5</td>\n",
              "      <td>414</td>\n",
              "      <td>5.064</td>\n",
              "      <td>32.1</td>\n",
              "    </tr>\n",
              "    <tr>\n",
              "      <th>2012-01-02</th>\n",
              "      <td>1197.0</td>\n",
              "      <td>199.5</td>\n",
              "      <td>165.5</td>\n",
              "      <td>392</td>\n",
              "      <td>5.293</td>\n",
              "      <td>32.1</td>\n",
              "    </tr>\n",
              "    <tr>\n",
              "      <th>2012-01-03</th>\n",
              "      <td>1197.0</td>\n",
              "      <td>199.5</td>\n",
              "      <td>241.5</td>\n",
              "      <td>428</td>\n",
              "      <td>5.609</td>\n",
              "      <td>32.1</td>\n",
              "    </tr>\n",
              "    <tr>\n",
              "      <th>2012-01-04</th>\n",
              "      <td>1197.0</td>\n",
              "      <td>170.0</td>\n",
              "      <td>194.0</td>\n",
              "      <td>354</td>\n",
              "      <td>4.470</td>\n",
              "      <td>31.8</td>\n",
              "    </tr>\n",
              "    <tr>\n",
              "      <th>2012-01-05</th>\n",
              "      <td>1197.0</td>\n",
              "      <td>199.5</td>\n",
              "      <td>193.5</td>\n",
              "      <td>383</td>\n",
              "      <td>2.848</td>\n",
              "      <td>31.4</td>\n",
              "    </tr>\n",
              "  </tbody>\n",
              "</table>\n",
              "</div>"
            ],
            "text/plain": [
              "            PS_Q_DAY  ...  DIG_SLUDGE_DEWATER_DS_AFTER_DEWATER_3_PER_WEEK\n",
              "Date                  ...                                                \n",
              "2012-01-01    1197.0  ...                                            32.1\n",
              "2012-01-02    1197.0  ...                                            32.1\n",
              "2012-01-03    1197.0  ...                                            32.1\n",
              "2012-01-04    1197.0  ...                                            31.8\n",
              "2012-01-05    1197.0  ...                                            31.4\n",
              "\n",
              "[5 rows x 6 columns]"
            ]
          },
          "metadata": {},
          "execution_count": 21
        }
      ]
    },
    {
      "cell_type": "code",
      "metadata": {
        "id": "0O9chdAzQTBg"
      },
      "source": [
        "filled_df.to_csv(\"viable_dataset.csv\")"
      ],
      "execution_count": null,
      "outputs": []
    },
    {
      "cell_type": "code",
      "metadata": {
        "id": "4Uy1Pz2EUWj_"
      },
      "source": [
        "df = pd.read_csv(\"viable_dataset.csv\",index_col=0)"
      ],
      "execution_count": 4,
      "outputs": []
    },
    {
      "cell_type": "code",
      "metadata": {
        "colab": {
          "base_uri": "https://localhost:8080/",
          "height": 340
        },
        "id": "tc8jFf-I_TQ9",
        "outputId": "bd56c619-f3ab-4f45-ec86-68699611cfe3"
      },
      "source": [
        "df.head()"
      ],
      "execution_count": 5,
      "outputs": [
        {
          "output_type": "execute_result",
          "data": {
            "text/html": [
              "<div>\n",
              "<style scoped>\n",
              "    .dataframe tbody tr th:only-of-type {\n",
              "        vertical-align: middle;\n",
              "    }\n",
              "\n",
              "    .dataframe tbody tr th {\n",
              "        vertical-align: top;\n",
              "    }\n",
              "\n",
              "    .dataframe thead th {\n",
              "        text-align: right;\n",
              "    }\n",
              "</style>\n",
              "<table border=\"1\" class=\"dataframe\">\n",
              "  <thead>\n",
              "    <tr style=\"text-align: right;\">\n",
              "      <th></th>\n",
              "      <th>PS_Q_DAY</th>\n",
              "      <th>TPS_Q1_DAY</th>\n",
              "      <th>TWAS_DAF_QIN_DAY</th>\n",
              "      <th>DIGESTED_SLUDGE_QOUT_DAY</th>\n",
              "      <th>BIOGAS_PRODUCTION_Q_DAY</th>\n",
              "      <th>DIG_SLUDGE_DEWATER_DS_AFTER_DEWATER_3_PER_WEEK</th>\n",
              "    </tr>\n",
              "    <tr>\n",
              "      <th>Date</th>\n",
              "      <th></th>\n",
              "      <th></th>\n",
              "      <th></th>\n",
              "      <th></th>\n",
              "      <th></th>\n",
              "      <th></th>\n",
              "    </tr>\n",
              "  </thead>\n",
              "  <tbody>\n",
              "    <tr>\n",
              "      <th>2012-01-01</th>\n",
              "      <td>1197.0</td>\n",
              "      <td>199.5</td>\n",
              "      <td>242.5</td>\n",
              "      <td>414</td>\n",
              "      <td>5.064</td>\n",
              "      <td>32.1</td>\n",
              "    </tr>\n",
              "    <tr>\n",
              "      <th>2012-01-02</th>\n",
              "      <td>1197.0</td>\n",
              "      <td>199.5</td>\n",
              "      <td>165.5</td>\n",
              "      <td>392</td>\n",
              "      <td>5.293</td>\n",
              "      <td>32.1</td>\n",
              "    </tr>\n",
              "    <tr>\n",
              "      <th>2012-01-03</th>\n",
              "      <td>1197.0</td>\n",
              "      <td>199.5</td>\n",
              "      <td>241.5</td>\n",
              "      <td>428</td>\n",
              "      <td>5.609</td>\n",
              "      <td>32.1</td>\n",
              "    </tr>\n",
              "    <tr>\n",
              "      <th>2012-01-04</th>\n",
              "      <td>1197.0</td>\n",
              "      <td>170.0</td>\n",
              "      <td>194.0</td>\n",
              "      <td>354</td>\n",
              "      <td>4.470</td>\n",
              "      <td>31.8</td>\n",
              "    </tr>\n",
              "    <tr>\n",
              "      <th>2012-01-05</th>\n",
              "      <td>1197.0</td>\n",
              "      <td>199.5</td>\n",
              "      <td>193.5</td>\n",
              "      <td>383</td>\n",
              "      <td>2.848</td>\n",
              "      <td>31.4</td>\n",
              "    </tr>\n",
              "  </tbody>\n",
              "</table>\n",
              "</div>"
            ],
            "text/plain": [
              "            PS_Q_DAY  ...  DIG_SLUDGE_DEWATER_DS_AFTER_DEWATER_3_PER_WEEK\n",
              "Date                  ...                                                \n",
              "2012-01-01    1197.0  ...                                            32.1\n",
              "2012-01-02    1197.0  ...                                            32.1\n",
              "2012-01-03    1197.0  ...                                            32.1\n",
              "2012-01-04    1197.0  ...                                            31.8\n",
              "2012-01-05    1197.0  ...                                            31.4\n",
              "\n",
              "[5 rows x 6 columns]"
            ]
          },
          "metadata": {},
          "execution_count": 5
        }
      ]
    },
    {
      "cell_type": "code",
      "metadata": {
        "id": "jFVu_2QJ_ejk"
      },
      "source": [
        "from statsmodels.tsa.stattools import adfuller\n",
        "# if test_statistic greater than critical value, data is not stationary\n",
        "def adf_test(timeseries):\n",
        "    #Perform Dickey-Fuller test:\n",
        "    dftest = adfuller(timeseries, autolag='AIC')\n",
        "    dfoutput = pd.Series(dftest[0:4], index=['Test Statistic','p-value','#Lags Used','Number of Observations Used'])\n",
        "    for key,value in dftest[4].items():\n",
        "       dfoutput['Critical Value (%s)'%key] = value\n",
        "    return dfoutput"
      ],
      "execution_count": 6,
      "outputs": []
    },
    {
      "cell_type": "code",
      "metadata": {
        "colab": {
          "base_uri": "https://localhost:8080/"
        },
        "id": "3AErzCZq_h7E",
        "outputId": "c120b4dd-9fbf-4956-ba53-4384a9deb468"
      },
      "source": [
        "adf_test(df.TWAS_DAF_QIN_DAY)# Stationary"
      ],
      "execution_count": 8,
      "outputs": [
        {
          "output_type": "execute_result",
          "data": {
            "text/plain": [
              "Test Statistic                -8.049189e+00\n",
              "p-value                        1.760760e-12\n",
              "#Lags Used                     4.000000e+00\n",
              "Number of Observations Used    8.460000e+02\n",
              "Critical Value (1%)           -3.438103e+00\n",
              "Critical Value (5%)           -2.864962e+00\n",
              "Critical Value (10%)          -2.568592e+00\n",
              "dtype: float64"
            ]
          },
          "metadata": {},
          "execution_count": 8
        }
      ]
    },
    {
      "cell_type": "code",
      "metadata": {
        "colab": {
          "base_uri": "https://localhost:8080/"
        },
        "id": "PvZfRM6O_onl",
        "outputId": "575f2085-153f-4079-e96b-9fc0bfeddaed"
      },
      "source": [
        "adf_test(df.PS_Q_DAY)# NOT STationary"
      ],
      "execution_count": 9,
      "outputs": [
        {
          "output_type": "execute_result",
          "data": {
            "text/plain": [
              "Test Statistic                  -2.334147\n",
              "p-value                          0.161191\n",
              "#Lags Used                      21.000000\n",
              "Number of Observations Used    829.000000\n",
              "Critical Value (1%)             -3.438263\n",
              "Critical Value (5%)             -2.865033\n",
              "Critical Value (10%)            -2.568630\n",
              "dtype: float64"
            ]
          },
          "metadata": {},
          "execution_count": 9
        }
      ]
    },
    {
      "cell_type": "code",
      "metadata": {
        "colab": {
          "base_uri": "https://localhost:8080/"
        },
        "id": "a5Y_v-j4AAQw",
        "outputId": "155d294c-75ce-4bf1-a13c-d5edc03cc20c"
      },
      "source": [
        "adf_test(df.TPS_Q1_DAY)#Not Stationary"
      ],
      "execution_count": 13,
      "outputs": [
        {
          "output_type": "execute_result",
          "data": {
            "text/plain": [
              "Test Statistic                  -3.160746\n",
              "p-value                          0.022372\n",
              "#Lags Used                      21.000000\n",
              "Number of Observations Used    829.000000\n",
              "Critical Value (1%)             -3.438263\n",
              "Critical Value (5%)             -2.865033\n",
              "Critical Value (10%)            -2.568630\n",
              "dtype: float64"
            ]
          },
          "metadata": {},
          "execution_count": 13
        }
      ]
    },
    {
      "cell_type": "code",
      "metadata": {
        "colab": {
          "base_uri": "https://localhost:8080/"
        },
        "id": "1LqnqWEhABjn",
        "outputId": "fdb31500-c332-4ffd-c6c9-a35cd74af0c8"
      },
      "source": [
        "adf_test(df.DIGESTED_SLUDGE_QOUT_DAY)#Not Stationary"
      ],
      "execution_count": 11,
      "outputs": [
        {
          "output_type": "execute_result",
          "data": {
            "text/plain": [
              "Test Statistic                  -2.334147\n",
              "p-value                          0.161191\n",
              "#Lags Used                      21.000000\n",
              "Number of Observations Used    829.000000\n",
              "Critical Value (1%)             -3.438263\n",
              "Critical Value (5%)             -2.865033\n",
              "Critical Value (10%)            -2.568630\n",
              "dtype: float64"
            ]
          },
          "metadata": {},
          "execution_count": 11
        }
      ]
    },
    {
      "cell_type": "code",
      "metadata": {
        "colab": {
          "base_uri": "https://localhost:8080/"
        },
        "id": "ImO6siePAB_y",
        "outputId": "6a800437-0547-440e-9fae-b5b45889d14e"
      },
      "source": [
        "adf_test(df.BIOGAS_PRODUCTION_Q_DAY)# Not Stationary"
      ],
      "execution_count": 12,
      "outputs": [
        {
          "output_type": "execute_result",
          "data": {
            "text/plain": [
              "Test Statistic                  -2.334147\n",
              "p-value                          0.161191\n",
              "#Lags Used                      21.000000\n",
              "Number of Observations Used    829.000000\n",
              "Critical Value (1%)             -3.438263\n",
              "Critical Value (5%)             -2.865033\n",
              "Critical Value (10%)            -2.568630\n",
              "dtype: float64"
            ]
          },
          "metadata": {},
          "execution_count": 12
        }
      ]
    },
    {
      "cell_type": "code",
      "metadata": {
        "colab": {
          "base_uri": "https://localhost:8080/"
        },
        "id": "KxhurkzpACff",
        "outputId": "370be584-3fc2-442a-c4ce-8f9b97ac5a45"
      },
      "source": [
        "adf_test(df.DIG_SLUDGE_DEWATER_DS_AFTER_DEWATER_3_PER_WEEK)# Stationary"
      ],
      "execution_count": 14,
      "outputs": [
        {
          "output_type": "execute_result",
          "data": {
            "text/plain": [
              "Test Statistic                -1.066449e+01\n",
              "p-value                        4.322324e-19\n",
              "#Lags Used                     3.000000e+00\n",
              "Number of Observations Used    8.470000e+02\n",
              "Critical Value (1%)           -3.438094e+00\n",
              "Critical Value (5%)           -2.864958e+00\n",
              "Critical Value (10%)          -2.568590e+00\n",
              "dtype: float64"
            ]
          },
          "metadata": {},
          "execution_count": 14
        }
      ]
    },
    {
      "cell_type": "code",
      "metadata": {
        "id": "TQAiKuDKAP9r"
      },
      "source": [
        ""
      ],
      "execution_count": 23,
      "outputs": []
    },
    {
      "cell_type": "code",
      "metadata": {
        "id": "kdNPpc1kBO-C"
      },
      "source": [
        ""
      ],
      "execution_count": null,
      "outputs": []
    }
  ]
}