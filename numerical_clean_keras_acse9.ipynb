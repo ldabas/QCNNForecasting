{
  "nbformat": 4,
  "nbformat_minor": 0,
  "metadata": {
    "accelerator": "GPU",
    "colab": {
      "name": "numerical-clean-keras-acse9.ipynb",
      "provenance": [],
      "collapsed_sections": [],
      "machine_shape": "hm"
    },
    "kernelspec": {
      "display_name": "Python 3",
      "name": "python3"
    },
    "language_info": {
      "name": "python"
    }
  },
  "cells": [
    {
      "cell_type": "code",
      "metadata": {
        "id": "FsqQmS2TqQr9"
      },
      "source": [
        ""
      ],
      "execution_count": null,
      "outputs": []
    },
    {
      "cell_type": "code",
      "metadata": {
        "id": "u66LpxYgrwYg",
        "colab": {
          "base_uri": "https://localhost:8080/"
        },
        "outputId": "2aaf93de-a54e-4ff3-f532-378dca52138b"
      },
      "source": [
        "import tensorflow as tf\n",
        "from tensorflow import keras\n",
        "from tensorflow.keras import layers\n",
        "from keras.models import Sequential\n",
        "from keras.layers import Dense, Flatten, Conv1D\n",
        "import pandas as pd\n",
        "from statsmodels.tsa.seasonal import seasonal_decompose\n",
        "from statsmodels.multivariate.pca import PCA\n",
        "from sklearn.ensemble import RandomForestRegressor\n",
        "import matplotlib.pyplot as plt\n",
        "from sklearn.preprocessing import StandardScaler\n",
        "from math import sqrt\n",
        "from statsmodels.tsa.api import ExponentialSmoothing\n",
        "from statsmodels.tsa.holtwinters import SimpleExpSmoothing, Holt\n",
        "from statsmodels.tsa.api import VAR\n",
        "import numpy as np\n",
        "import seaborn as sns\n",
        "\n",
        "from numpy import array\n",
        "from numpy import hstack\n",
        "from keras.models import Model\n",
        "from keras.layers import Input\n",
        "from keras.layers import Dense\n",
        "from keras.layers import Flatten\n",
        "from keras.layers.convolutional import Conv1D\n",
        "from keras.layers.convolutional import MaxPooling1D\n",
        "from keras.layers.merge import concatenate\n",
        "from keras.layers import LeakyReLU"
      ],
      "execution_count": null,
      "outputs": [
        {
          "output_type": "stream",
          "text": [
            "/usr/local/lib/python3.7/dist-packages/statsmodels/tools/_testing.py:19: FutureWarning: pandas.util.testing is deprecated. Use the functions in the public API at pandas.testing instead.\n",
            "  import pandas.util.testing as tm\n"
          ],
          "name": "stderr"
        }
      ]
    },
    {
      "cell_type": "code",
      "metadata": {
        "colab": {
          "base_uri": "https://localhost:8080/"
        },
        "id": "J8BD3GsLsM80",
        "outputId": "019053b2-649d-4722-f775-09f735d40ba8"
      },
      "source": [
        "%tensorflow_version 2.x\n",
        "import tensorflow as tf\n",
        "device_name = tf.test.gpu_device_name()\n",
        "if device_name != '/device:GPU:0':\n",
        "  raise SystemError('GPU device not found')\n",
        "print('Found GPU at: {}'.format(device_name))"
      ],
      "execution_count": null,
      "outputs": [
        {
          "output_type": "stream",
          "text": [
            "Found GPU at: /device:GPU:0\n"
          ],
          "name": "stdout"
        }
      ]
    },
    {
      "cell_type": "code",
      "metadata": {
        "id": "4yzEvOxBsThU"
      },
      "source": [
        "df = pd.read_csv(\"numerical_df_corrected.csv\", index_col=\"Date\")"
      ],
      "execution_count": null,
      "outputs": []
    },
    {
      "cell_type": "code",
      "metadata": {
        "colab": {
          "base_uri": "https://localhost:8080/"
        },
        "id": "pp4bohlFt-u0",
        "outputId": "f13a0be2-4b6b-4d95-d178-7ca45e12add0"
      },
      "source": [
        "df.corr()['BIOGAS_PRODUCTION_Q_DAY'].abs().sort_values(ascending=False)"
      ],
      "execution_count": null,
      "outputs": [
        {
          "output_type": "execute_result",
          "data": {
            "text/plain": [
              "BIOGAS_PRODUCTION_Q_DAY                           1.000000\n",
              "TPS_Q1_DAY                                        0.149911\n",
              "PS_Q_DAY                                          0.148402\n",
              "DIGESTED_SLUDGE_QOUT_DAY                          0.130412\n",
              "DIG_SLUDGE_DEWATER_DS_AFTER_DEWATER_3_PER_WEEK    0.078733\n",
              "TWAS_DAF_QIN_DAY                                  0.061662\n",
              "Name: BIOGAS_PRODUCTION_Q_DAY, dtype: float64"
            ]
          },
          "metadata": {},
          "execution_count": 4
        }
      ]
    },
    {
      "cell_type": "code",
      "metadata": {
        "id": "WSRtQhcqsiEk"
      },
      "source": [
        "split_fraction = 0.8\n",
        "train_split = int(split_fraction * int(df.shape[0]))\n",
        "test_split = int((split_fraction+0.1) * int(df.shape[0]))\n",
        "step = 1\n",
        "\n",
        "past = 3\n",
        "future = 1\n",
        "learning_rate = 0.001\n",
        "batch_size = 1\n",
        "epochs = 100\n",
        "\n",
        "\n",
        "def normalize(data, train_split):\n",
        "    data_mean = data[:train_split].mean(axis=0)\n",
        "    data_std = data[:train_split].std(axis=0)\n",
        "    return (data - data_mean) / data_std\n",
        "\n",
        "def smooth(dataset, train_split, smooth_level):\n",
        "  for column in dataset.columns:\n",
        "    data = dataset[column]\n",
        "    exp = ExponentialSmoothing(data[:train_split])\n",
        "    exp_model = exp.fit(smoothing_level=smooth_level)\n",
        "    result = exp_model.fittedvalues\n",
        "    dataset[column][:train_split] = result\n",
        "    return dataset\n"
      ],
      "execution_count": null,
      "outputs": []
    },
    {
      "cell_type": "code",
      "metadata": {
        "colab": {
          "base_uri": "https://localhost:8080/"
        },
        "id": "SPDNtKymsisr",
        "outputId": "7c9be6c6-565d-4222-f9e4-edf905a9d447"
      },
      "source": [
        "date_time_key = \"Date\"\n",
        "print(\n",
        "    \"The selected parameters are:\",\n",
        "    \", \".join([df.columns[i] for i in [0, 1, 2, 3, 4, 5]]),\n",
        ")\n",
        "cols = [df.columns[i] for i in [0, 1, 2, 3, 4, 5]]\n",
        "selected_features = [df.columns[i] for i in [0, 1, 2, 3, 4, 5]]\n",
        "features = df[selected_features]\n",
        "features.set_index(df.index, inplace=True)\n",
        "#print(features.head())\n",
        "\n",
        "features = smooth(features, train_split, smooth_level=0.1)\n",
        "#print(features.head())\n",
        "\n",
        "#features = normalize(features.values, train_split)\n",
        "features = pd.DataFrame(features.values)\n",
        "#print(features.head())\n",
        "\n",
        "\n",
        "\n",
        "train_data = features.loc[0 : train_split - 1]\n",
        "test_data = features.loc[train_split:test_split-1]\n",
        "val_data = features.loc[test_split:]"
      ],
      "execution_count": null,
      "outputs": [
        {
          "output_type": "stream",
          "text": [
            "The selected parameters are: PS_Q_DAY, TPS_Q1_DAY, TWAS_DAF_QIN_DAY, DIGESTED_SLUDGE_QOUT_DAY, BIOGAS_PRODUCTION_Q_DAY, DIG_SLUDGE_DEWATER_DS_AFTER_DEWATER_3_PER_WEEK\n"
          ],
          "name": "stdout"
        },
        {
          "output_type": "stream",
          "text": [
            "/usr/local/lib/python3.7/dist-packages/statsmodels/tsa/base/tsa_model.py:165: ValueWarning: No frequency information was provided, so inferred frequency D will be used.\n",
            "  % freq, ValueWarning)\n",
            "/usr/local/lib/python3.7/dist-packages/ipykernel_launcher.py:24: SettingWithCopyWarning: \n",
            "A value is trying to be set on a copy of a slice from a DataFrame\n",
            "\n",
            "See the caveats in the documentation: https://pandas.pydata.org/pandas-docs/stable/user_guide/indexing.html#returning-a-view-versus-a-copy\n"
          ],
          "name": "stderr"
        }
      ]
    },
    {
      "cell_type": "code",
      "metadata": {
        "id": "2q-MlwnQuSay"
      },
      "source": [
        "start = past + future\n",
        "end = start + train_split\n",
        "\n",
        "x_train = train_data[[0, 1, 2, 3, 5]].values\n",
        "y_train = features.iloc[start:end][[4]]\n",
        "\n",
        "sequence_length = int(past / step)"
      ],
      "execution_count": null,
      "outputs": []
    },
    {
      "cell_type": "code",
      "metadata": {
        "id": "ZhqCUSalxyKx"
      },
      "source": [
        "dataset_train = keras.preprocessing.timeseries_dataset_from_array(\n",
        "    x_train,\n",
        "    y_train,\n",
        "    sequence_length=sequence_length,\n",
        "    sampling_rate=step,\n",
        "    batch_size=batch_size,\n",
        ")"
      ],
      "execution_count": null,
      "outputs": []
    },
    {
      "cell_type": "code",
      "metadata": {
        "colab": {
          "base_uri": "https://localhost:8080/"
        },
        "id": "s_a6vAI6x2eQ",
        "outputId": "f6652229-5175-4a33-8c5b-4e9c52a76540"
      },
      "source": [
        "x_end = len(val_data) - past - future\n",
        "\n",
        "label_start = test_split + past + future\n",
        "\n",
        "x_val = val_data.iloc[:x_end][[0,1,2,3,5]].values\n",
        "y_val = features.iloc[label_start:][[4]]\n",
        "\n",
        "dataset_val = keras.preprocessing.timeseries_dataset_from_array(\n",
        "    x_val,\n",
        "    y_val,\n",
        "    sequence_length=sequence_length,\n",
        "    sampling_rate=step,\n",
        "    batch_size=batch_size,\n",
        ")\n",
        "\n",
        "x_end = len(test_data) - past - future\n",
        "\n",
        "label_start = test_split + past + future\n",
        "\n",
        "x_test = test_data.iloc[:x_end][[0,1,2,3,5]].values\n",
        "y_test = features.iloc[label_start:][[4]]\n",
        "\n",
        "dataset_test = keras.preprocessing.timeseries_dataset_from_array(\n",
        "    x_test,\n",
        "    y_test,\n",
        "    sequence_length=sequence_length,\n",
        "    sampling_rate=step,\n",
        "    batch_size=batch_size,\n",
        ")\n",
        "\n",
        "\n",
        "for batch in dataset_train.take(1):\n",
        "    inputs, targets = batch\n",
        "\n",
        "print(\"Input shape:\", inputs.numpy().shape)\n",
        "print(\"Target shape:\", targets.numpy().shape)"
      ],
      "execution_count": null,
      "outputs": [
        {
          "output_type": "stream",
          "text": [
            "Input shape: (1, 3, 5)\n",
            "Target shape: (1, 1)\n"
          ],
          "name": "stdout"
        }
      ]
    },
    {
      "cell_type": "code",
      "metadata": {
        "colab": {
          "base_uri": "https://localhost:8080/"
        },
        "id": "Cr_ASvWjy2vm",
        "outputId": "38d15237-dc77-44f1-9c27-c00357f049d6"
      },
      "source": [
        "# DISCRETE MODEL\n",
        "inputs = Input(shape=(inputs.shape[1], inputs.shape[2]))\n",
        "#lstm_out = keras.layers.LSTM(32)(inputs,\n",
        "lrelu = lambda x: tf.keras.layers.LeakyReLU(alpha=0.1)(x)\n",
        "cnn = Conv1D(filters=32, kernel_size=1, activation=lrelu)(inputs)\n",
        "cnn = Conv1D(filters=64, kernel_size=1, activation=lrelu)(cnn)\n",
        "#cnn = MaxPooling1D(pool_size=2)(cnn)\n",
        "#cnn = Conv1D(filters=32, kernel_size=1, activation=lrelu)(cnn)\n",
        "\n",
        "cnn = Flatten()(cnn)\n",
        "\n",
        "dense = Dense(50, activation=lrelu)(cnn)\n",
        "output = Dense(1)(dense)\n",
        "\n",
        "model = keras.Model(inputs=inputs, outputs=output)\n",
        "model.compile(optimizer=keras.optimizers.Adam(learning_rate=learning_rate), loss=\"mse\")\n",
        "model.summary()"
      ],
      "execution_count": null,
      "outputs": [
        {
          "output_type": "stream",
          "text": [
            "Model: \"model_13\"\n",
            "_________________________________________________________________\n",
            "Layer (type)                 Output Shape              Param #   \n",
            "=================================================================\n",
            "input_16 (InputLayer)        [(None, 1, 5)]            0         \n",
            "_________________________________________________________________\n",
            "conv1d_35 (Conv1D)           (None, 1, 32)             192       \n",
            "_________________________________________________________________\n",
            "conv1d_36 (Conv1D)           (None, 1, 64)             2112      \n",
            "_________________________________________________________________\n",
            "flatten_13 (Flatten)         (None, 64)                0         \n",
            "_________________________________________________________________\n",
            "dense_26 (Dense)             (None, 50)                3250      \n",
            "_________________________________________________________________\n",
            "dense_27 (Dense)             (None, 1)                 51        \n",
            "=================================================================\n",
            "Total params: 5,605\n",
            "Trainable params: 5,605\n",
            "Non-trainable params: 0\n",
            "_________________________________________________________________\n"
          ],
          "name": "stdout"
        }
      ]
    },
    {
      "cell_type": "code",
      "metadata": {
        "colab": {
          "base_uri": "https://localhost:8080/"
        },
        "id": "pZb8FjCxx4tD",
        "outputId": "c1f371d9-a626-4bef-b7f9-478d0e58f2a8"
      },
      "source": [
        "# TIME SERIES MODEL\n",
        "inputs = Input(shape=(inputs.shape[1], inputs.shape[2]))\n",
        "#lstm_out = keras.layers.LSTM(32)(inputs,\n",
        "lrelu = lambda x: tf.keras.layers.LeakyReLU(alpha=0.1)(x)\n",
        "cnn = Conv1D(filters=32, kernel_size=2, activation=lrelu)(inputs)\n",
        "cnn = Conv1D(filters=64, kernel_size=2, activation=lrelu)(cnn)\n",
        "#cnn = MaxPooling1D(pool_size=2)(cnn)\n",
        "#cnn = Conv1D(filters=32, kernel_size=1, activation=lrelu)(cnn)\n",
        "\n",
        "cnn = Flatten()(cnn)\n",
        "\n",
        "dense = Dense(50, activation=lrelu)(cnn)\n",
        "output = Dense(1)(dense)\n",
        "\n",
        "model = keras.Model(inputs=inputs, outputs=output)\n",
        "model.compile(optimizer=keras.optimizers.Adam(learning_rate=learning_rate), loss=\"mse\")\n",
        "model.summary()"
      ],
      "execution_count": null,
      "outputs": [
        {
          "output_type": "stream",
          "text": [
            "Model: \"model_15\"\n",
            "_________________________________________________________________\n",
            "Layer (type)                 Output Shape              Param #   \n",
            "=================================================================\n",
            "input_18 (InputLayer)        [(None, 3, 5)]            0         \n",
            "_________________________________________________________________\n",
            "conv1d_39 (Conv1D)           (None, 2, 32)             352       \n",
            "_________________________________________________________________\n",
            "conv1d_40 (Conv1D)           (None, 1, 64)             4160      \n",
            "_________________________________________________________________\n",
            "flatten_15 (Flatten)         (None, 64)                0         \n",
            "_________________________________________________________________\n",
            "dense_30 (Dense)             (None, 50)                3250      \n",
            "_________________________________________________________________\n",
            "dense_31 (Dense)             (None, 1)                 51        \n",
            "=================================================================\n",
            "Total params: 7,813\n",
            "Trainable params: 7,813\n",
            "Non-trainable params: 0\n",
            "_________________________________________________________________\n"
          ],
          "name": "stdout"
        }
      ]
    },
    {
      "cell_type": "code",
      "metadata": {
        "colab": {
          "base_uri": "https://localhost:8080/"
        },
        "id": "aukEhceNyKZ6",
        "outputId": "7ed859d1-80bb-499d-c1f2-a3665ec2a2e3"
      },
      "source": [
        "path_checkpoint = \"model_checkpoint.h5\"\n",
        "es_callback = keras.callbacks.EarlyStopping(monitor=\"val_loss\", min_delta=0, patience=10)\n",
        "\n",
        "modelckpt_callback = keras.callbacks.ModelCheckpoint(\n",
        "    monitor=\"val_loss\",\n",
        "    filepath=path_checkpoint,\n",
        "    verbose=1,\n",
        "    save_weights_only=True,\n",
        "    save_best_only=True,\n",
        ")\n",
        "\n",
        "history = model.fit(\n",
        "    dataset_train,\n",
        "    epochs=epochs,\n",
        "    validation_data=dataset_val,\n",
        "    callbacks=[es_callback, modelckpt_callback],\n",
        ")"
      ],
      "execution_count": null,
      "outputs": [
        {
          "output_type": "stream",
          "text": [
            "Epoch 1/100\n",
            "678/678 [==============================] - 2s 3ms/step - loss: 0.5467 - val_loss: 0.7389\n",
            "\n",
            "Epoch 00001: val_loss improved from inf to 0.73895, saving model to model_checkpoint.h5\n",
            "Epoch 2/100\n",
            "678/678 [==============================] - 2s 3ms/step - loss: 0.5169 - val_loss: 0.5845\n",
            "\n",
            "Epoch 00002: val_loss improved from 0.73895 to 0.58449, saving model to model_checkpoint.h5\n",
            "Epoch 3/100\n",
            "678/678 [==============================] - 2s 3ms/step - loss: 0.5211 - val_loss: 0.5894\n",
            "\n",
            "Epoch 00003: val_loss did not improve from 0.58449\n",
            "Epoch 4/100\n",
            "678/678 [==============================] - 2s 3ms/step - loss: 0.5261 - val_loss: 0.5645\n",
            "\n",
            "Epoch 00004: val_loss improved from 0.58449 to 0.56449, saving model to model_checkpoint.h5\n",
            "Epoch 5/100\n",
            "678/678 [==============================] - 2s 3ms/step - loss: 0.5598 - val_loss: 0.4971\n",
            "\n",
            "Epoch 00005: val_loss improved from 0.56449 to 0.49711, saving model to model_checkpoint.h5\n",
            "Epoch 6/100\n",
            "678/678 [==============================] - 2s 3ms/step - loss: 0.4985 - val_loss: 0.5017\n",
            "\n",
            "Epoch 00006: val_loss did not improve from 0.49711\n",
            "Epoch 7/100\n",
            "678/678 [==============================] - 2s 3ms/step - loss: 0.5387 - val_loss: 0.4198\n",
            "\n",
            "Epoch 00007: val_loss improved from 0.49711 to 0.41976, saving model to model_checkpoint.h5\n",
            "Epoch 8/100\n",
            "678/678 [==============================] - 2s 3ms/step - loss: 0.5269 - val_loss: 0.3838\n",
            "\n",
            "Epoch 00008: val_loss improved from 0.41976 to 0.38381, saving model to model_checkpoint.h5\n",
            "Epoch 9/100\n",
            "678/678 [==============================] - 2s 3ms/step - loss: 0.5505 - val_loss: 0.3173\n",
            "\n",
            "Epoch 00009: val_loss improved from 0.38381 to 0.31733, saving model to model_checkpoint.h5\n",
            "Epoch 10/100\n",
            "678/678 [==============================] - 2s 3ms/step - loss: 0.5350 - val_loss: 0.2799\n",
            "\n",
            "Epoch 00010: val_loss improved from 0.31733 to 0.27990, saving model to model_checkpoint.h5\n",
            "Epoch 11/100\n",
            "678/678 [==============================] - 2s 3ms/step - loss: 0.5484 - val_loss: 0.7272\n",
            "\n",
            "Epoch 00011: val_loss did not improve from 0.27990\n",
            "Epoch 12/100\n",
            "678/678 [==============================] - 2s 3ms/step - loss: 0.4964 - val_loss: 0.2619\n",
            "\n",
            "Epoch 00012: val_loss improved from 0.27990 to 0.26189, saving model to model_checkpoint.h5\n",
            "Epoch 13/100\n",
            "678/678 [==============================] - 2s 3ms/step - loss: 0.5434 - val_loss: 0.1824\n",
            "\n",
            "Epoch 00013: val_loss improved from 0.26189 to 0.18235, saving model to model_checkpoint.h5\n",
            "Epoch 14/100\n",
            "678/678 [==============================] - 2s 3ms/step - loss: 0.5149 - val_loss: 0.3189\n",
            "\n",
            "Epoch 00014: val_loss did not improve from 0.18235\n",
            "Epoch 15/100\n",
            "678/678 [==============================] - 2s 3ms/step - loss: 0.5373 - val_loss: 0.9251\n",
            "\n",
            "Epoch 00015: val_loss did not improve from 0.18235\n",
            "Epoch 16/100\n",
            "678/678 [==============================] - 2s 3ms/step - loss: 0.5283 - val_loss: 0.1689\n",
            "\n",
            "Epoch 00016: val_loss improved from 0.18235 to 0.16894, saving model to model_checkpoint.h5\n",
            "Epoch 17/100\n",
            "678/678 [==============================] - 2s 3ms/step - loss: 0.5597 - val_loss: 0.1476\n",
            "\n",
            "Epoch 00017: val_loss improved from 0.16894 to 0.14755, saving model to model_checkpoint.h5\n",
            "Epoch 18/100\n",
            "678/678 [==============================] - 2s 3ms/step - loss: 0.5497 - val_loss: 0.1684\n",
            "\n",
            "Epoch 00018: val_loss did not improve from 0.14755\n",
            "Epoch 19/100\n",
            "678/678 [==============================] - 2s 3ms/step - loss: 0.4848 - val_loss: 0.1861\n",
            "\n",
            "Epoch 00019: val_loss did not improve from 0.14755\n",
            "Epoch 20/100\n",
            "678/678 [==============================] - 2s 3ms/step - loss: 0.4863 - val_loss: 0.1995\n",
            "\n",
            "Epoch 00020: val_loss did not improve from 0.14755\n",
            "Epoch 21/100\n",
            "678/678 [==============================] - 2s 3ms/step - loss: 0.5421 - val_loss: 0.4014\n",
            "\n",
            "Epoch 00021: val_loss did not improve from 0.14755\n",
            "Epoch 22/100\n",
            "678/678 [==============================] - 2s 3ms/step - loss: 0.5273 - val_loss: 0.1615\n",
            "\n",
            "Epoch 00022: val_loss did not improve from 0.14755\n",
            "Epoch 23/100\n",
            "678/678 [==============================] - 2s 3ms/step - loss: 0.4959 - val_loss: 0.1772\n",
            "\n",
            "Epoch 00023: val_loss did not improve from 0.14755\n",
            "Epoch 24/100\n",
            "678/678 [==============================] - 2s 3ms/step - loss: 0.5215 - val_loss: 0.2456\n",
            "\n",
            "Epoch 00024: val_loss did not improve from 0.14755\n",
            "Epoch 25/100\n",
            "678/678 [==============================] - 2s 3ms/step - loss: 0.5191 - val_loss: 0.1719\n",
            "\n",
            "Epoch 00025: val_loss did not improve from 0.14755\n",
            "Epoch 26/100\n",
            "678/678 [==============================] - 2s 3ms/step - loss: 0.5161 - val_loss: 0.1668\n",
            "\n",
            "Epoch 00026: val_loss did not improve from 0.14755\n",
            "Epoch 27/100\n",
            "678/678 [==============================] - 2s 3ms/step - loss: 0.5498 - val_loss: 0.1748\n",
            "\n",
            "Epoch 00027: val_loss did not improve from 0.14755\n"
          ],
          "name": "stdout"
        }
      ]
    },
    {
      "cell_type": "code",
      "metadata": {
        "colab": {
          "base_uri": "https://localhost:8080/",
          "height": 424
        },
        "id": "YJ6_58aMyOkt",
        "outputId": "1aac0a94-a06f-4f42-bd7c-514d4185c8b4"
      },
      "source": [
        "def visualize_loss(history, title):\n",
        "    loss = history.history[\"loss\"]\n",
        "    val_loss = history.history[\"val_loss\"]\n",
        "    epochs = range(len(loss))\n",
        "    plt.figure()\n",
        "    plt.plot(epochs, loss, \"b\", label=\"Training loss\")\n",
        "    plt.plot(epochs, val_loss, \"r\", label=\"Validation loss\")\n",
        "    plt.title(title)\n",
        "    plt.xlabel(\"Epochs\")\n",
        "    plt.ylabel(\"Loss\")\n",
        "    plt.legend()\n",
        "    plt.show()\n",
        "\n",
        "\n",
        "visualize_loss(history, f\"Mean Square Error {model_type[-1]} QCNN Model\")"
      ],
      "execution_count": null,
      "outputs": [
        {
          "output_type": "display_data",
          "data": {
            "image/png": "[encoded data removed]",
            "text/plain": [
              "<Figure size 626.4x451.44 with 1 Axes>"
            ]
          },
          "metadata": {}
        }
      ]
    },
    {
      "cell_type": "code",
      "metadata": {
        "id": "NtN9CoP9yUoa"
      },
      "source": [
        "\n",
        "def show_plot(plot_data, delta, title):\n",
        "    labels = [\"History\", \"True Future\", \"Model Prediction\"]\n",
        "    marker = [\".-\", \"rx\", \"go\"]\n",
        "    time_steps = list(range(-(plot_data[0].shape[0]), 0))\n",
        "    if delta:\n",
        "        future = delta\n",
        "    else:\n",
        "        future = 0\n",
        "\n",
        "    plt.title(title)\n",
        "    for i, val in enumerate(plot_data):\n",
        "        if i:\n",
        "            plt.plot(future, plot_data[i], marker[i], markersize=10, label=labels[i])\n",
        "        else:\n",
        "            plt.plot(time_steps, plot_data[i].flatten(), marker[i], label=labels[i])\n",
        "    plt.legend()\n",
        "    plt.ylim([0, 5])\n",
        "    plt.xlim([time_steps[0], (future + 5) * 2])\n",
        "    plt.xlabel(\"Time-Step\")\n",
        "    plt.show()\n",
        "    return\n",
        "\n",
        "errors = []\n",
        "actual = []\n",
        "predicted = []\n",
        "\n",
        "for x, y in dataset_val.take(100):\n",
        "    show_plot(\n",
        "        [x[0][:, 4].numpy(), y[0].numpy(), model.predict(x)[0]],\n",
        "        1,\n",
        "        \"Single Step Prediction\",\n",
        "    )\n",
        "\n",
        "\n"
      ],
      "execution_count": null,
      "outputs": []
    },
    {
      "cell_type": "code",
      "metadata": {
        "colab": {
          "base_uri": "https://localhost:8080/",
          "height": 408
        },
        "id": "SgE19cdOGGmG",
        "outputId": "f8159b47-c4ac-4c8b-df83-da2e92319574"
      },
      "source": [
        "results = pd.DataFrame(columns=[\"Expected\", \"Predicted\"])#\"Expected_Trend\", \"Predicted_Trend\"])\n",
        "results[\"Expected\"] = actual\n",
        "#results[\"Expected_Trend\"] = results['Expected'].rolling(3).mean()\n",
        "\n",
        "results[\"Predicted\"] = predicted\n",
        "#results[\"Predicted_Trend\"] = results['Predicted'].rolling(3).mean()\n",
        "\n",
        "#plt.ylim(0,5)\n",
        "sns.set(rc={'figure.figsize':(8.7,6.27)})\n",
        "sns.lineplot(data=results,palette=\"deep\")#, label=\"Predictions\")\n",
        "#sns.lineplot(data = expected)#, label=\"Actual\")"
      ],
      "execution_count": null,
      "outputs": [
        {
          "output_type": "execute_result",
          "data": {
            "text/plain": [
              "<matplotlib.axes._subplots.AxesSubplot at 0x7f9138044ad0>"
            ]
          },
          "metadata": {},
          "execution_count": 111
        },
        {
          "output_type": "display_data",
          "data": {
            "image/png": "[encoded data removed]",
            "text/plain": [
              "<Figure size 626.4x451.44 with 1 Axes>"
            ]
          },
          "metadata": {}
        }
      ]
    },
    {
      "cell_type": "code",
      "metadata": {
        "colab": {
          "base_uri": "https://localhost:8080/"
        },
        "id": "OGw-BAK55rjC",
        "outputId": "f5ee09aa-b475-4cd5-a5d3-9750d98d162e"
      },
      "source": [
        "errors = np.array(errors)\n",
        "mape = np.mean(np.abs(errors)/actual)\n",
        "rmse = np.sqrt(np.mean((np.square(errors))))\n",
        "rmse_percent = rmse/np.mean(actual)\n",
        "mae = np.mean(np.abs(errors))\n",
        "mae_percent = np.mean(np.abs(errors))/np.mean(actual)\n",
        "\n",
        "\n",
        "accuracy = 100 - 100*mape\n",
        "print(f\"MAPE = {mape}\")\n",
        "print('Accuracy:', round(accuracy, 2), '%.')\n",
        "print(f\"RMSE: {rmse}\")\n",
        "print(f\"RMSE%: {rmse_percent}\")\n",
        "print(f\"MAE: {mae}\")\n",
        "print(f\"MAE%: {mae_percent}\")\n",
        "# Window = 1"
      ],
      "execution_count": null,
      "outputs": [
        {
          "output_type": "stream",
          "text": [
            "MAPE = 0.12740013492640345\n",
            "Accuracy: 87.26 %.\n",
            "RMSE: 0.41807010950721873\n",
            "RMSE%: 0.15411728626069054\n",
            "MAE: 0.29838006560802455\n",
            "MAE%: 0.10999477106841939\n"
          ],
          "name": "stdout"
        }
      ]
    },
    {
      "cell_type": "code",
      "metadata": {
        "id": "lxUoFV8X-qVq"
      },
      "source": [
        ""
      ],
      "execution_count": null,
      "outputs": []
    }
  ]
}