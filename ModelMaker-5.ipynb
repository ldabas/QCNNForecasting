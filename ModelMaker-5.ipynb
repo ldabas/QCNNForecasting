{
  "nbformat": 4,
  "nbformat_minor": 0,
  "metadata": {
    "colab": {
      "name": "ModelMaker.ipynb",
      "provenance": [],
      "collapsed_sections": [],
      "machine_shape": "hm"
    },
    "kernelspec": {
      "name": "python3",
      "display_name": "Python 3"
    },
    "language_info": {
      "name": "python"
    },
    "accelerator": "GPU"
  },
  "cells": [
    {
      "cell_type": "code",
      "metadata": {
        "colab": {
          "base_uri": "https://localhost:8080/"
        },
        "id": "0yKae44XUqLD",
        "outputId": "9e12c740-1295-47f1-976a-4c38b9ed47ab"
      },
      "source": [
        "import tensorflow as tf\n",
        "from tensorflow import keras\n",
        "from tensorflow.keras import layers\n",
        "from keras.layers import Dense, Flatten, Conv1D\n",
        "import pandas as pd\n",
        "from statsmodels.tsa.seasonal import seasonal_decompose\n",
        "from statsmodels.multivariate.pca import PCA\n",
        "from sklearn.ensemble import RandomForestRegressor\n",
        "import matplotlib.pyplot as plt\n",
        "from sklearn.preprocessing import StandardScaler\n",
        "from math import sqrt\n",
        "from statsmodels.tsa.api import ExponentialSmoothing\n",
        "from statsmodels.tsa.holtwinters import SimpleExpSmoothing, Holt\n",
        "from statsmodels.tsa.api import VAR\n",
        "import numpy as np\n",
        "import seaborn as sns\n",
        "sns.set(rc={'figure.figsize':(8.7,6.27)})\n",
        "\n",
        "from numpy import array\n",
        "from numpy import hstack\n",
        "from keras.models import Model\n",
        "from keras.layers import Input\n",
        "from keras.layers import Dense\n",
        "from keras.layers import Flatten\n",
        "from keras.layers.convolutional import Conv1D\n",
        "from keras.layers.convolutional import MaxPooling1D\n",
        "from keras.layers.merge import concatenate\n",
        "from keras.layers import LeakyReLU\n",
        "\n",
        "model_type = []\n",
        "global model_type\n",
        "\n",
        "\n",
        "\n",
        "def update_model_type(var):\n",
        "    model_type.append(var)\n",
        "\n",
        "sample = []\n",
        "global sample\n",
        "\n",
        "\n",
        "\n",
        "def update_sample(var):\n",
        "    sample.append(var)\n",
        "\n",
        "\n",
        "\n"
      ],
      "execution_count": null,
      "outputs": [
        {
          "output_type": "stream",
          "text": [
            "/usr/local/lib/python3.7/dist-packages/statsmodels/tools/_testing.py:19: FutureWarning: pandas.util.testing is deprecated. Use the functions in the public API at pandas.testing instead.\n",
            "  import pandas.util.testing as tm\n"
          ],
          "name": "stderr"
        }
      ]
    },
    {
      "cell_type": "code",
      "metadata": {
        "colab": {
          "base_uri": "https://localhost:8080/"
        },
        "id": "nsFVj5X2VIhH",
        "outputId": "83269adb-ce63-4cc9-a75a-c3be430c45b2"
      },
      "source": [
        "%tensorflow_version 2.x\n",
        "import tensorflow as tf\n",
        "device_name = tf.test.gpu_device_name()\n",
        "if device_name != '/device:GPU:0':\n",
        "  raise SystemError('GPU device not found')\n",
        "print('Found GPU at: {}'.format(device_name))"
      ],
      "execution_count": null,
      "outputs": [
        {
          "output_type": "stream",
          "text": [
            "Found GPU at: /device:GPU:0\n"
          ],
          "name": "stdout"
        }
      ]
    },
    {
      "cell_type": "code",
      "metadata": {
        "id": "pOrWeJTeVOF8"
      },
      "source": [
        "#IMPORT VIABLE DATA\n",
        "df = pd.read_csv(\"viable_dataset.csv\", index_col=\"Date\")"
      ],
      "execution_count": null,
      "outputs": []
    },
    {
      "cell_type": "code",
      "metadata": {
        "colab": {
          "base_uri": "https://localhost:8080/"
        },
        "id": "igTSgoJvVWdk",
        "outputId": "40b4a45b-0cc4-40bd-8daf-3e5115613388"
      },
      "source": [
        "df.corr()['BIOGAS_PRODUCTION_Q_DAY'].abs().sort_values(ascending=False)"
      ],
      "execution_count": null,
      "outputs": [
        {
          "output_type": "execute_result",
          "data": {
            "text/plain": [
              "BIOGAS_PRODUCTION_Q_DAY                           1.000000\n",
              "TPS_Q1_DAY                                        0.149911\n",
              "PS_Q_DAY                                          0.148351\n",
              "DIGESTED_SLUDGE_QOUT_DAY                          0.130412\n",
              "DIG_SLUDGE_DEWATER_DS_AFTER_DEWATER_3_PER_WEEK    0.079594\n",
              "TWAS_DAF_QIN_DAY                                  0.061662\n",
              "Name: BIOGAS_PRODUCTION_Q_DAY, dtype: float64"
            ]
          },
          "metadata": {},
          "execution_count": 4
        }
      ]
    },
    {
      "cell_type": "code",
      "metadata": {
        "id": "6tnRJXH8WFDy"
      },
      "source": [
        "def normalize(data, train_split):\n",
        "    data_mean = data[:train_split].mean(axis=0)\n",
        "    data_std = data[:train_split].std(axis=0)\n",
        "    return (data - data_mean) / data_std\n",
        "\n",
        "def smooth(dataset, train_split, smooth_level):\n",
        "  for column in dataset.columns:\n",
        "    data = dataset[column]\n",
        "    exp = ExponentialSmoothing(data[:train_split])\n",
        "    exp_model = exp.fit(smoothing_level=smooth_level)\n",
        "    result = exp_model.fittedvalues\n",
        "    dataset[column][:train_split] = result\n",
        "    return dataset\n",
        "\n",
        "class UndefinedModelError(Exception):\n",
        "    \"\"\"Please input either 'discrete' or 'time-window' as model type\"\"\"\n",
        "    def __init__(self, message=\"Please input either 'discrete' or 'time-window' as model type and Specify Inputs\"):\n",
        "        self.message = message\n",
        "        super().__init__(self.message)\n",
        "    pass"
      ],
      "execution_count": null,
      "outputs": []
    },
    {
      "cell_type": "code",
      "metadata": {
        "id": "RXCLlUPcWLlS"
      },
      "source": [
        "split_fraction = 0.8\n",
        "train_split = int(split_fraction * int(df.shape[0]))\n",
        "test_split = int((split_fraction+0.15) * int(df.shape[0]))\n",
        "step = 1\n",
        "future =1\n",
        "\n",
        "\n",
        "learning_rate = 0.001\n",
        "batch_size = 1\n",
        "epochs = 5"
      ],
      "execution_count": null,
      "outputs": []
    },
    {
      "cell_type": "code",
      "metadata": {
        "colab": {
          "base_uri": "https://localhost:8080/"
        },
        "id": "Fb1zD5yLWZX6",
        "outputId": "6c27bd8e-2c41-4b6d-f900-3e45766726c9"
      },
      "source": [
        "cols = [df.columns[i] for i in [0, 1, 2, 3, 4, 5]]\n",
        "selected_features = [df.columns[i] for i in [0, 1, 2, 3, 4, 5]]\n",
        "features = df[selected_features]\n",
        "features.set_index(df.index, inplace=True)\n",
        "#print(features.head())\n",
        "\n",
        "features = smooth(features, train_split, smooth_level=0.2)\n",
        "#print(features.head())\n",
        "\n",
        "#features = normalize(features.values, train_split)\n",
        "features = pd.DataFrame(features.values)\n",
        "#print(features.head())\n",
        "\n",
        "\n",
        "\n",
        "train_data = features.loc[0 : train_split]\n",
        "test_data = features.loc[train_split:test_split]\n",
        "val_data = features.loc[test_split:]\n"
      ],
      "execution_count": null,
      "outputs": [
        {
          "output_type": "stream",
          "text": [
            "/usr/local/lib/python3.7/dist-packages/statsmodels/tsa/base/tsa_model.py:165: ValueWarning: No frequency information was provided, so inferred frequency D will be used.\n",
            "  % freq, ValueWarning)\n",
            "/usr/local/lib/python3.7/dist-packages/ipykernel_launcher.py:12: SettingWithCopyWarning: \n",
            "A value is trying to be set on a copy of a slice from a DataFrame\n",
            "\n",
            "See the caveats in the documentation: https://pandas.pydata.org/pandas-docs/stable/user_guide/indexing.html#returning-a-view-versus-a-copy\n",
            "  if sys.path[0] == '':\n"
          ],
          "name": "stderr"
        }
      ]
    },
    {
      "cell_type": "code",
      "metadata": {
        "id": "6IDp1qLCXEEx"
      },
      "source": [
        "def generate_classical_dataset(past, future):\n",
        "  \n",
        "  start = past + future\n",
        "  end = start + train_split\n",
        "\n",
        "  x_train = train_data[[0, 1, 2, 3, 5]].values\n",
        "  y_train = features.iloc[start:end][[4]]\n",
        "\n",
        "  sequence_length = int(past / step)\n",
        "\n",
        "  dataset_train = keras.preprocessing.timeseries_dataset_from_array(\n",
        "    x_train,\n",
        "    y_train,\n",
        "    sequence_length=sequence_length,\n",
        "    sampling_rate=step,\n",
        "    batch_size=batch_size,\n",
        ")\n",
        "\n",
        "  start = test_split + past + future\n",
        "  end = start+test_split\n",
        "\n",
        "  x_val = val_data[[0,1,2,3,5]].values\n",
        "  y_val = features.iloc[start:end][[4]]\n",
        "\n",
        "  dataset_val = keras.preprocessing.timeseries_dataset_from_array(\n",
        "      x_val,\n",
        "      y_val,\n",
        "      sequence_length=sequence_length,\n",
        "      sampling_rate=step,\n",
        "      batch_size=batch_size,\n",
        "  )\n",
        "\n",
        "\n",
        "\n",
        "  start = train_split + past + future\n",
        "  end = start+test_split\n",
        "\n",
        "  x_test = test_data[[0, 1, 2, 3, 5]].values\n",
        "  y_test = features.iloc[start:end][[4]]\n",
        "\n",
        "  dataset_test = keras.preprocessing.timeseries_dataset_from_array(\n",
        "      x_test,\n",
        "      y_test,\n",
        "      sequence_length=sequence_length,\n",
        "      sampling_rate=step,\n",
        "      batch_size=batch_size,\n",
        "  )\n",
        "\n",
        "\n",
        "  return dataset_train, dataset_val, dataset_test"
      ],
      "execution_count": null,
      "outputs": []
    },
    {
      "cell_type": "code",
      "metadata": {
        "id": "nDc3lPe8aDOO"
      },
      "source": [
        "def build_model(mtype, inputs):\n",
        "\n",
        "  if mtype=='discrete':\n",
        "    kernel_size = 1\n",
        "  elif mtype=='time-window':\n",
        "    kernel_size = 2\n",
        "  else:\n",
        "    raise UndefinedModelError\n",
        "\n",
        "  inputs = Input(shape=(inputs.shape[1], inputs.shape[2]))\n",
        "  lrelu = lambda x: tf.keras.layers.LeakyReLU(alpha=0.1)(x)\n",
        "  cnn = Conv1D(filters=32, kernel_size=kernel_size, activation=lrelu)(inputs)\n",
        "  cnn = Conv1D(filters=64, kernel_size=kernel_size, activation=lrelu)(cnn)\n",
        "\n",
        "  cnn = Flatten()(cnn)\n",
        "\n",
        "  dense = Dense(50, activation=lrelu)(cnn)\n",
        "  output = Dense(1)(dense)\n",
        "\n",
        "  model = keras.Model(inputs=inputs, outputs=output)\n",
        "  model.compile(optimizer=keras.optimizers.Adam(learning_rate=learning_rate), loss=\"mse\")\n",
        "  return model"
      ],
      "execution_count": null,
      "outputs": []
    },
    {
      "cell_type": "code",
      "metadata": {
        "id": "q613C7ddcmrV"
      },
      "source": [
        "def get_callbacks(patience=5):\n",
        "  path_checkpoint = \"model_checkpoint.h5\"\n",
        "  es_callback = keras.callbacks.EarlyStopping(monitor=\"val_loss\", min_delta=0, patience=patience)\n",
        "\n",
        "  modelckpt_callback = keras.callbacks.ModelCheckpoint(\n",
        "      monitor=\"val_loss\",\n",
        "      filepath=path_checkpoint,\n",
        "      verbose=0,\n",
        "      save_weights_only=True,\n",
        "      save_best_only=True,\n",
        "  )\n",
        "\n",
        "  return es_callback, modelckpt_callback"
      ],
      "execution_count": null,
      "outputs": []
    },
    {
      "cell_type": "code",
      "metadata": {
        "id": "VqaXd1VIgqDB"
      },
      "source": [
        "def train_model(model, es_callback, modelckpt_callback, dataset_train, dataset_val):\n",
        "  history = model.fit(\n",
        "    dataset_train,\n",
        "    epochs=epochs,\n",
        "    validation_data=dataset_val,\n",
        "    callbacks=[es_callback, modelckpt_callback],\n",
        ")\n",
        "  return model, history"
      ],
      "execution_count": null,
      "outputs": []
    },
    {
      "cell_type": "code",
      "metadata": {
        "id": "JA05uwP-WeKk"
      },
      "source": [
        "def make_discrete_data_cnn_model(retrain = False, model = None, history=None):\n",
        "  update_model_type('discrete')\n",
        "  past = 1\n",
        "  future = 1\n",
        "  dataset_train, dataset_val, dataset_test= generate_classical_dataset(past, future)\n",
        "  es_callback, modelckpt_callback = get_callbacks(patience = 3)\n",
        "  for batch in dataset_train.take(1):\n",
        "    inputs, targets = batch\n",
        "  print(\"Input shape:\", inputs.numpy().shape)\n",
        "  print(\"Target shape:\", targets.numpy().shape)\n",
        "  if not retrain:\n",
        "    model= build_model(model_type[-1], inputs)\n",
        "  \n",
        "\n",
        "  return train_model(model, es_callback, modelckpt_callback, dataset_train, dataset_val)\n",
        "\n",
        "\n",
        "\n"
      ],
      "execution_count": null,
      "outputs": []
    },
    {
      "cell_type": "code",
      "metadata": {
        "id": "70GPJsGRkZ2f"
      },
      "source": [
        "def make_time_window_cnn_model(retrain = False, model = None, history=None):\n",
        "  update_model_type('time-window')\n",
        "  past = 3\n",
        "  future = 1\n",
        "  dataset_train, dataset_val, dataset_test= generate_classical_dataset(past, future)\n",
        "  es_callback, modelckpt_callback = get_callbacks(3)\n",
        "  for batch in dataset_train.take(1):\n",
        "    inputs, targets = batch\n",
        "  print(\"Input shape:\", inputs.numpy().shape)\n",
        "  print(\"Target shape:\", targets.numpy().shape)\n",
        "  if not retrain:\n",
        "    model= build_model(model_type[-1], inputs)\n",
        "  \n",
        "  \n",
        "  return train_model(model, es_callback, modelckpt_callback, dataset_train, dataset_val)"
      ],
      "execution_count": null,
      "outputs": []
    },
    {
      "cell_type": "code",
      "metadata": {
        "colab": {
          "base_uri": "https://localhost:8080/",
          "height": 579
        },
        "id": "sXSkMVWCZV5t",
        "outputId": "f2d45772-81b6-48e3-c724-a82c246cb4da"
      },
      "source": [
        "model, history= make_time_window_cnn_model()\n",
        "while np.min(history.history['val_loss'])>0.18:\n",
        "  model, history = make_time_window_cnn_model(retrain = True, model=model, history=history)\n",
        "#model, history = make_time_window_cnn_model(retrain = True, model=model, history=history) # To use Checkpoints"
      ],
      "execution_count": null,
      "outputs": [
        {
          "output_type": "stream",
          "text": [
            "Input shape: (1, 3, 5)\n",
            "Target shape: (1, 1)\n",
            "Epoch 1/100\n",
            "594/594 [==============================] - 3s 4ms/step - loss: 150.7673 - val_loss: 28.2765\n",
            "Epoch 2/100\n",
            "594/594 [==============================] - 2s 3ms/step - loss: 23.9851 - val_loss: 14.2180\n",
            "Epoch 3/100\n",
            "594/594 [==============================] - 2s 3ms/step - loss: 12.0047 - val_loss: 34.7093\n",
            "Epoch 4/100\n",
            "594/594 [==============================] - 2s 3ms/step - loss: 6.6755 - val_loss: 31.2385\n",
            "Epoch 5/100\n",
            "122/594 [=====>........................] - ETA: 1s - loss: 5.0651"
          ],
          "name": "stdout"
        },
        {
          "output_type": "error",
          "ename": "KeyboardInterrupt",
          "evalue": "ignored",
          "traceback": [
            "\u001b[0;31m---------------------------------------------------------------------------\u001b[0m",
            "\u001b[0;31mKeyboardInterrupt\u001b[0m                         Traceback (most recent call last)",
            "\u001b[0;32m<ipython-input-48-a8bc952708a1>\u001b[0m in \u001b[0;36m<module>\u001b[0;34m()\u001b[0m\n\u001b[0;32m----> 1\u001b[0;31m \u001b[0mmodel\u001b[0m\u001b[0;34m,\u001b[0m \u001b[0mhistory\u001b[0m\u001b[0;34m=\u001b[0m \u001b[0mmake_time_window_cnn_model\u001b[0m\u001b[0;34m(\u001b[0m\u001b[0;34m)\u001b[0m\u001b[0;34m\u001b[0m\u001b[0;34m\u001b[0m\u001b[0m\n\u001b[0m\u001b[1;32m      2\u001b[0m \u001b[0;32mwhile\u001b[0m \u001b[0mnp\u001b[0m\u001b[0;34m.\u001b[0m\u001b[0mmin\u001b[0m\u001b[0;34m(\u001b[0m\u001b[0mhistory\u001b[0m\u001b[0;34m.\u001b[0m\u001b[0mhistory\u001b[0m\u001b[0;34m[\u001b[0m\u001b[0;34m'val_loss'\u001b[0m\u001b[0;34m]\u001b[0m\u001b[0;34m)\u001b[0m\u001b[0;34m>\u001b[0m\u001b[0;36m0.18\u001b[0m\u001b[0;34m:\u001b[0m\u001b[0;34m\u001b[0m\u001b[0;34m\u001b[0m\u001b[0m\n\u001b[1;32m      3\u001b[0m   \u001b[0mmodel\u001b[0m\u001b[0;34m,\u001b[0m \u001b[0mhistory\u001b[0m \u001b[0;34m=\u001b[0m \u001b[0mmake_time_window_cnn_model\u001b[0m\u001b[0;34m(\u001b[0m\u001b[0mretrain\u001b[0m \u001b[0;34m=\u001b[0m \u001b[0;32mTrue\u001b[0m\u001b[0;34m,\u001b[0m \u001b[0mmodel\u001b[0m\u001b[0;34m=\u001b[0m\u001b[0mmodel\u001b[0m\u001b[0;34m,\u001b[0m \u001b[0mhistory\u001b[0m\u001b[0;34m=\u001b[0m\u001b[0mhistory\u001b[0m\u001b[0;34m)\u001b[0m\u001b[0;34m\u001b[0m\u001b[0;34m\u001b[0m\u001b[0m\n\u001b[1;32m      4\u001b[0m \u001b[0;31m#model, history = make_time_window_cnn_model(retrain = True, model=model, history=history) # To use Checkpoints\u001b[0m\u001b[0;34m\u001b[0m\u001b[0;34m\u001b[0m\u001b[0;34m\u001b[0m\u001b[0m\n",
            "\u001b[0;32m<ipython-input-13-a709275a5f0d>\u001b[0m in \u001b[0;36mmake_time_window_cnn_model\u001b[0;34m(retrain, model, history)\u001b[0m\n\u001b[1;32m     13\u001b[0m \u001b[0;34m\u001b[0m\u001b[0m\n\u001b[1;32m     14\u001b[0m \u001b[0;34m\u001b[0m\u001b[0m\n\u001b[0;32m---> 15\u001b[0;31m   \u001b[0;32mreturn\u001b[0m \u001b[0mtrain_model\u001b[0m\u001b[0;34m(\u001b[0m\u001b[0mmodel\u001b[0m\u001b[0;34m,\u001b[0m \u001b[0mes_callback\u001b[0m\u001b[0;34m,\u001b[0m \u001b[0mmodelckpt_callback\u001b[0m\u001b[0;34m,\u001b[0m \u001b[0mdataset_train\u001b[0m\u001b[0;34m,\u001b[0m \u001b[0mdataset_val\u001b[0m\u001b[0;34m)\u001b[0m\u001b[0;34m\u001b[0m\u001b[0;34m\u001b[0m\u001b[0m\n\u001b[0m",
            "\u001b[0;32m<ipython-input-46-843e550b0adb>\u001b[0m in \u001b[0;36mtrain_model\u001b[0;34m(model, es_callback, modelckpt_callback, dataset_train, dataset_val)\u001b[0m\n\u001b[1;32m      4\u001b[0m     \u001b[0mepochs\u001b[0m\u001b[0;34m=\u001b[0m\u001b[0mepochs\u001b[0m\u001b[0;34m,\u001b[0m\u001b[0;34m\u001b[0m\u001b[0;34m\u001b[0m\u001b[0m\n\u001b[1;32m      5\u001b[0m     \u001b[0mvalidation_data\u001b[0m\u001b[0;34m=\u001b[0m\u001b[0mdataset_val\u001b[0m\u001b[0;34m,\u001b[0m\u001b[0;34m\u001b[0m\u001b[0;34m\u001b[0m\u001b[0m\n\u001b[0;32m----> 6\u001b[0;31m     \u001b[0mcallbacks\u001b[0m\u001b[0;34m=\u001b[0m\u001b[0;34m[\u001b[0m\u001b[0mes_callback\u001b[0m\u001b[0;34m,\u001b[0m \u001b[0mmodelckpt_callback\u001b[0m\u001b[0;34m]\u001b[0m\u001b[0;34m,\u001b[0m\u001b[0;34m\u001b[0m\u001b[0;34m\u001b[0m\u001b[0m\n\u001b[0m\u001b[1;32m      7\u001b[0m )\n\u001b[1;32m      8\u001b[0m   \u001b[0;32mreturn\u001b[0m \u001b[0mmodel\u001b[0m\u001b[0;34m,\u001b[0m \u001b[0mhistory\u001b[0m\u001b[0;34m\u001b[0m\u001b[0;34m\u001b[0m\u001b[0m\n",
            "\u001b[0;32m/usr/local/lib/python3.7/dist-packages/keras/engine/training.py\u001b[0m in \u001b[0;36mfit\u001b[0;34m(self, x, y, batch_size, epochs, verbose, callbacks, validation_split, validation_data, shuffle, class_weight, sample_weight, initial_epoch, steps_per_epoch, validation_steps, validation_batch_size, validation_freq, max_queue_size, workers, use_multiprocessing)\u001b[0m\n\u001b[1;32m   1182\u001b[0m                 _r=1):\n\u001b[1;32m   1183\u001b[0m               \u001b[0mcallbacks\u001b[0m\u001b[0;34m.\u001b[0m\u001b[0mon_train_batch_begin\u001b[0m\u001b[0;34m(\u001b[0m\u001b[0mstep\u001b[0m\u001b[0;34m)\u001b[0m\u001b[0;34m\u001b[0m\u001b[0;34m\u001b[0m\u001b[0m\n\u001b[0;32m-> 1184\u001b[0;31m               \u001b[0mtmp_logs\u001b[0m \u001b[0;34m=\u001b[0m \u001b[0mself\u001b[0m\u001b[0;34m.\u001b[0m\u001b[0mtrain_function\u001b[0m\u001b[0;34m(\u001b[0m\u001b[0miterator\u001b[0m\u001b[0;34m)\u001b[0m\u001b[0;34m\u001b[0m\u001b[0;34m\u001b[0m\u001b[0m\n\u001b[0m\u001b[1;32m   1185\u001b[0m               \u001b[0;32mif\u001b[0m \u001b[0mdata_handler\u001b[0m\u001b[0;34m.\u001b[0m\u001b[0mshould_sync\u001b[0m\u001b[0;34m:\u001b[0m\u001b[0;34m\u001b[0m\u001b[0;34m\u001b[0m\u001b[0m\n\u001b[1;32m   1186\u001b[0m                 \u001b[0mcontext\u001b[0m\u001b[0;34m.\u001b[0m\u001b[0masync_wait\u001b[0m\u001b[0;34m(\u001b[0m\u001b[0;34m)\u001b[0m\u001b[0;34m\u001b[0m\u001b[0;34m\u001b[0m\u001b[0m\n",
            "\u001b[0;32m/usr/local/lib/python3.7/dist-packages/tensorflow/python/eager/def_function.py\u001b[0m in \u001b[0;36m__call__\u001b[0;34m(self, *args, **kwds)\u001b[0m\n\u001b[1;32m    883\u001b[0m \u001b[0;34m\u001b[0m\u001b[0m\n\u001b[1;32m    884\u001b[0m       \u001b[0;32mwith\u001b[0m \u001b[0mOptionalXlaContext\u001b[0m\u001b[0;34m(\u001b[0m\u001b[0mself\u001b[0m\u001b[0;34m.\u001b[0m\u001b[0m_jit_compile\u001b[0m\u001b[0;34m)\u001b[0m\u001b[0;34m:\u001b[0m\u001b[0;34m\u001b[0m\u001b[0;34m\u001b[0m\u001b[0m\n\u001b[0;32m--> 885\u001b[0;31m         \u001b[0mresult\u001b[0m \u001b[0;34m=\u001b[0m \u001b[0mself\u001b[0m\u001b[0;34m.\u001b[0m\u001b[0m_call\u001b[0m\u001b[0;34m(\u001b[0m\u001b[0;34m*\u001b[0m\u001b[0margs\u001b[0m\u001b[0;34m,\u001b[0m \u001b[0;34m**\u001b[0m\u001b[0mkwds\u001b[0m\u001b[0;34m)\u001b[0m\u001b[0;34m\u001b[0m\u001b[0;34m\u001b[0m\u001b[0m\n\u001b[0m\u001b[1;32m    886\u001b[0m \u001b[0;34m\u001b[0m\u001b[0m\n\u001b[1;32m    887\u001b[0m       \u001b[0mnew_tracing_count\u001b[0m \u001b[0;34m=\u001b[0m \u001b[0mself\u001b[0m\u001b[0;34m.\u001b[0m\u001b[0mexperimental_get_tracing_count\u001b[0m\u001b[0;34m(\u001b[0m\u001b[0;34m)\u001b[0m\u001b[0;34m\u001b[0m\u001b[0;34m\u001b[0m\u001b[0m\n",
            "\u001b[0;32m/usr/local/lib/python3.7/dist-packages/tensorflow/python/eager/def_function.py\u001b[0m in \u001b[0;36m_call\u001b[0;34m(self, *args, **kwds)\u001b[0m\n\u001b[1;32m    915\u001b[0m       \u001b[0;31m# In this case we have created variables on the first call, so we run the\u001b[0m\u001b[0;34m\u001b[0m\u001b[0;34m\u001b[0m\u001b[0;34m\u001b[0m\u001b[0m\n\u001b[1;32m    916\u001b[0m       \u001b[0;31m# defunned version which is guaranteed to never create variables.\u001b[0m\u001b[0;34m\u001b[0m\u001b[0;34m\u001b[0m\u001b[0;34m\u001b[0m\u001b[0m\n\u001b[0;32m--> 917\u001b[0;31m       \u001b[0;32mreturn\u001b[0m \u001b[0mself\u001b[0m\u001b[0;34m.\u001b[0m\u001b[0m_stateless_fn\u001b[0m\u001b[0;34m(\u001b[0m\u001b[0;34m*\u001b[0m\u001b[0margs\u001b[0m\u001b[0;34m,\u001b[0m \u001b[0;34m**\u001b[0m\u001b[0mkwds\u001b[0m\u001b[0;34m)\u001b[0m  \u001b[0;31m# pylint: disable=not-callable\u001b[0m\u001b[0;34m\u001b[0m\u001b[0;34m\u001b[0m\u001b[0m\n\u001b[0m\u001b[1;32m    918\u001b[0m     \u001b[0;32melif\u001b[0m \u001b[0mself\u001b[0m\u001b[0;34m.\u001b[0m\u001b[0m_stateful_fn\u001b[0m \u001b[0;32mis\u001b[0m \u001b[0;32mnot\u001b[0m \u001b[0;32mNone\u001b[0m\u001b[0;34m:\u001b[0m\u001b[0;34m\u001b[0m\u001b[0;34m\u001b[0m\u001b[0m\n\u001b[1;32m    919\u001b[0m       \u001b[0;31m# Release the lock early so that multiple threads can perform the call\u001b[0m\u001b[0;34m\u001b[0m\u001b[0;34m\u001b[0m\u001b[0;34m\u001b[0m\u001b[0m\n",
            "\u001b[0;32m/usr/local/lib/python3.7/dist-packages/tensorflow/python/eager/function.py\u001b[0m in \u001b[0;36m__call__\u001b[0;34m(self, *args, **kwargs)\u001b[0m\n\u001b[1;32m   3038\u001b[0m        filtered_flat_args) = self._maybe_define_function(args, kwargs)\n\u001b[1;32m   3039\u001b[0m     return graph_function._call_flat(\n\u001b[0;32m-> 3040\u001b[0;31m         filtered_flat_args, captured_inputs=graph_function.captured_inputs)  # pylint: disable=protected-access\n\u001b[0m\u001b[1;32m   3041\u001b[0m \u001b[0;34m\u001b[0m\u001b[0m\n\u001b[1;32m   3042\u001b[0m   \u001b[0;34m@\u001b[0m\u001b[0mproperty\u001b[0m\u001b[0;34m\u001b[0m\u001b[0;34m\u001b[0m\u001b[0m\n",
            "\u001b[0;32m/usr/local/lib/python3.7/dist-packages/tensorflow/python/eager/function.py\u001b[0m in \u001b[0;36m_call_flat\u001b[0;34m(self, args, captured_inputs, cancellation_manager)\u001b[0m\n\u001b[1;32m   1962\u001b[0m       \u001b[0;31m# No tape is watching; skip to running the function.\u001b[0m\u001b[0;34m\u001b[0m\u001b[0;34m\u001b[0m\u001b[0;34m\u001b[0m\u001b[0m\n\u001b[1;32m   1963\u001b[0m       return self._build_call_outputs(self._inference_function.call(\n\u001b[0;32m-> 1964\u001b[0;31m           ctx, args, cancellation_manager=cancellation_manager))\n\u001b[0m\u001b[1;32m   1965\u001b[0m     forward_backward = self._select_forward_and_backward_functions(\n\u001b[1;32m   1966\u001b[0m         \u001b[0margs\u001b[0m\u001b[0;34m,\u001b[0m\u001b[0;34m\u001b[0m\u001b[0;34m\u001b[0m\u001b[0m\n",
            "\u001b[0;32m/usr/local/lib/python3.7/dist-packages/tensorflow/python/eager/function.py\u001b[0m in \u001b[0;36mcall\u001b[0;34m(self, ctx, args, cancellation_manager)\u001b[0m\n\u001b[1;32m    594\u001b[0m               \u001b[0minputs\u001b[0m\u001b[0;34m=\u001b[0m\u001b[0margs\u001b[0m\u001b[0;34m,\u001b[0m\u001b[0;34m\u001b[0m\u001b[0;34m\u001b[0m\u001b[0m\n\u001b[1;32m    595\u001b[0m               \u001b[0mattrs\u001b[0m\u001b[0;34m=\u001b[0m\u001b[0mattrs\u001b[0m\u001b[0;34m,\u001b[0m\u001b[0;34m\u001b[0m\u001b[0;34m\u001b[0m\u001b[0m\n\u001b[0;32m--> 596\u001b[0;31m               ctx=ctx)\n\u001b[0m\u001b[1;32m    597\u001b[0m         \u001b[0;32melse\u001b[0m\u001b[0;34m:\u001b[0m\u001b[0;34m\u001b[0m\u001b[0;34m\u001b[0m\u001b[0m\n\u001b[1;32m    598\u001b[0m           outputs = execute.execute_with_cancellation(\n",
            "\u001b[0;32m/usr/local/lib/python3.7/dist-packages/tensorflow/python/eager/execute.py\u001b[0m in \u001b[0;36mquick_execute\u001b[0;34m(op_name, num_outputs, inputs, attrs, ctx, name)\u001b[0m\n\u001b[1;32m     58\u001b[0m     \u001b[0mctx\u001b[0m\u001b[0;34m.\u001b[0m\u001b[0mensure_initialized\u001b[0m\u001b[0;34m(\u001b[0m\u001b[0;34m)\u001b[0m\u001b[0;34m\u001b[0m\u001b[0;34m\u001b[0m\u001b[0m\n\u001b[1;32m     59\u001b[0m     tensors = pywrap_tfe.TFE_Py_Execute(ctx._handle, device_name, op_name,\n\u001b[0;32m---> 60\u001b[0;31m                                         inputs, attrs, num_outputs)\n\u001b[0m\u001b[1;32m     61\u001b[0m   \u001b[0;32mexcept\u001b[0m \u001b[0mcore\u001b[0m\u001b[0;34m.\u001b[0m\u001b[0m_NotOkStatusException\u001b[0m \u001b[0;32mas\u001b[0m \u001b[0me\u001b[0m\u001b[0;34m:\u001b[0m\u001b[0;34m\u001b[0m\u001b[0;34m\u001b[0m\u001b[0m\n\u001b[1;32m     62\u001b[0m     \u001b[0;32mif\u001b[0m \u001b[0mname\u001b[0m \u001b[0;32mis\u001b[0m \u001b[0;32mnot\u001b[0m \u001b[0;32mNone\u001b[0m\u001b[0;34m:\u001b[0m\u001b[0;34m\u001b[0m\u001b[0;34m\u001b[0m\u001b[0m\n",
            "\u001b[0;31mKeyboardInterrupt\u001b[0m: "
          ]
        }
      ]
    },
    {
      "cell_type": "code",
      "metadata": {
        "colab": {
          "base_uri": "https://localhost:8080/"
        },
        "id": "iVvGK0vpA3LQ",
        "outputId": "daf333a3-5c32-44d9-bdbe-ecd2f7fb833b"
      },
      "source": [
        "model, history= make_discrete_data_cnn_model()\n",
        "#model, history = make_discrete_data_cnn_model(retrain = True, model=model, history=history) # To use Checkpoints"
      ],
      "execution_count": null,
      "outputs": [
        {
          "output_type": "stream",
          "text": [
            "Input shape: (1, 1, 5)\n",
            "Target shape: (1, 1)\n",
            "Epoch 1/5\n",
            "596/596 [==============================] - 2s 3ms/step - loss: 142.3010 - val_loss: 1.6336\n",
            "Epoch 2/5\n",
            "596/596 [==============================] - 2s 3ms/step - loss: 3.6084 - val_loss: 1.5828\n",
            "Epoch 3/5\n",
            "596/596 [==============================] - 2s 3ms/step - loss: 3.0665 - val_loss: 0.9311\n",
            "Epoch 4/5\n",
            "596/596 [==============================] - 2s 3ms/step - loss: 3.0720 - val_loss: 2.1944\n",
            "Epoch 5/5\n",
            "596/596 [==============================] - 2s 3ms/step - loss: 3.0571 - val_loss: 9.1078\n"
          ],
          "name": "stdout"
        }
      ]
    },
    {
      "cell_type": "markdown",
      "metadata": {
        "id": "IjTB9Gg65bJX"
      },
      "source": [
        "# **Model Validator**"
      ]
    },
    {
      "cell_type": "code",
      "metadata": {
        "colab": {
          "base_uri": "https://localhost:8080/",
          "height": 424
        },
        "id": "7aqwUyJ-irn5",
        "outputId": "8ebad866-7334-4050-eb5a-99a96d7ec67c"
      },
      "source": [
        "def visualize_loss(history, title):\n",
        "    loss = history.history[\"loss\"]\n",
        "    val_loss = history.history[\"val_loss\"]\n",
        "    epochs = range(len(loss))\n",
        "    plt.figure()\n",
        "    plt.plot(epochs, loss, \"b\", label=\"Training loss\")\n",
        "    plt.plot(epochs, val_loss, \"r\", label=\"Validation loss\")\n",
        "    plt.title(title)\n",
        "    plt.xlabel(\"Epochs\")\n",
        "    plt.ylabel(\"Loss\")\n",
        "    plt.legend()\n",
        "    plt.show()\n",
        "\n",
        "visualize_loss(history, f\"Mean Square Error {model_type[-1]} CNN Model\")"
      ],
      "execution_count": null,
      "outputs": [
        {
          "output_type": "display_data",
          "data": {
            "image/png": "[encoded data removed]",
            "text/plain": [
              "<Figure size 914.4x451.44 with 1 Axes>"
            ]
          },
          "metadata": {}
        }
      ]
    },
    {
      "cell_type": "code",
      "metadata": {
        "id": "tMkL4On5lt83"
      },
      "source": [
        "def show_plot(plot_data, delta, title):\n",
        "    labels = [\"History\", \"True Future\", \"Model Prediction\"]\n",
        "    marker = [\".-\", \"rx\", \"go\"]\n",
        "    time_steps = list(range(-(plot_data[0].shape[0]), 0))\n",
        "    if delta:\n",
        "        future = delta\n",
        "    else:\n",
        "        future = 0\n",
        "\n",
        "    plt.title(title)\n",
        "    for i, val in enumerate(plot_data):\n",
        "        if i:\n",
        "            plt.plot(future, plot_data[i], marker[i], markersize=10, label=labels[i])\n",
        "        else:\n",
        "            plt.plot(time_steps, plot_data[i].flatten(), marker[i], label=labels[i])\n",
        "    plt.legend()\n",
        "    plt.ylim([0, 5])\n",
        "    plt.xlim([time_steps[0], (future + 5) * 2])\n",
        "    plt.xlabel(\"Time-Step\")\n",
        "    plt.show()\n",
        "    return\n",
        "\n",
        "if model_type[-1]=='discrete':\n",
        "  dataset_train, dataset_val, dataset_test = generate_classical_dataset(1, 1)\n",
        "\n",
        "elif model_type[-1]=='time-window':\n",
        "  dataset_train, dataset_val, dataset_test = generate_classical_dataset(3, 1)\n",
        "\n",
        "for x, y in dataset_test.take(200):\n",
        "    show_plot(\n",
        "        [x[0][:, 4].numpy(), y[0].numpy(), model.predict(x)[0]],\n",
        "        1,\n",
        "        \"Single Step Prediction\",\n",
        "    )"
      ],
      "execution_count": null,
      "outputs": []
    },
    {
      "cell_type": "code",
      "metadata": {
        "colab": {
          "base_uri": "https://localhost:8080/",
          "height": 170
        },
        "id": "MV6Fj1bIm_du",
        "outputId": "96395bb2-e24a-4ac2-844e-fdf6dc6e5624"
      },
      "source": [
        "plt.clf()\n",
        "\n",
        "if model_type[-1]=='discrete':\n",
        "  dataset_train, dataset_val, dataset_test = generate_classical_dataset(1, 1)\n",
        "\n",
        "elif model_type[-1]=='time-window':\n",
        "  dataset_train, dataset_val, dataset_test = generate_classical_dataset(3, 1)\n",
        "\n",
        "metrics = pd.DataFrame(columns=[\"TYPE\", \"sample\", \"MAPE\",\n",
        "                                \"Accuracy%\", \"RMSE\", \"RMSE%\", \"MAE\", \"MAE%\"])\n",
        "update_sample('in_sample')\n",
        "errors = []\n",
        "actual = []\n",
        "predicted = []\n",
        "\n",
        "for x, y in dataset_val.take(200):\n",
        "    errors.append(y[0].numpy()[0]- model.predict(x)[0][0])\n",
        "    actual.append(y[0].numpy()[0])\n",
        "    predicted.append(model.predict(x)[0][0])\n",
        "\n",
        "results = pd.DataFrame(columns=[\"Expected\", \"Predicted\"])\n",
        "results[\"Expected\"] = actual\n",
        "results[\"Predicted\"] = predicted\n",
        "sns.set(rc={'figure.figsize':(12.7,6.27)})\n",
        "sns.lineplot(data=results,palette=\"deep\").set_title(sample[-1]+\"_classical_\"+model_type[-1]+\"_cnn_forecast\")\n",
        "plt.savefig(sample[-1]+\"_classical_\"+model_type[-1]+\"_cnn_forecast\"+ \".png\")\n",
        "\n",
        "plt.clf()\n",
        "\n",
        "\n",
        "errors = np.array(errors)\n",
        "mape = np.mean(np.abs(errors)/actual)\n",
        "rmse = np.sqrt(np.mean((np.square(errors))))\n",
        "rmse_percent = 100*rmse/np.mean(actual)\n",
        "mae = np.mean(np.abs(errors))\n",
        "mae_percent = 100*np.mean(np.abs(errors))/np.mean(actual)\n",
        "accuracy = 100 - 100*mape\n",
        "\n",
        "\n",
        "\n",
        "metrics = metrics.append({\"type\":model_type[-1], \"sample\":sample[-1],\n",
        "                          \"MAPE\": mape, \"Accuracy%\": accuracy, \n",
        "                          \"RMSE\":rmse, \"RMSE%\":rmse_percent,\n",
        "                          \"MAE\":mae, \"MAE%\":mae_percent}, ignore_index=True )\n",
        "\n",
        "update_sample('out_of_sample')\n",
        "errors = []\n",
        "actual = []\n",
        "predicted = []\n",
        "for x, y in dataset_test.take(200):\n",
        "\n",
        "    errors.append(y[0].numpy()[0]- model.predict(x)[0][0])\n",
        "    actual.append(y[0].numpy()[0])\n",
        "    predicted.append(model.predict(x)[0][0])\n",
        "\n",
        "results = pd.DataFrame(columns=[\"Expected\", \"Predicted\"])\n",
        "results[\"Expected\"] = actual\n",
        "results[\"Predicted\"] = predicted\n",
        "sns.set(rc={'figure.figsize':(12.7,6.27)})\n",
        "sns.lineplot(data=results,\n",
        "             palette=\"deep\").set_title(\n",
        "                 sample[-1]+\"_classical_\"+model_type[-1]+\"_cnn_forecast\")\n",
        "             \n",
        "plt.savefig(sample[-1]+\"_classical_\"+model_type[-1]+\"_cnn_forecast\"+ \".png\")\n",
        "\n",
        "plt.clf()\n",
        "\n",
        "\n",
        "errors = np.array(errors)\n",
        "mape = np.mean(np.abs(errors)/actual)\n",
        "rmse = np.sqrt(np.mean((np.square(errors))))\n",
        "rmse_percent = 100*rmse/np.mean(actual)\n",
        "mae = np.mean(np.abs(errors))\n",
        "mae_percent = 100*np.mean(np.abs(errors))/np.mean(actual)\n",
        "accuracy = 100 - 100*mape\n",
        "\n",
        "metrics = metrics.append({\"type\":model_type[-1], \"sample\":sample[-1],\"MAPE\": mape, \n",
        "                          \"Accuracy%\": accuracy, \"RMSE\":rmse, \n",
        "                          \"RMSE%\":rmse_percent, \"MAE\":mae,\n",
        "                          \"MAE%\":mae_percent}, ignore_index=True )\n",
        "\n",
        "metrics.to_csv(\"classical_cnn_\"+model_type[-1]+\".csv\")\n",
        "metrics.head()\n",
        "\n",
        "model.save(\"./saved_models/classical_\"+model_type[-1]+\"_cnn_model\")\n",
        "\n",
        "name = \"classical_\"+model_type[-1]+\"_cnn_model\"\n",
        "origin_path = \"./saved_models/\"+name\n",
        "target_path = \"./\"+name+\".zip\"\n",
        "!zip -r $target_path $origin_path\n"
      ],
      "execution_count": null,
      "outputs": [
        {
          "output_type": "stream",
          "text": [
            "INFO:tensorflow:Assets written to: ./saved_models/classical_discrete_cnn_model/assets\n",
            "updating: saved_models/classical_discrete_cnn_model/ (stored 0%)\n",
            "updating: saved_models/classical_discrete_cnn_model/assets/ (stored 0%)\n",
            "updating: saved_models/classical_discrete_cnn_model/keras_metadata.pb (deflated 89%)\n",
            "updating: saved_models/classical_discrete_cnn_model/variables/ (stored 0%)\n",
            "updating: saved_models/classical_discrete_cnn_model/variables/variables.data-00000-of-00001 (deflated 11%)\n",
            "updating: saved_models/classical_discrete_cnn_model/variables/variables.index (deflated 64%)\n",
            "updating: saved_models/classical_discrete_cnn_model/saved_model.pb (deflated 89%)\n"
          ],
          "name": "stdout"
        },
        {
          "output_type": "display_data",
          "data": {
            "text/plain": [
              "<Figure size 914.4x451.44 with 0 Axes>"
            ]
          },
          "metadata": {}
        }
      ]
    },
    {
      "cell_type": "code",
      "metadata": {
        "colab": {
          "base_uri": "https://localhost:8080/",
          "height": 37
        },
        "id": "FQ0IlDkqXGrj",
        "outputId": "c40baa6f-223b-4b7c-9a99-0711fee6d38c"
      },
      "source": [
        "## PUSH TO GITHUB\n"
      ],
      "execution_count": null,
      "outputs": [
        {
          "output_type": "execute_result",
          "data": {
            "application/vnd.google.colaboratory.intrinsic+json": {
              "type": "string"
            },
            "text/plain": [
              "'time-window'"
            ]
          },
          "metadata": {},
          "execution_count": 44
        }
      ]
    },
    {
      "cell_type": "code",
      "metadata": {
        "colab": {
          "base_uri": "https://localhost:8080/"
        },
        "id": "uDjlvds9NZj4",
        "outputId": "d39f8b53-4987-428f-9d54-05b11c0ca2a5"
      },
      "source": [
        "model_type"
      ],
      "execution_count": null,
      "outputs": [
        {
          "output_type": "execute_result",
          "data": {
            "text/plain": [
              "['time-window',\n",
              " 'time-window',\n",
              " 'time-window',\n",
              " 'time-window',\n",
              " 'time-window',\n",
              " 'time-window',\n",
              " 'time-window',\n",
              " 'time-window',\n",
              " 'time-window',\n",
              " 'time-window',\n",
              " 'time-window',\n",
              " 'time-window',\n",
              " 'time-window',\n",
              " 'discrete',\n",
              " 'discrete',\n",
              " 'discrete',\n",
              " 'discrete',\n",
              " 'discrete',\n",
              " 'discrete',\n",
              " 'discrete',\n",
              " 'time-window',\n",
              " 'discrete',\n",
              " 'discrete',\n",
              " 'discrete',\n",
              " 'discrete']"
            ]
          },
          "metadata": {},
          "execution_count": 62
        }
      ]
    },
    {
      "cell_type": "code",
      "metadata": {
        "id": "2ieihS4CNt9N"
      },
      "source": [
        ""
      ],
      "execution_count": null,
      "outputs": []
    }
  ]
}