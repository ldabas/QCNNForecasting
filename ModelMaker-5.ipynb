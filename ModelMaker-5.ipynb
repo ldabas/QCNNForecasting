{
  "nbformat": 4,
  "nbformat_minor": 2,
  "metadata": {
    "colab": {
      "name": "ModelMaker.ipynb",
      "provenance": [],
      "collapsed_sections": [],
      "machine_shape": "hm"
    },
    "kernelspec": {
      "name": "python3",
      "display_name": "Python 3"
    },
    "language_info": {
      "name": "python"
    },
    "accelerator": "GPU"
  },
  "cells": [
    {
      "cell_type": "code",
      "execution_count": null,
      "source": [
        "import tensorflow as tf\n",
        "from tensorflow import keras\n",
        "from tensorflow.keras import layers\n",
        "from keras.layers import Dense, Flatten, Conv1D\n",
        "import pandas as pd\n",
        "from statsmodels.tsa.seasonal import seasonal_decompose\n",
        "from statsmodels.multivariate.pca import PCA\n",
        "from sklearn.ensemble import RandomForestRegressor\n",
        "import matplotlib.pyplot as plt\n",
        "from sklearn.preprocessing import StandardScaler\n",
        "from math import sqrt\n",
        "from statsmodels.tsa.api import ExponentialSmoothing\n",
        "from statsmodels.tsa.holtwinters import SimpleExpSmoothing, Holt\n",
        "from statsmodels.tsa.api import VAR\n",
        "import numpy as np\n",
        "import seaborn as sns\n",
        "sns.set(rc={'figure.figsize':(8.7,6.27)})\n",
        "\n",
        "from numpy import array\n",
        "from numpy import hstack\n",
        "from keras.models import Model\n",
        "from keras.layers import Input\n",
        "from keras.layers import Dense\n",
        "from keras.layers import Flatten\n",
        "from keras.layers.convolutional import Conv1D\n",
        "from keras.layers.convolutional import MaxPooling1D\n",
        "from keras.layers.merge import concatenate\n",
        "from keras.layers import LeakyReLU\n",
        "\n",
        "model_type = []\n",
        "global model_type\n",
        "\n",
        "\n",
        "\n",
        "def update_model_type(var):\n",
        "    model_type.append(var)\n",
        "\n",
        "sample = []\n",
        "global sample\n",
        "\n",
        "\n",
        "\n",
        "def update_sample(var):\n",
        "    sample.append(var)\n",
        "\n",
        "\n",
        "\n"
      ],
      "outputs": [
        {
          "output_type": "stream",
          "name": "stderr",
          "text": [
            "/usr/local/lib/python3.7/dist-packages/statsmodels/tools/_testing.py:19: FutureWarning: pandas.util.testing is deprecated. Use the functions in the public API at pandas.testing instead.\n",
            "  import pandas.util.testing as tm\n"
          ]
        }
      ],
      "metadata": {
        "colab": {
          "base_uri": "https://localhost:8080/"
        },
        "id": "0yKae44XUqLD",
        "outputId": "9e12c740-1295-47f1-976a-4c38b9ed47ab"
      }
    },
    {
      "cell_type": "code",
      "execution_count": null,
      "source": [
        "%tensorflow_version 2.x\n",
        "import tensorflow as tf\n",
        "device_name = tf.test.gpu_device_name()\n",
        "if device_name != '/device:GPU:0':\n",
        "  raise SystemError('GPU device not found')\n",
        "print('Found GPU at: {}'.format(device_name))"
      ],
      "outputs": [
        {
          "output_type": "stream",
          "name": "stdout",
          "text": [
            "Found GPU at: /device:GPU:0\n"
          ]
        }
      ],
      "metadata": {
        "colab": {
          "base_uri": "https://localhost:8080/"
        },
        "id": "nsFVj5X2VIhH",
        "outputId": "83269adb-ce63-4cc9-a75a-c3be430c45b2"
      }
    },
    {
      "cell_type": "code",
      "execution_count": null,
      "source": [
        "#IMPORT VIABLE DATA\n",
        "df = pd.read_csv(\"viable_dataset.csv\", index_col=\"Date\")"
      ],
      "outputs": [],
      "metadata": {
        "id": "pOrWeJTeVOF8"
      }
    },
    {
      "cell_type": "code",
      "execution_count": null,
      "source": [
        "df.corr()['BIOGAS_PRODUCTION_Q_DAY'].abs().sort_values(ascending=False)"
      ],
      "outputs": [
        {
          "output_type": "execute_result",
          "data": {
            "text/plain": [
              "BIOGAS_PRODUCTION_Q_DAY                           1.000000\n",
              "TPS_Q1_DAY                                        0.149911\n",
              "PS_Q_DAY                                          0.148351\n",
              "DIGESTED_SLUDGE_QOUT_DAY                          0.130412\n",
              "DIG_SLUDGE_DEWATER_DS_AFTER_DEWATER_3_PER_WEEK    0.079594\n",
              "TWAS_DAF_QIN_DAY                                  0.061662\n",
              "Name: BIOGAS_PRODUCTION_Q_DAY, dtype: float64"
            ]
          },
          "metadata": {},
          "execution_count": 4
        }
      ],
      "metadata": {
        "colab": {
          "base_uri": "https://localhost:8080/"
        },
        "id": "igTSgoJvVWdk",
        "outputId": "40b4a45b-0cc4-40bd-8daf-3e5115613388"
      }
    },
    {
      "cell_type": "code",
      "execution_count": null,
      "source": [
        "def normalize(data, train_split):\n",
        "    data_mean = data[:train_split].mean(axis=0)\n",
        "    data_std = data[:train_split].std(axis=0)\n",
        "    return (data - data_mean) / data_std\n",
        "\n",
        "def smooth(dataset, train_split, smooth_level):#Make Data Stationary with Exponential Smoothing\n",
        "  for column in dataset.columns:\n",
        "    data = dataset[column]\n",
        "    exp = ExponentialSmoothing(data[:train_split])\n",
        "    exp_model = exp.fit(smoothing_level=smooth_level)\n",
        "    result = exp_model.fittedvalues\n",
        "    dataset[column][:train_split] = result\n",
        "    return dataset\n",
        "\n",
        "class UndefinedModelError(Exception):\n",
        "    \"\"\"Please input either 'discrete' or 'time-window' as model type\"\"\"\n",
        "    def __init__(self, message=\"Please input either 'discrete' or 'time-window' as model type and Specify Inputs\"):\n",
        "        self.message = message\n",
        "        super().__init__(self.message)\n",
        "    pass"
      ],
      "outputs": [],
      "metadata": {
        "id": "6tnRJXH8WFDy"
      }
    },
    {
      "cell_type": "code",
      "execution_count": null,
      "source": [
        "split_fraction = 0.7\n",
        "train_split = int(split_fraction * int(df.shape[0]))\n",
        "test_split = int((split_fraction+0.15) * int(df.shape[0]))\n",
        "step = 1\n",
        "future =1\n",
        "\n",
        "\n",
        "learning_rate = 0.001\n",
        "batch_size = 1\n",
        "epochs = 100"
      ],
      "outputs": [],
      "metadata": {
        "id": "RXCLlUPcWLlS"
      }
    },
    {
      "cell_type": "code",
      "execution_count": null,
      "source": [
        "cols = [df.columns[i] for i in [0, 1, 2, 3, 4, 5]]\n",
        "selected_features = [df.columns[i] for i in [0, 1, 2, 3, 4, 5]]\n",
        "features = df[selected_features]\n",
        "features.set_index(df.index, inplace=True)\n",
        "#print(features.head())\n",
        "\n",
        "features = smooth(features, train_split, smooth_level=0.2)\n",
        "#print(features.head())\n",
        "\n",
        "#features = normalize(features.values, train_split)\n",
        "features = pd.DataFrame(features.values)\n",
        "#print(features.head())\n",
        "\n",
        "\n",
        "\n",
        "train_data = features.loc[0 : train_split]# Split Data into Train, Test, and Val Sets\n",
        "test_data = features.loc[train_split:test_split]\n",
        "val_data = features.loc[test_split:]\n"
      ],
      "outputs": [],
      "metadata": {
        "colab": {
          "base_uri": "https://localhost:8080/"
        },
        "id": "Fb1zD5yLWZX6",
        "outputId": "6c27bd8e-2c41-4b6d-f900-3e45766726c9"
      }
    },
    {
      "cell_type": "code",
      "execution_count": null,
      "source": [
        "def generate_classical_dataset(past, future):\n",
        "  \n",
        "  start = past + future\n",
        "  end = start + train_split\n",
        "\n",
        "  x_train = train_data[[0, 1, 2, 3, 5]].values\n",
        "  y_train = features.iloc[start:end][[4]]\n",
        "\n",
        "  sequence_length = int(past / step)\n",
        "\n",
        "  dataset_train = keras.preprocessing.timeseries_dataset_from_array(\n",
        "    x_train,\n",
        "    y_train,\n",
        "    sequence_length=sequence_length,\n",
        "    sampling_rate=step,\n",
        "    batch_size=batch_size,\n",
        ")\n",
        "\n",
        "  start = test_split + past + future\n",
        "  end = start+test_split\n",
        "\n",
        "  x_val = val_data[[0,1,2,3,5]].values\n",
        "  y_val = features.iloc[start:end][[4]]\n",
        "\n",
        "  dataset_val = keras.preprocessing.timeseries_dataset_from_array(\n",
        "      x_val,\n",
        "      y_val,\n",
        "      sequence_length=sequence_length,\n",
        "      sampling_rate=step,\n",
        "      batch_size=batch_size,\n",
        "  )\n",
        "\n",
        "\n",
        "\n",
        "  start = train_split + past + future\n",
        "  end = start+test_split\n",
        "\n",
        "  x_test = test_data[[0, 1, 2, 3, 5]].values\n",
        "  y_test = features.iloc[start:end][[4]]\n",
        "\n",
        "  dataset_test = keras.preprocessing.timeseries_dataset_from_array(\n",
        "      x_test,\n",
        "      y_test,\n",
        "      sequence_length=sequence_length,\n",
        "      sampling_rate=step,\n",
        "      batch_size=batch_size,\n",
        "  )\n",
        "\n",
        "\n",
        "  return dataset_train, dataset_val, dataset_test"
      ],
      "outputs": [],
      "metadata": {
        "id": "6IDp1qLCXEEx"
      }
    },
    {
      "cell_type": "code",
      "execution_count": null,
      "source": [
        "def build_model(mtype, inputs):\n",
        "\n",
        "  if mtype=='discrete':\n",
        "    kernel_size = 1\n",
        "  elif mtype=='time-window':\n",
        "    kernel_size = 2\n",
        "  else:\n",
        "    raise UndefinedModelError\n",
        "\n",
        "  inputs = Input(shape=(inputs.shape[1], inputs.shape[2]))\n",
        "  lrelu = lambda x: tf.keras.layers.LeakyReLU(alpha=0.1)(x)\n",
        "  cnn = Conv1D(filters=32, kernel_size=kernel_size, activation=lrelu)(inputs)\n",
        "  cnn = Conv1D(filters=64, kernel_size=kernel_size, activation=lrelu)(cnn)\n",
        "\n",
        "  cnn = Flatten()(cnn)\n",
        "\n",
        "  dense = Dense(50, activation=lrelu)(cnn)\n",
        "  output = Dense(1)(dense)\n",
        "\n",
        "  model = keras.Model(inputs=inputs, outputs=output)\n",
        "  model.compile(optimizer=keras.optimizers.Adam(learning_rate=learning_rate), loss=\"mse\")\n",
        "  return model"
      ],
      "outputs": [],
      "metadata": {
        "id": "nDc3lPe8aDOO"
      }
    },
    {
      "cell_type": "code",
      "execution_count": null,
      "source": [
        "def get_callbacks(patience=5):# Callbakcs save model chechpoints with least validation loss to prevent overfitting\n",
        "  path_checkpoint = \"model_checkpoint.h5\"\n",
        "  es_callback = keras.callbacks.EarlyStopping(monitor=\"val_loss\", min_delta=0, patience=patience)\n",
        "\n",
        "  modelckpt_callback = keras.callbacks.ModelCheckpoint(\n",
        "      monitor=\"val_loss\",\n",
        "      filepath=path_checkpoint,\n",
        "      verbose=0,\n",
        "      save_weights_only=True,\n",
        "      save_best_only=True,\n",
        "  )\n",
        "\n",
        "  return es_callback, modelckpt_callback"
      ],
      "outputs": [],
      "metadata": {
        "id": "q613C7ddcmrV"
      }
    },
    {
      "cell_type": "code",
      "execution_count": null,
      "source": [
        "def train_model(model, es_callback, modelckpt_callback, dataset_train, dataset_val):\n",
        "  history = model.fit(\n",
        "    dataset_train,\n",
        "    epochs=epochs,\n",
        "    validation_data=dataset_val,\n",
        "    callbacks=[es_callback, modelckpt_callback],\n",
        ")\n",
        "  return model, history"
      ],
      "outputs": [],
      "metadata": {
        "id": "VqaXd1VIgqDB"
      }
    },
    {
      "cell_type": "code",
      "execution_count": null,
      "source": [
        "def make_discrete_data_cnn_model(retrain = False, model = None, history=None):\n",
        "  update_model_type('discrete')\n",
        "  past = 1\n",
        "  future = 1\n",
        "  dataset_train, dataset_val, dataset_test= generate_classical_dataset(past, future)\n",
        "  es_callback, modelckpt_callback = get_callbacks(patience = 3)\n",
        "  for batch in dataset_train.take(1):\n",
        "    inputs, targets = batch\n",
        "  print(\"Input shape:\", inputs.numpy().shape)\n",
        "  print(\"Target shape:\", targets.numpy().shape)\n",
        "  if not retrain:\n",
        "    model= build_model(model_type[-1], inputs)\n",
        "  \n",
        "\n",
        "  return train_model(model, es_callback, modelckpt_callback, dataset_train, dataset_val)\n",
        "\n",
        "\n",
        "\n"
      ],
      "outputs": [],
      "metadata": {
        "id": "JA05uwP-WeKk"
      }
    },
    {
      "cell_type": "code",
      "execution_count": null,
      "source": [
        "def make_time_window_cnn_model(retrain = False, model = None, history=None):\n",
        "  update_model_type('time-window')\n",
        "  past = 3\n",
        "  future = 1\n",
        "  dataset_train, dataset_val, dataset_test= generate_classical_dataset(past, future)\n",
        "  es_callback, modelckpt_callback = get_callbacks(3)\n",
        "  for batch in dataset_train.take(1):\n",
        "    inputs, targets = batch\n",
        "  print(\"Input shape:\", inputs.numpy().shape)\n",
        "  print(\"Target shape:\", targets.numpy().shape)\n",
        "  if not retrain:\n",
        "    model= build_model(model_type[-1], inputs)\n",
        "  \n",
        "  \n",
        "  return train_model(model, es_callback, modelckpt_callback, dataset_train, dataset_val)"
      ],
      "outputs": [],
      "metadata": {
        "id": "70GPJsGRkZ2f"
      }
    },
    {
      "cell_type": "code",
      "execution_count": null,
      "source": [
        "model, history= make_time_window_cnn_model()\n",
        "#model, history = make_time_window_cnn_model(retrain = True, model=model, history=history) # To Train Model More. SHould only be done if above line already executed"
      ],
      "outputs": [],
      "metadata": {
        "colab": {
          "base_uri": "https://localhost:8080/",
          "height": 579
        },
        "id": "sXSkMVWCZV5t",
        "outputId": "f2d45772-81b6-48e3-c724-a82c246cb4da"
      }
    },
    {
      "cell_type": "code",
      "execution_count": null,
      "source": [
        "model, history= make_discrete_data_cnn_model()\n",
        "#model, history = make_discrete_data_cnn_model(retrain = True, model=model, history=history) # # To Train Model More. SHould only be done if above line already executed"
      ],
      "outputs": [],
      "metadata": {
        "colab": {
          "base_uri": "https://localhost:8080/"
        },
        "id": "iVvGK0vpA3LQ",
        "outputId": "daf333a3-5c32-44d9-bdbe-ecd2f7fb833b"
      }
    },
    {
      "cell_type": "markdown",
      "source": [
        "# **Model Validator**"
      ],
      "metadata": {
        "id": "IjTB9Gg65bJX"
      }
    },
    {
      "cell_type": "code",
      "execution_count": null,
      "source": [
        "def visualize_loss(history, title):\n",
        "    loss = history.history[\"loss\"]\n",
        "    val_loss = history.history[\"val_loss\"]\n",
        "    epochs = range(len(loss))\n",
        "    plt.figure()\n",
        "    plt.plot(epochs, loss, \"b\", label=\"Training loss\")\n",
        "    plt.plot(epochs, val_loss, \"r\", label=\"Validation loss\")\n",
        "    plt.title(title)\n",
        "    plt.xlabel(\"Epochs\")\n",
        "    plt.ylabel(\"Loss\")\n",
        "    plt.legend()\n",
        "    plt.show()\n",
        "\n",
        "visualize_loss(history, f\"Mean Square Error {model_type[-1]} CNN Model\")"
      ],
      "outputs": [
        {
          "output_type": "display_data",
          "data": {
            "text/plain": [
              "<Figure size 914.4x451.44 with 1 Axes>"
            ],
            "image/png": "[encoded data removed]"
          },
          "metadata": {}
        }
      ],
      "metadata": {
        "colab": {
          "base_uri": "https://localhost:8080/",
          "height": 424
        },
        "id": "7aqwUyJ-irn5",
        "outputId": "8ebad866-7334-4050-eb5a-99a96d7ec67c"
      }
    },
    {
      "cell_type": "code",
      "execution_count": null,
      "source": [
        "def show_plot(plot_data, delta, title):\n",
        "    labels = [\"History\", \"True Future\", \"Model Prediction\"]\n",
        "    marker = [\".-\", \"rx\", \"go\"]\n",
        "    time_steps = list(range(-(plot_data[0].shape[0]), 0))\n",
        "    if delta:\n",
        "        future = delta\n",
        "    else:\n",
        "        future = 0\n",
        "\n",
        "    plt.title(title)\n",
        "    for i, val in enumerate(plot_data):\n",
        "        if i:\n",
        "            plt.plot(future, plot_data[i], marker[i], markersize=10, label=labels[i])\n",
        "        else:\n",
        "            plt.plot(time_steps, plot_data[i].flatten(), marker[i], label=labels[i])\n",
        "    plt.legend()\n",
        "    plt.ylim([0, 5])\n",
        "    plt.xlim([time_steps[0], (future + 5) * 2])\n",
        "    plt.xlabel(\"Time-Step\")\n",
        "    plt.show()\n",
        "    return\n",
        "\n",
        "if model_type[-1]=='discrete':\n",
        "  dataset_train, dataset_val, dataset_test = generate_classical_dataset(1, 1)\n",
        "\n",
        "elif model_type[-1]=='time-window':\n",
        "  dataset_train, dataset_val, dataset_test = generate_classical_dataset(3, 1)\n",
        "\n",
        "for x, y in dataset_test.take(200):\n",
        "    show_plot(\n",
        "        [x[0][:, 4].numpy(), y[0].numpy(), model.predict(x)[0]],\n",
        "        1,\n",
        "        \"Single Step Prediction\",\n",
        "    )"
      ],
      "outputs": [],
      "metadata": {
        "id": "tMkL4On5lt83"
      }
    },
    {
      "cell_type": "code",
      "execution_count": null,
      "source": [
        "plt.clf()\n",
        "\n",
        "if model_type[-1]=='discrete':\n",
        "  dataset_train, dataset_val, dataset_test = generate_classical_dataset(1, 1)\n",
        "\n",
        "elif model_type[-1]=='time-window':\n",
        "  dataset_train, dataset_val, dataset_test = generate_classical_dataset(3, 1)\n",
        "\n",
        "metrics = pd.DataFrame(columns=[\"TYPE\", \"sample\", \"MAPE\",\n",
        "                                \"Accuracy%\", \"RMSE\", \"RMSE%\", \"MAE\", \"MAE%\"])\n",
        "update_sample('in_sample')\n",
        "errors = []\n",
        "actual = []\n",
        "predicted = []\n",
        "\n",
        "for x, y in dataset_val.take(200):\n",
        "    errors.append(y[0].numpy()[0]- model.predict(x)[0][0])\n",
        "    actual.append(y[0].numpy()[0])\n",
        "    predicted.append(model.predict(x)[0][0])\n",
        "\n",
        "results = pd.DataFrame(columns=[\"Expected\", \"Predicted\"])\n",
        "results[\"Expected\"] = actual\n",
        "results[\"Predicted\"] = predicted\n",
        "sns.set(rc={'figure.figsize':(12.7,6.27)})\n",
        "sns.lineplot(data=results,palette=\"deep\").set_title(sample[-1]+\"_classical_\"+model_type[-1]+\"_cnn_forecast\")\n",
        "plt.savefig(sample[-1]+\"_classical_\"+model_type[-1]+\"_cnn_forecast\"+ \".png\")\n",
        "\n",
        "plt.clf()\n",
        "\n",
        "\n",
        "errors = np.array(errors)\n",
        "mape = np.mean(np.abs(errors)/actual)\n",
        "rmse = np.sqrt(np.mean((np.square(errors))))\n",
        "rmse_percent = 100*rmse/np.mean(actual)\n",
        "mae = np.mean(np.abs(errors))\n",
        "mae_percent = 100*np.mean(np.abs(errors))/np.mean(actual)\n",
        "accuracy = 100 - 100*mape\n",
        "\n",
        "\n",
        "\n",
        "metrics = metrics.append({\"type\":model_type[-1], \"sample\":sample[-1],\n",
        "                          \"MAPE\": mape, \"Accuracy%\": accuracy, \n",
        "                          \"RMSE\":rmse, \"RMSE%\":rmse_percent,\n",
        "                          \"MAE\":mae, \"MAE%\":mae_percent}, ignore_index=True )\n",
        "\n",
        "update_sample('out_of_sample')\n",
        "errors = []\n",
        "actual = []\n",
        "predicted = []\n",
        "for x, y in dataset_test.take(200):\n",
        "\n",
        "    errors.append(y[0].numpy()[0]- model.predict(x)[0][0])\n",
        "    actual.append(y[0].numpy()[0])\n",
        "    predicted.append(model.predict(x)[0][0])\n",
        "\n",
        "results = pd.DataFrame(columns=[\"Expected\", \"Predicted\"])\n",
        "results[\"Expected\"] = actual\n",
        "results[\"Predicted\"] = predicted\n",
        "sns.set(rc={'figure.figsize':(12.7,6.27)})\n",
        "sns.lineplot(data=results,\n",
        "             palette=\"deep\").set_title(\n",
        "                 sample[-1]+\"_classical_\"+model_type[-1]+\"_cnn_forecast\")\n",
        "             \n",
        "plt.savefig(sample[-1]+\"_classical_\"+model_type[-1]+\"_cnn_forecast\"+ \".png\")\n",
        "\n",
        "plt.clf()\n",
        "\n",
        "\n",
        "errors = np.array(errors)\n",
        "mape = np.mean(np.abs(errors)/actual)\n",
        "rmse = np.sqrt(np.mean((np.square(errors))))\n",
        "rmse_percent = 100*rmse/np.mean(actual)\n",
        "mae = np.mean(np.abs(errors))\n",
        "mae_percent = 100*np.mean(np.abs(errors))/np.mean(actual)\n",
        "accuracy = 100 - 100*mape\n",
        "\n",
        "metrics = metrics.append({\"type\":model_type[-1], \"sample\":sample[-1],\"MAPE\": mape, \n",
        "                          \"Accuracy%\": accuracy, \"RMSE\":rmse, \n",
        "                          \"RMSE%\":rmse_percent, \"MAE\":mae,\n",
        "                          \"MAE%\":mae_percent}, ignore_index=True )\n",
        "\n",
        "metrics.to_csv(\"classical_cnn_\"+model_type[-1]+\".csv\")\n",
        "metrics.head()\n",
        "\n",
        "model.save(\"./saved_models/classical_\"+model_type[-1]+\"_cnn_model\")\n",
        "\n",
        "name = \"classical_\"+model_type[-1]+\"_cnn_model\"\n",
        "origin_path = \"./saved_models/\"+name\n",
        "target_path = \"./\"+name+\".zip\"\n",
        "!zip -r $target_path $origin_path\n"
      ],
      "outputs": [
        {
          "output_type": "stream",
          "name": "stdout",
          "text": [
            "INFO:tensorflow:Assets written to: ./saved_models/classical_discrete_cnn_model/assets\n",
            "updating: saved_models/classical_discrete_cnn_model/ (stored 0%)\n",
            "updating: saved_models/classical_discrete_cnn_model/assets/ (stored 0%)\n",
            "updating: saved_models/classical_discrete_cnn_model/keras_metadata.pb (deflated 89%)\n",
            "updating: saved_models/classical_discrete_cnn_model/variables/ (stored 0%)\n",
            "updating: saved_models/classical_discrete_cnn_model/variables/variables.data-00000-of-00001 (deflated 11%)\n",
            "updating: saved_models/classical_discrete_cnn_model/variables/variables.index (deflated 64%)\n",
            "updating: saved_models/classical_discrete_cnn_model/saved_model.pb (deflated 89%)\n"
          ]
        },
        {
          "output_type": "display_data",
          "data": {
            "text/plain": [
              "<Figure size 914.4x451.44 with 0 Axes>"
            ]
          },
          "metadata": {}
        }
      ],
      "metadata": {
        "colab": {
          "base_uri": "https://localhost:8080/",
          "height": 170
        },
        "id": "MV6Fj1bIm_du",
        "outputId": "96395bb2-e24a-4ac2-844e-fdf6dc6e5624"
      }
    },
    {
      "cell_type": "code",
      "execution_count": null,
      "source": [],
      "outputs": [],
      "metadata": {
        "id": "2ieihS4CNt9N"
      }
    }
  ]
}