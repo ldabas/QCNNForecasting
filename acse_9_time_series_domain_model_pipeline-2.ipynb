{
  "nbformat": 4,
  "nbformat_minor": 0,
  "metadata": {
    "colab": {
      "name": "acse-9-time-series-domain-model-pipeline.ipynb",
      "provenance": [],
      "collapsed_sections": [],
      "machine_shape": "hm"
    },
    "kernelspec": {
      "name": "python3",
      "display_name": "Python 3"
    },
    "language_info": {
      "name": "python"
    },
    "accelerator": "GPU"
  },
  "cells": [
    {
      "cell_type": "code",
      "metadata": {
        "id": "pin6yfJZBUZV",
        "colab": {
          "base_uri": "https://localhost:8080/"
        },
        "outputId": "1d5ea981-789e-4e3e-f4fa-4da7502c29e5"
      },
      "source": [
        "import tensorflow as tf\n",
        "from tensorflow import keras\n",
        "from tensorflow.keras import layers\n",
        "from keras.models import Sequential\n",
        "from keras.layers import Dense, Flatten, Conv1D\n",
        "import pandas as pd\n",
        "from statsmodels.tsa.seasonal import seasonal_decompose\n",
        "from statsmodels.multivariate.pca import PCA\n",
        "from sklearn.ensemble import RandomForestRegressor\n",
        "import matplotlib.pyplot as plt\n",
        "from sklearn.preprocessing import StandardScaler\n",
        "from math import sqrt\n",
        "from statsmodels.tsa.api import ExponentialSmoothing\n",
        "from statsmodels.tsa.holtwinters import SimpleExpSmoothing, Holt\n",
        "from statsmodels.tsa.api import VAR\n",
        "import numpy as np\n",
        "import seaborn as sns"
      ],
      "execution_count": null,
      "outputs": [
        {
          "output_type": "stream",
          "text": [
            "/usr/local/lib/python3.7/dist-packages/statsmodels/tools/_testing.py:19: FutureWarning: pandas.util.testing is deprecated. Use the functions in the public API at pandas.testing instead.\n",
            "  import pandas.util.testing as tm\n"
          ],
          "name": "stderr"
        }
      ]
    },
    {
      "cell_type": "code",
      "metadata": {
        "colab": {
          "base_uri": "https://localhost:8080/"
        },
        "id": "Q-1zjTtdvQFc",
        "outputId": "5e62b1ef-6ae2-4ab3-d50d-02155af11a09"
      },
      "source": [
        "%tensorflow_version 2.x\n",
        "import tensorflow as tf\n",
        "device_name = tf.test.gpu_device_name()\n",
        "if device_name != '/device:GPU:0':\n",
        "  raise SystemError('GPU device not found')\n",
        "print('Found GPU at: {}'.format(device_name))"
      ],
      "execution_count": null,
      "outputs": [
        {
          "output_type": "stream",
          "text": [
            "Found GPU at: /device:GPU:0\n"
          ],
          "name": "stdout"
        }
      ]
    },
    {
      "cell_type": "code",
      "metadata": {
        "id": "f3nei0CCBcwS"
      },
      "source": [
        "prepdf = pd.read_csv('better_prepdf.csv')#,index_col=0)\n",
        "\n",
        "filled_df = prepdf.copy()"
      ],
      "execution_count": null,
      "outputs": []
    },
    {
      "cell_type": "code",
      "metadata": {
        "id": "JiIiHmUyBiOY"
      },
      "source": [
        "prepdf_nonpca = prepdf.copy()\n",
        "prepdf_nonpca.drop(columns=['PS_DS_DAY', 'DIG_SLUDGE_DEWATER_FECL3_DAY','TWAS_CENT_VS_DAY', 'PS_VS_DAY', 'TWAS_CENT_DS_DAY','PS_Q_DAY'  ], inplace=True)\n",
        "filled_df = prepdf_nonpca.copy()\n",
        "filled_df.set_index(\"Date\", inplace=True)\n",
        "\n",
        "#df_nonpca = prepdf_nonpca.dropna(axis=0)\n"
      ],
      "execution_count": null,
      "outputs": []
    },
    {
      "cell_type": "code",
      "metadata": {
        "id": "Bcy0JorWQh4t"
      },
      "source": [
        ""
      ],
      "execution_count": null,
      "outputs": []
    },
    {
      "cell_type": "code",
      "metadata": {
        "colab": {
          "base_uri": "https://localhost:8080/",
          "height": 390
        },
        "id": "oddefrmL_b-s",
        "outputId": "f834bedc-70d5-45e2-d24d-fdfe45c2b9ed"
      },
      "source": [
        "percent_missing = filled_df.isnull().sum() * 100 / len(filled_df)\n",
        "missing_value_df = pd.DataFrame({'column_name': filled_df.columns,\n",
        "                                 'percent_missing': percent_missing})\n",
        "missing_value_df.sort_values(by='percent_missing', ascending=False)"
      ],
      "execution_count": null,
      "outputs": [
        {
          "output_type": "execute_result",
          "data": {
            "text/html": [
              "<div>\n",
              "<style scoped>\n",
              "    .dataframe tbody tr th:only-of-type {\n",
              "        vertical-align: middle;\n",
              "    }\n",
              "\n",
              "    .dataframe tbody tr th {\n",
              "        vertical-align: top;\n",
              "    }\n",
              "\n",
              "    .dataframe thead th {\n",
              "        text-align: right;\n",
              "    }\n",
              "</style>\n",
              "<table border=\"1\" class=\"dataframe\">\n",
              "  <thead>\n",
              "    <tr style=\"text-align: right;\">\n",
              "      <th></th>\n",
              "      <th>column_name</th>\n",
              "      <th>percent_missing</th>\n",
              "    </tr>\n",
              "  </thead>\n",
              "  <tbody>\n",
              "    <tr>\n",
              "      <th>TWAS_DAF_VS_DAY</th>\n",
              "      <td>TWAS_DAF_VS_DAY</td>\n",
              "      <td>40.775558</td>\n",
              "    </tr>\n",
              "    <tr>\n",
              "      <th>DIGESTED_SLUDGE_VS_3_PER_WEEK</th>\n",
              "      <td>DIGESTED_SLUDGE_VS_3_PER_WEEK</td>\n",
              "      <td>39.717979</td>\n",
              "    </tr>\n",
              "    <tr>\n",
              "      <th>TPS_VS_DAY</th>\n",
              "      <td>TPS_VS_DAY</td>\n",
              "      <td>39.130435</td>\n",
              "    </tr>\n",
              "    <tr>\n",
              "      <th>TWAS_DAF_DS_DAY</th>\n",
              "      <td>TWAS_DAF_DS_DAY</td>\n",
              "      <td>38.190364</td>\n",
              "    </tr>\n",
              "    <tr>\n",
              "      <th>DIGESTED_SLUDGE_DS_3_PER_WEEK</th>\n",
              "      <td>DIGESTED_SLUDGE_DS_3_PER_WEEK</td>\n",
              "      <td>36.897767</td>\n",
              "    </tr>\n",
              "    <tr>\n",
              "      <th>TPS_DS_DAY</th>\n",
              "      <td>TPS_DS_DAY</td>\n",
              "      <td>36.545241</td>\n",
              "    </tr>\n",
              "    <tr>\n",
              "      <th>TPS_Q1_DAY</th>\n",
              "      <td>TPS_Q1_DAY</td>\n",
              "      <td>0.000000</td>\n",
              "    </tr>\n",
              "    <tr>\n",
              "      <th>TWAS_DAF_QIN_DAY</th>\n",
              "      <td>TWAS_DAF_QIN_DAY</td>\n",
              "      <td>0.000000</td>\n",
              "    </tr>\n",
              "    <tr>\n",
              "      <th>DIGESTED_SLUDGE_QOUT_DAY</th>\n",
              "      <td>DIGESTED_SLUDGE_QOUT_DAY</td>\n",
              "      <td>0.000000</td>\n",
              "    </tr>\n",
              "    <tr>\n",
              "      <th>BIOGAS_PRODUCTION_Q_DAY</th>\n",
              "      <td>BIOGAS_PRODUCTION_Q_DAY</td>\n",
              "      <td>0.000000</td>\n",
              "    </tr>\n",
              "    <tr>\n",
              "      <th>DIG_SLUDGE_DEWATER_DS_AFTER_DEWATER_3_PER_WEEK</th>\n",
              "      <td>DIG_SLUDGE_DEWATER_DS_AFTER_DEWATER_3_PER_WEEK</td>\n",
              "      <td>0.000000</td>\n",
              "    </tr>\n",
              "  </tbody>\n",
              "</table>\n",
              "</div>"
            ],
            "text/plain": [
              "                                                                                   column_name  percent_missing\n",
              "TWAS_DAF_VS_DAY                                                                TWAS_DAF_VS_DAY        40.775558\n",
              "DIGESTED_SLUDGE_VS_3_PER_WEEK                                    DIGESTED_SLUDGE_VS_3_PER_WEEK        39.717979\n",
              "TPS_VS_DAY                                                                          TPS_VS_DAY        39.130435\n",
              "TWAS_DAF_DS_DAY                                                                TWAS_DAF_DS_DAY        38.190364\n",
              "DIGESTED_SLUDGE_DS_3_PER_WEEK                                    DIGESTED_SLUDGE_DS_3_PER_WEEK        36.897767\n",
              "TPS_DS_DAY                                                                          TPS_DS_DAY        36.545241\n",
              "TPS_Q1_DAY                                                                          TPS_Q1_DAY         0.000000\n",
              "TWAS_DAF_QIN_DAY                                                              TWAS_DAF_QIN_DAY         0.000000\n",
              "DIGESTED_SLUDGE_QOUT_DAY                                              DIGESTED_SLUDGE_QOUT_DAY         0.000000\n",
              "BIOGAS_PRODUCTION_Q_DAY                                                BIOGAS_PRODUCTION_Q_DAY         0.000000\n",
              "DIG_SLUDGE_DEWATER_DS_AFTER_DEWATER_3_PER_WEEK  DIG_SLUDGE_DEWATER_DS_AFTER_DEWATER_3_PER_WEEK         0.000000"
            ]
          },
          "metadata": {
            "tags": []
          },
          "execution_count": 10
        }
      ]
    },
    {
      "cell_type": "code",
      "metadata": {
        "id": "uqTJ_ExtG0yC"
      },
      "source": [
        "prepdf_nonpca = prepdf_nonpca.reset_index()"
      ],
      "execution_count": null,
      "outputs": []
    },
    {
      "cell_type": "code",
      "metadata": {
        "colab": {
          "base_uri": "https://localhost:8080/"
        },
        "id": "8iyahewKMO0C",
        "outputId": "6fc42de3-7806-406e-9f1f-2880a895da22"
      },
      "source": [
        "# TPS_Q1_DAY\n",
        "df_TPS_Q1_DAY = prepdf_nonpca.drop(columns=['DIGESTED_SLUDGE_VS_3_PER_WEEK', 'TPS_DS_DAY', 'DIG_SLUDGE_DEWATER_DS_AFTER_DEWATER_3_PER_WEEK', 'TPS_VS_DAY', 'TWAS_DAF_DS_DAY', 'TWAS_DAF_VS_DAY','DIGESTED_SLUDGE_DS_3_PER_WEEK'])\n",
        "\n",
        "df_TPS_Q1_DAYWith = df_TPS_Q1_DAY[pd.isnull(df_TPS_Q1_DAY['TPS_Q1_DAY']) == False]\n",
        "df_TPS_Q1_DAYWithout = df_TPS_Q1_DAY[pd.isnull(df_TPS_Q1_DAY['TPS_Q1_DAY'])]\n",
        "\n",
        "variables = ['TPS_Q1_DAY', 'TWAS_DAF_QIN_DAY', 'DIGESTED_SLUDGE_QOUT_DAY', 'BIOGAS_PRODUCTION_Q_DAY']\n",
        "\n",
        "independentVariables = ['TWAS_DAF_QIN_DAY', 'DIGESTED_SLUDGE_QOUT_DAY', 'BIOGAS_PRODUCTION_Q_DAY']\n",
        "\n",
        "rfModel_TPS_Q1_DAY = RandomForestRegressor()\n",
        "rfModel_TPS_Q1_DAY.fit(df_TPS_Q1_DAYWith[independentVariables], df_TPS_Q1_DAYWith['TPS_Q1_DAY'])\n",
        "\n",
        "generatedTPS_Q1_DAYValues = rfModel_TPS_Q1_DAY.predict(X = df_TPS_Q1_DAYWithout[independentVariables])\n",
        "\n",
        "print(generatedTPS_Q1_DAYValues)\n",
        "df_TPS_Q1_DAYWithout['TPS_Q1_DAY'] = generatedTPS_Q1_DAYValues.astype(float)\n",
        "data = df_TPS_Q1_DAYWith.append(df_TPS_Q1_DAYWithout)\n",
        "\n",
        "data.reset_index(inplace=True)\n",
        "data.drop('index',inplace=True,axis=1)\n",
        "\n",
        "data.set_index('Date', inplace=True)\n",
        "data = data.sort_index(ascending=True)\n",
        "\n",
        "filled_df['TPS_Q1_DAY'] = data['TPS_Q1_DAY']\n",
        "#data.TPS_Q1_DAY"
      ],
      "execution_count": null,
      "outputs": [
        {
          "output_type": "stream",
          "text": [
            "[199.5]\n"
          ],
          "name": "stdout"
        },
        {
          "output_type": "stream",
          "text": [
            "/usr/local/lib/python3.7/dist-packages/ipykernel_launcher.py:17: SettingWithCopyWarning: \n",
            "A value is trying to be set on a copy of a slice from a DataFrame.\n",
            "Try using .loc[row_indexer,col_indexer] = value instead\n",
            "\n",
            "See the caveats in the documentation: https://pandas.pydata.org/pandas-docs/stable/user_guide/indexing.html#returning-a-view-versus-a-copy\n"
          ],
          "name": "stderr"
        }
      ]
    },
    {
      "cell_type": "code",
      "metadata": {
        "colab": {
          "base_uri": "https://localhost:8080/"
        },
        "id": "iqfmnRfYNSp8",
        "outputId": "c476e65f-5290-418f-8354-d18fd6dea7f7"
      },
      "source": [
        "# DIG_SLUDGE_DEWATER_DS_AFTER_DEWATER_3_PER_WEEK\n",
        "df_DIG_SLUDGE_DEWATER_DS_AFTER_DEWATER_3_PER_WEEK = filled_df.drop(columns=['DIGESTED_SLUDGE_VS_3_PER_WEEK', 'TPS_DS_DAY', 'TPS_VS_DAY', 'TWAS_DAF_DS_DAY', 'TWAS_DAF_VS_DAY','DIGESTED_SLUDGE_DS_3_PER_WEEK'])\n",
        "\n",
        "df_DIG_SLUDGE_DEWATER_DS_AFTER_DEWATER_3_PER_WEEKWith = df_DIG_SLUDGE_DEWATER_DS_AFTER_DEWATER_3_PER_WEEK[pd.isnull(df_DIG_SLUDGE_DEWATER_DS_AFTER_DEWATER_3_PER_WEEK['DIG_SLUDGE_DEWATER_DS_AFTER_DEWATER_3_PER_WEEK']) == False]\n",
        "df_DIG_SLUDGE_DEWATER_DS_AFTER_DEWATER_3_PER_WEEKWithout = df_DIG_SLUDGE_DEWATER_DS_AFTER_DEWATER_3_PER_WEEK[pd.isnull(df_DIG_SLUDGE_DEWATER_DS_AFTER_DEWATER_3_PER_WEEK['DIG_SLUDGE_DEWATER_DS_AFTER_DEWATER_3_PER_WEEK'])]\n",
        "\n",
        "variables = ['TWAS_DAF_QIN_DAY', 'DIGESTED_SLUDGE_QOUT_DAY', 'BIOGAS_PRODUCTION_Q_DAY','TPS_Q1_DAY' ,'DIG_SLUDGE_DEWATER_DS_AFTER_DEWATER_3_PER_WEEK']\n",
        "\n",
        "independentVariables = ['TWAS_DAF_QIN_DAY', 'DIGESTED_SLUDGE_QOUT_DAY', 'BIOGAS_PRODUCTION_Q_DAY','TPS_Q1_DAY' ]\n",
        "\n",
        "rfModel_DIG_SLUDGE_DEWATER_DS_AFTER_DEWATER_3_PER_WEEK = RandomForestRegressor()\n",
        "rfModel_DIG_SLUDGE_DEWATER_DS_AFTER_DEWATER_3_PER_WEEK.fit(df_DIG_SLUDGE_DEWATER_DS_AFTER_DEWATER_3_PER_WEEKWith[independentVariables], df_DIG_SLUDGE_DEWATER_DS_AFTER_DEWATER_3_PER_WEEKWith['DIG_SLUDGE_DEWATER_DS_AFTER_DEWATER_3_PER_WEEK'])\n",
        "\n",
        "generatedDIG_SLUDGE_DEWATER_DS_AFTER_DEWATER_3_PER_WEEKValues = rfModel_DIG_SLUDGE_DEWATER_DS_AFTER_DEWATER_3_PER_WEEK.predict(X = df_DIG_SLUDGE_DEWATER_DS_AFTER_DEWATER_3_PER_WEEKWithout[independentVariables])\n",
        "\n",
        "print(generatedDIG_SLUDGE_DEWATER_DS_AFTER_DEWATER_3_PER_WEEKValues)\n",
        "df_DIG_SLUDGE_DEWATER_DS_AFTER_DEWATER_3_PER_WEEKWithout['DIG_SLUDGE_DEWATER_DS_AFTER_DEWATER_3_PER_WEEK'] = generatedDIG_SLUDGE_DEWATER_DS_AFTER_DEWATER_3_PER_WEEKValues.astype(float)\n",
        "data = df_DIG_SLUDGE_DEWATER_DS_AFTER_DEWATER_3_PER_WEEKWith.append(df_DIG_SLUDGE_DEWATER_DS_AFTER_DEWATER_3_PER_WEEKWithout)\n",
        "\n",
        "data.reset_index(inplace=True)\n",
        "\n",
        "\n",
        "data.set_index('Date', inplace=True)\n",
        "data = data.sort_index(ascending=True)\n",
        "\n",
        "filled_df['DIG_SLUDGE_DEWATER_DS_AFTER_DEWATER_3_PER_WEEK'] = data['DIG_SLUDGE_DEWATER_DS_AFTER_DEWATER_3_PER_WEEK']\n",
        "#data.DIG_SLUDGE_DEWATER_DS_AFTER_DEWATER_3_PER_WEEK"
      ],
      "execution_count": null,
      "outputs": [
        {
          "output_type": "stream",
          "text": [
            "[30.8318 30.4987 30.6903 31.3635 30.8362 31.3021 30.5219 31.0704 30.9448\n",
            " 32.1146 31.1949 30.856  30.1986 30.2654 30.8235 31.6939 30.7824 30.8926\n",
            " 29.9212 30.6467 31.3885 30.1603 30.2101 30.4182 31.5602 30.8504 30.8458\n",
            " 31.8203 31.2314 30.7313 30.8141 30.3451 31.1582 30.0957 31.0358 30.4844\n",
            " 31.8247 31.3722 30.2439 30.5172 30.906  31.0273 30.4392 31.1066 30.9693\n",
            " 31.504  30.125  30.3292 30.7298 30.3206 30.1558 30.8172 30.7027 31.4187\n",
            " 30.2521 30.1098]\n"
          ],
          "name": "stdout"
        },
        {
          "output_type": "stream",
          "text": [
            "/usr/local/lib/python3.7/dist-packages/ipykernel_launcher.py:17: SettingWithCopyWarning: \n",
            "A value is trying to be set on a copy of a slice from a DataFrame.\n",
            "Try using .loc[row_indexer,col_indexer] = value instead\n",
            "\n",
            "See the caveats in the documentation: https://pandas.pydata.org/pandas-docs/stable/user_guide/indexing.html#returning-a-view-versus-a-copy\n"
          ],
          "name": "stderr"
        }
      ]
    },
    {
      "cell_type": "code",
      "metadata": {
        "id": "v_zDzHcwRx-Y",
        "colab": {
          "base_uri": "https://localhost:8080/"
        },
        "outputId": "5bfbc8b3-61eb-474f-e073-eff5ac0a8575"
      },
      "source": [
        "# TPS_DS_DAY\n",
        "df_TPS_DS_DAY = filled_df.drop(columns=['DIGESTED_SLUDGE_VS_3_PER_WEEK', 'TPS_VS_DAY','TWAS_DAF_DS_DAY', 'TWAS_DAF_VS_DAY','DIGESTED_SLUDGE_DS_3_PER_WEEK'])\n",
        "\n",
        "df_TPS_DS_DAYWith = df_TPS_DS_DAY[pd.isnull(df_TPS_DS_DAY['TPS_DS_DAY']) == False]\n",
        "df_TPS_DS_DAYWithout = df_TPS_DS_DAY[pd.isnull(df_TPS_DS_DAY['TPS_DS_DAY'])]\n",
        "\n",
        "variables = ['TWAS_DAF_QIN_DAY', 'DIGESTED_SLUDGE_QOUT_DAY', 'BIOGAS_PRODUCTION_Q_DAY','TPS_Q1_DAY' ,'DIG_SLUDGE_DEWATER_DS_AFTER_DEWATER_3_PER_WEEK', 'TPS_DS_DAY']\n",
        "\n",
        "independentVariables = ['TWAS_DAF_QIN_DAY', 'DIGESTED_SLUDGE_QOUT_DAY', 'BIOGAS_PRODUCTION_Q_DAY','TPS_Q1_DAY', 'DIG_SLUDGE_DEWATER_DS_AFTER_DEWATER_3_PER_WEEK' ]\n",
        "\n",
        "rfModel_TPS_DS_DAY = RandomForestRegressor()\n",
        "rfModel_TPS_DS_DAY.fit(df_TPS_DS_DAYWith[independentVariables], df_TPS_DS_DAYWith['TPS_DS_DAY'])\n",
        "\n",
        "generatedTPS_DS_DAYValues = rfModel_TPS_DS_DAY.predict(X = df_TPS_DS_DAYWithout[independentVariables])\n",
        "\n",
        "print(generatedTPS_DS_DAYValues)\n",
        "df_TPS_DS_DAYWithout['TPS_DS_DAY'] = generatedTPS_DS_DAYValues.astype(float)\n",
        "data = df_TPS_DS_DAYWith.append(df_TPS_DS_DAYWithout)\n",
        "\n",
        "data.reset_index(inplace=True)\n",
        "\n",
        "\n",
        "data.set_index('Date', inplace=True)\n",
        "data = data.sort_index(ascending=True)\n",
        "\n",
        "filled_df['TPS_DS_DAY'] = data['TPS_DS_DAY']\n",
        "#data.TPS_DS_DAY"
      ],
      "execution_count": null,
      "outputs": [
        {
          "output_type": "stream",
          "text": [
            "[2.7574  4.2288  3.6816  3.8411  3.3373  2.0928  2.5626  2.9937  3.4927\n",
            " 3.0908  3.5813  3.6909  3.1739  4.0435  3.2728  3.5767  3.1952  3.0773\n",
            " 2.8641  2.9575  4.0854  3.3791  3.0908  3.19942 3.2908  3.2211  2.3532\n",
            " 3.2853  2.9932  3.1341  3.7646  3.168   2.816   3.32    2.7298  2.7215\n",
            " 3.8064  3.8393  3.0096  4.0728  3.9322  3.4162  2.8151  3.133   2.913\n",
            " 3.2279  2.9593  2.8186  2.682   3.09044 2.9256  2.5575  3.5889  3.95\n",
            " 3.7802  2.2434  2.581   3.30888 2.5985  2.9759  3.0636  2.4705  2.78432\n",
            " 3.1351  2.1805  3.5769  2.4615  3.59562 3.26722 2.9092  3.3582  3.2492\n",
            " 3.4696  3.8474  2.4255  2.7461  3.5693  3.1533  2.4675  2.4102  2.9953\n",
            " 3.5901  2.6312  3.1827  2.6046  2.9664  3.6426  3.3904  3.3671  4.0482\n",
            " 3.4453  3.0649  3.7902  2.9179  4.2109  2.7677  3.4622  2.8345  3.0911\n",
            " 3.6304  2.9194  3.3645  2.6865  2.2571  3.6299  3.4475  4.2818  3.8525\n",
            " 3.5219  3.8063  2.971   3.8717  3.3006  3.4454  3.5803  3.6988  2.7195\n",
            " 4.1497  3.2533  3.409   2.3879  2.807   2.97532 3.1114  3.3071  3.0666\n",
            " 3.3658  3.0684  2.89    3.3472  3.4065  2.4772  3.3822  3.2794  3.0815\n",
            " 2.8401  3.0082  3.6039  3.3302  3.7396  3.3057  3.3243  3.2358  2.9408\n",
            " 3.1058  3.1215  3.4745  3.2974  3.6952  3.7088  3.9037  3.3957  3.3188\n",
            " 3.762   3.6831  2.9845  3.7687  3.5991  3.419   3.1056  4.185   2.7074\n",
            " 3.3125  3.1404  4.1425  4.1087  4.0161  3.4405  3.0146  3.6951  3.1269\n",
            " 3.5108  2.8594  3.7297  3.6712  3.7636  3.5687  3.8652  3.5333  3.5497\n",
            " 3.4848  3.4469  2.819   3.3544  2.9403  3.1677  2.9949  2.922   4.2498\n",
            " 3.7605  4.4236  2.7464  4.9946  2.9729  3.4675  3.2815  3.4539  4.6276\n",
            " 3.3609  2.6817  2.8339  3.0942  2.823   3.6765  3.1275  2.9733  2.4551\n",
            " 2.9384  2.6046  2.836   2.1006  2.5719  2.4572  2.9906  3.0425  3.2774\n",
            " 3.5053  2.9686  3.4819  3.8497  2.9162  2.8068  2.6838  3.5639  3.2472\n",
            " 3.45    2.7579  2.7465  2.4814  2.5441  2.4084  2.7905  2.7207  2.4181\n",
            " 2.5002  3.1938  2.7317  2.0685  2.3849  3.0186  2.4671  3.664   2.2027\n",
            " 2.6423  3.6582  2.7252  3.189   3.1767  2.3061  2.6794  3.0435  2.7695\n",
            " 3.6194  2.7612  4.0361  2.7212  2.3725  3.3146  2.6001  2.4619  3.007\n",
            " 3.7875  2.5352  2.1816  3.44082 2.6483  3.4642  3.4654  3.1722  3.1665\n",
            " 3.7     3.4747  1.8132  3.5605  2.8545  3.0119  3.2853  3.6449  3.2338\n",
            " 2.927   3.26    3.0211  2.708   2.7275  2.4964  2.3511  2.9945  2.5526\n",
            " 2.5661  2.4365  2.554   2.6584  2.145   2.4009  2.8026  2.7197  2.9077\n",
            " 2.5932  2.7685  2.7012  2.975   2.8165  2.9369  2.5325  2.456   2.401\n",
            " 2.5739  2.301   1.8428  2.3233  2.4929 ]\n"
          ],
          "name": "stdout"
        },
        {
          "output_type": "stream",
          "text": [
            "/usr/local/lib/python3.7/dist-packages/ipykernel_launcher.py:17: SettingWithCopyWarning: \n",
            "A value is trying to be set on a copy of a slice from a DataFrame.\n",
            "Try using .loc[row_indexer,col_indexer] = value instead\n",
            "\n",
            "See the caveats in the documentation: https://pandas.pydata.org/pandas-docs/stable/user_guide/indexing.html#returning-a-view-versus-a-copy\n"
          ],
          "name": "stderr"
        }
      ]
    },
    {
      "cell_type": "code",
      "metadata": {
        "id": "ngqCWgO3T58I",
        "colab": {
          "base_uri": "https://localhost:8080/"
        },
        "outputId": "29cc28c8-a73d-4520-ecd6-a7d1e20bbf81"
      },
      "source": [
        "# DIGESTED_SLUDGE_VS_3_PER_WEEK\n",
        "df_DIGESTED_SLUDGE_VS_3_PER_WEEK = filled_df.drop(columns=['DIGESTED_SLUDGE_DS_3_PER_WEEK', 'TPS_VS_DAY','TWAS_DAF_DS_DAY', 'TWAS_DAF_VS_DAY'])\n",
        "\n",
        "df_DIGESTED_SLUDGE_VS_3_PER_WEEKWith = df_DIGESTED_SLUDGE_VS_3_PER_WEEK[pd.isnull(df_DIGESTED_SLUDGE_VS_3_PER_WEEK['DIGESTED_SLUDGE_VS_3_PER_WEEK']) == False]\n",
        "df_DIGESTED_SLUDGE_VS_3_PER_WEEKWithout = df_DIGESTED_SLUDGE_VS_3_PER_WEEK[pd.isnull(df_DIGESTED_SLUDGE_VS_3_PER_WEEK['DIGESTED_SLUDGE_VS_3_PER_WEEK'])]\n",
        "\n",
        "variables = ['DIGESTED_SLUDGE_VS_3_PER_WEEK','TWAS_DAF_QIN_DAY', 'DIGESTED_SLUDGE_QOUT_DAY', 'BIOGAS_PRODUCTION_Q_DAY','TPS_Q1_DAY' ,'DIG_SLUDGE_DEWATER_DS_AFTER_DEWATER_3_PER_WEEK', 'TPS_DS_DAY']\n",
        "\n",
        "independentVariables = ['TWAS_DAF_QIN_DAY', 'DIGESTED_SLUDGE_QOUT_DAY', 'BIOGAS_PRODUCTION_Q_DAY','TPS_Q1_DAY' ,'DIG_SLUDGE_DEWATER_DS_AFTER_DEWATER_3_PER_WEEK', 'TPS_DS_DAY']\n",
        "\n",
        "rfModel_DIGESTED_SLUDGE_VS_3_PER_WEEK = RandomForestRegressor()\n",
        "rfModel_DIGESTED_SLUDGE_VS_3_PER_WEEK.fit(df_DIGESTED_SLUDGE_VS_3_PER_WEEKWith[independentVariables], df_DIGESTED_SLUDGE_VS_3_PER_WEEKWith['DIGESTED_SLUDGE_VS_3_PER_WEEK'])\n",
        "\n",
        "generatedDIGESTED_SLUDGE_VS_3_PER_WEEKValues = rfModel_DIGESTED_SLUDGE_VS_3_PER_WEEK.predict(X = df_DIGESTED_SLUDGE_VS_3_PER_WEEKWithout[independentVariables])\n",
        "\n",
        "print(generatedDIGESTED_SLUDGE_VS_3_PER_WEEKValues)\n",
        "df_DIGESTED_SLUDGE_VS_3_PER_WEEKWithout['DIGESTED_SLUDGE_VS_3_PER_WEEK'] = generatedDIGESTED_SLUDGE_VS_3_PER_WEEKValues.astype(float)\n",
        "data = df_DIGESTED_SLUDGE_VS_3_PER_WEEKWith.append(df_DIGESTED_SLUDGE_VS_3_PER_WEEKWithout)\n",
        "\n",
        "data.reset_index(inplace=True)\n",
        "\n",
        "\n",
        "data.set_index('Date', inplace=True)\n",
        "data = data.sort_index(ascending=True)\n",
        "\n",
        "filled_df['DIGESTED_SLUDGE_VS_3_PER_WEEK'] = data['DIGESTED_SLUDGE_VS_3_PER_WEEK']\n",
        "#data.DIGESTED_SLUDGE_VS_3_PER_WEEK"
      ],
      "execution_count": null,
      "outputs": [
        {
          "output_type": "stream",
          "text": [
            "[74.99675    76.4586     76.5574     76.55791667 76.36295    74.86953333\n",
            " 76.46115    78.0622     74.4738     76.20425    75.12595    76.90986667\n",
            " 76.46535    75.52395    76.0579     77.64545    78.01153333 76.84775\n",
            " 77.80855    76.98115    76.6721     77.0167     74.06173333 75.91481667\n",
            " 75.72746667 75.7765     76.95923333 78.9685     77.2528     78.3286\n",
            " 77.2807     77.12615    76.62355    75.1923     74.6315     77.33685\n",
            " 76.48946667 76.1941     74.435      75.4686     75.09005    76.58635\n",
            " 76.68095    76.34025    74.93685    76.11455    75.29765    73.96085\n",
            " 76.85635    76.92615    76.11565    76.10261667 77.35095    75.9008\n",
            " 76.2095     76.0106     75.619      76.0034     75.8941     76.19463333\n",
            " 78.0799     76.02503333 74.52966667 77.44485    70.00553333 76.17785\n",
            " 77.49123333 77.5425     75.61085    77.184      77.1137     75.25268333\n",
            " 76.7459     75.97795    76.3116     77.0057     77.02405    75.10483333\n",
            " 77.2736     75.0208     73.54908333 76.2816     76.55233333 76.05915\n",
            " 76.153      75.2935     75.71126667 77.7936     77.2515     74.9748\n",
            " 75.9218     75.97605    73.90866667 74.29856667 79.70055    76.62653333\n",
            " 76.813      76.4746     77.042      75.61875    76.1213     75.9157\n",
            " 77.0145     74.869      77.1919     74.1385     74.90726667 76.87585\n",
            " 76.5136     75.73241667 76.45583333 74.8418     76.60965    74.51406667\n",
            " 76.09625    75.5264     73.97255    76.38495    74.92095    79.57816667\n",
            " 76.72425    74.85886667 75.06755    72.93485    75.17643333 76.0865\n",
            " 74.43235    76.62251667 77.01568333 76.68871667 73.67735    76.4774\n",
            " 75.50225    75.49521667 76.11935    75.72605    77.59916667 76.48033333\n",
            " 76.28916667 78.04726667 77.603      76.4685     75.77075    77.4985\n",
            " 74.62105    74.3434     76.0628     75.23965    75.96735    77.06735\n",
            " 76.72815    76.46283333 76.57933333 76.265      73.82753333 77.72695\n",
            " 78.3518     77.67325    77.27275    77.23785    76.85925    78.64635\n",
            " 77.856      77.47085    77.52045    77.65743333 76.2897     76.93095\n",
            " 77.49691667 77.94538333 78.37155    77.2759     77.92635    77.373\n",
            " 77.0326     76.89095    76.04645    76.98445    75.13555    75.57521667\n",
            " 73.96766667 75.9392     75.34026667 76.52935    78.2497     76.34865\n",
            " 77.63641667 76.6142     76.543      77.44633333 77.04285    77.0236\n",
            " 77.70535    74.93665    77.296      77.6892     77.54995    75.60481667\n",
            " 77.1429     78.66966667 76.19948333 76.68565    76.93043333 77.76815\n",
            " 76.55345    77.14675    76.4547     77.51595    76.89075    76.5025\n",
            " 77.69045    77.9695     76.0034     76.4035     78.03635    74.7875\n",
            " 77.0073     76.5197     75.2439     76.89955    76.41915    77.6067\n",
            " 77.61285    77.08105    77.09603333 77.2561     76.29853333 76.6246\n",
            " 76.6689     76.94965    77.57535    77.1041     76.21825    76.59261667\n",
            " 76.63206667 77.20196667 76.135      77.79605    77.30693333 77.5975\n",
            " 76.76605    76.82371667 76.66711667 76.638      75.39625    76.24266667\n",
            " 76.62       77.55516667 77.06126667 76.36363333 76.66185    77.1775\n",
            " 76.86923333 77.88536667 76.5086     76.33618333 75.54576667 75.1871\n",
            " 76.4013     74.0383     74.9632     75.78155    75.11365    75.90795\n",
            " 77.3065     76.13411667 75.69605    77.0599     78.19391667 77.5841\n",
            " 76.8149     77.0515     75.6445     77.0257     75.87355    76.57915\n",
            " 76.5307     76.6085     75.4153     77.99693333 76.7279     75.11811667\n",
            " 75.4543     75.47545    76.8661     76.0356     74.2262     76.79295\n",
            " 74.6228     77.12545    76.07026667 76.4928     76.35248333 76.18898333\n",
            " 75.57203333 77.1826     77.13373333 77.05948333 76.9196     76.72855\n",
            " 76.24918333 78.23626667 76.90791667 76.0742     77.1412     75.9438\n",
            " 74.07091667 75.36815    75.45856667 75.66665    76.17445    75.7133\n",
            " 76.51635    77.8402     76.586      78.05253333 74.4525     76.72243333\n",
            " 75.00015    77.5404     75.70428333 79.1624     76.13215    78.7433\n",
            " 76.7662     77.0757     77.1125     77.172      76.77831667 77.01708333\n",
            " 76.406      77.50275    77.123      78.1005     78.2946     76.99006667\n",
            " 77.03201667 78.43433333]\n"
          ],
          "name": "stdout"
        },
        {
          "output_type": "stream",
          "text": [
            "/usr/local/lib/python3.7/dist-packages/ipykernel_launcher.py:17: SettingWithCopyWarning: \n",
            "A value is trying to be set on a copy of a slice from a DataFrame.\n",
            "Try using .loc[row_indexer,col_indexer] = value instead\n",
            "\n",
            "See the caveats in the documentation: https://pandas.pydata.org/pandas-docs/stable/user_guide/indexing.html#returning-a-view-versus-a-copy\n"
          ],
          "name": "stderr"
        }
      ]
    },
    {
      "cell_type": "code",
      "metadata": {
        "id": "wZoAT2700Qlo",
        "colab": {
          "base_uri": "https://localhost:8080/"
        },
        "outputId": "6e5a9ed3-8fd1-4f22-a905-03fd3ff28692"
      },
      "source": [
        "# DIGESTED_SLUDGE_DS_3_PER_WEEK\n",
        "df_DIGESTED_SLUDGE_DS_3_PER_WEEK = filled_df.drop(columns=['TPS_VS_DAY','TWAS_DAF_DS_DAY', 'TWAS_DAF_VS_DAY'])\n",
        "\n",
        "df_DIGESTED_SLUDGE_DS_3_PER_WEEKWith = df_DIGESTED_SLUDGE_DS_3_PER_WEEK[pd.isnull(df_DIGESTED_SLUDGE_DS_3_PER_WEEK['DIGESTED_SLUDGE_DS_3_PER_WEEK']) == False]\n",
        "df_DIGESTED_SLUDGE_DS_3_PER_WEEKWithout = df_DIGESTED_SLUDGE_DS_3_PER_WEEK[pd.isnull(df_DIGESTED_SLUDGE_DS_3_PER_WEEK['DIGESTED_SLUDGE_DS_3_PER_WEEK'])]\n",
        "\n",
        "variables = ['DIGESTED_SLUDGE_DS_3_PER_WEEK','DIGESTED_SLUDGE_VS_3_PER_WEEK','TWAS_DAF_QIN_DAY', 'DIGESTED_SLUDGE_QOUT_DAY', 'BIOGAS_PRODUCTION_Q_DAY','TPS_Q1_DAY' ,'DIG_SLUDGE_DEWATER_DS_AFTER_DEWATER_3_PER_WEEK', 'TPS_DS_DAY']\n",
        "\n",
        "independentVariables = ['TWAS_DAF_QIN_DAY', 'DIGESTED_SLUDGE_QOUT_DAY', 'BIOGAS_PRODUCTION_Q_DAY','TPS_Q1_DAY' ,'DIG_SLUDGE_DEWATER_DS_AFTER_DEWATER_3_PER_WEEK', 'TPS_DS_DAY', 'DIGESTED_SLUDGE_VS_3_PER_WEEK']\n",
        "\n",
        "rfModel_DIGESTED_SLUDGE_DS_3_PER_WEEK = RandomForestRegressor()\n",
        "rfModel_DIGESTED_SLUDGE_DS_3_PER_WEEK.fit(df_DIGESTED_SLUDGE_DS_3_PER_WEEKWith[independentVariables], df_DIGESTED_SLUDGE_DS_3_PER_WEEKWith['DIGESTED_SLUDGE_DS_3_PER_WEEK'])\n",
        "\n",
        "generatedDIGESTED_SLUDGE_DS_3_PER_WEEKValues = rfModel_DIGESTED_SLUDGE_DS_3_PER_WEEK.predict(X = df_DIGESTED_SLUDGE_DS_3_PER_WEEKWithout[independentVariables])\n",
        "\n",
        "print(generatedDIGESTED_SLUDGE_DS_3_PER_WEEKValues)\n",
        "df_DIGESTED_SLUDGE_DS_3_PER_WEEKWithout['DIGESTED_SLUDGE_DS_3_PER_WEEK'] = generatedDIGESTED_SLUDGE_DS_3_PER_WEEKValues.astype(float)\n",
        "data = df_DIGESTED_SLUDGE_DS_3_PER_WEEKWith.append(df_DIGESTED_SLUDGE_DS_3_PER_WEEKWithout)\n",
        "\n",
        "data.reset_index(inplace=True)\n",
        "\n",
        "\n",
        "data.set_index('Date', inplace=True)\n",
        "data = data.sort_index(ascending=True)\n",
        "\n",
        "filled_df['DIGESTED_SLUDGE_DS_3_PER_WEEK'] = data['DIGESTED_SLUDGE_DS_3_PER_WEEK']\n",
        "#data.DIGESTED_SLUDGE_VS_3_PER_WEEK"
      ],
      "execution_count": null,
      "outputs": [
        {
          "output_type": "stream",
          "text": [
            "[2.1815     2.20483333 2.0456     1.99236667 2.1588     2.00961667\n",
            " 2.21311667 2.0446     2.12838    1.96075    2.028005   2.116625\n",
            " 1.90586667 2.15965    2.2385     2.18721667 2.0974     2.31379667\n",
            " 2.22466667 2.14488333 2.23903333 1.87798333 2.08298333 1.9801\n",
            " 2.00773333 2.04985    2.02158333 2.2997     2.17965    2.20756667\n",
            " 2.19785    2.4774     2.08225    1.89615    2.21025    2.10135\n",
            " 2.19046667 2.0736     2.0402     2.0528     2.13793    2.13233\n",
            " 2.14276667 2.15445    2.403      2.16465    2.1126     2.1234\n",
            " 2.19115    2.26368    2.17263333 2.23285    2.14655    2.1361\n",
            " 2.0169     2.1974     2.09656667 1.9073     2.14626667 2.23761667\n",
            " 1.9669     1.86185    2.24751    2.0709     2.16776667 2.261\n",
            " 2.07465    2.00163333 2.15155    2.09275    1.8944     2.07421667\n",
            " 1.98635    2.0276     2.19585    2.06201667 1.95561667 2.17485\n",
            " 1.98856667 1.83245    2.1703     2.14198333 1.985      1.99495\n",
            " 2.21715    1.90696667 1.95595    2.0475     1.8919     2.12385\n",
            " 2.09125    1.85946667 1.80961667 2.1874     2.11753333 2.11395\n",
            " 2.1322     2.04074167 1.90661667 2.06263333 1.94023333 1.9817\n",
            " 1.68505    1.87475    1.672      1.6981     2.45671    1.63705\n",
            " 1.7318     1.87065    1.7157     1.9594     1.55365    1.8466\n",
            " 1.6367     1.6187     2.08695    1.6425     1.8138     1.5936\n",
            " 1.6325     1.589      1.51785    1.7323     1.72895    1.59475\n",
            " 1.6296     1.980975   1.71265    1.5829     1.6722     1.6944\n",
            " 1.74748333 1.84105    1.74405    2.35628333 1.97995    2.26016667\n",
            " 2.02241667 2.031125   2.20245    1.99435    2.2394     2.124\n",
            " 1.9972     1.984      2.1307     1.98805    2.12735    2.17261667\n",
            " 1.99335    2.11688333 2.05408333 1.8651     2.2904     2.19565\n",
            " 2.28621667 2.2836     2.16049667 2.14845    2.35948    2.26565\n",
            " 2.21466667 2.30245    2.30333333 2.28196667 2.240675   2.31681667\n",
            " 2.29016667 2.41526333 2.27334333 2.3855     2.42839667 2.16415\n",
            " 2.11835    1.9965     2.21078333 2.2379     1.91100833 1.84565\n",
            " 1.96025    1.97896667 2.0214     2.16245833 2.172775   2.44005\n",
            " 2.187425   2.162425   2.1036     2.20486667 2.21074167 2.22945\n",
            " 2.23498    2.1754     2.54501667 2.2683     2.24718    2.28758\n",
            " 2.08485    2.2399     2.3113     2.30675    2.176      2.17145\n",
            " 2.181375   2.25458333 2.28898333 2.17985    2.18661667 2.11425\n",
            " 2.21115833 2.2705     2.189625   2.19293333 2.31105    2.18165\n",
            " 2.1895     2.17258333 2.22305    2.19055    2.11768333 2.14528333\n",
            " 2.07915    1.95225    2.01716667 2.12798333 2.11304167 2.25011667\n",
            " 2.10628333 2.2112     2.1162     2.2013     2.02995    1.88925\n",
            " 1.9958     1.969      1.85973333 1.9276     2.0575     2.06225\n",
            " 2.16236667 1.78588333 1.8211     2.10718    1.97735    1.92955\n",
            " 2.07735    2.20045    1.92941667 2.20135    2.06395    2.170675\n",
            " 2.066      2.12275    1.9839     2.19113333 1.960225   1.8592\n",
            " 1.8697     1.86988333 2.02195    2.0928     1.9363     2.05469167\n",
            " 1.8757     2.06285    1.98995    2.3638     2.07038333 2.1045\n",
            " 1.94626667 2.13745    1.82065833 2.119      1.93696667 1.93561667\n",
            " 2.04093333 2.29028333 2.03398333 2.03965    2.1227     1.8986\n",
            " 1.53785    1.88615    1.95038333 1.86545    2.12455    1.89913333\n",
            " 2.1879     2.1532     2.21065    2.22763    2.20605    2.1837\n",
            " 2.18615    2.20585    1.97178333 2.10496667 2.03743333 2.20165\n",
            " 2.205475   2.074425   2.03186667 1.9819     2.12985833 2.20408333\n",
            " 2.16741667 2.09885    2.0074     2.22255    2.05955    2.1966\n",
            " 2.0631     2.175675  ]\n"
          ],
          "name": "stdout"
        },
        {
          "output_type": "stream",
          "text": [
            "/usr/local/lib/python3.7/dist-packages/ipykernel_launcher.py:17: SettingWithCopyWarning: \n",
            "A value is trying to be set on a copy of a slice from a DataFrame.\n",
            "Try using .loc[row_indexer,col_indexer] = value instead\n",
            "\n",
            "See the caveats in the documentation: https://pandas.pydata.org/pandas-docs/stable/user_guide/indexing.html#returning-a-view-versus-a-copy\n"
          ],
          "name": "stderr"
        }
      ]
    },
    {
      "cell_type": "code",
      "metadata": {
        "id": "MEIyJh4f2UBo",
        "colab": {
          "base_uri": "https://localhost:8080/"
        },
        "outputId": "98c05308-fff4-4985-b94d-b4cd09efb913"
      },
      "source": [
        "# TWAS_DAF_DS_DAY\n",
        "\n",
        "df_TWAS_DAF_DS_DAY = filled_df.drop(columns=['TPS_VS_DAY', 'TWAS_DAF_VS_DAY'])\n",
        "\n",
        "df_TWAS_DAF_DS_DAYWith = df_TWAS_DAF_DS_DAY[pd.isnull(df_TWAS_DAF_DS_DAY['TWAS_DAF_DS_DAY']) == False]\n",
        "df_TWAS_DAF_DS_DAYWithout = df_TWAS_DAF_DS_DAY[pd.isnull(df_TWAS_DAF_DS_DAY['TWAS_DAF_DS_DAY'])]\n",
        "\n",
        "variables = ['DIGESTED_SLUDGE_DS_3_PER_WEEK','DIGESTED_SLUDGE_VS_3_PER_WEEK','TWAS_DAF_QIN_DAY', 'DIGESTED_SLUDGE_QOUT_DAY', 'BIOGAS_PRODUCTION_Q_DAY','TPS_Q1_DAY' ,'DIG_SLUDGE_DEWATER_DS_AFTER_DEWATER_3_PER_WEEK', 'TPS_DS_DAY', 'TWAS_DAF_DS_DAY']\n",
        "\n",
        "independentVariables = ['DIGESTED_SLUDGE_DS_3_PER_WEEK','DIGESTED_SLUDGE_VS_3_PER_WEEK','TWAS_DAF_QIN_DAY', 'DIGESTED_SLUDGE_QOUT_DAY', 'BIOGAS_PRODUCTION_Q_DAY','TPS_Q1_DAY' ,'DIG_SLUDGE_DEWATER_DS_AFTER_DEWATER_3_PER_WEEK', 'TPS_DS_DAY']\n",
        "\n",
        "rfModel_TWAS_DAF_DS_DAY = RandomForestRegressor()\n",
        "rfModel_TWAS_DAF_DS_DAY.fit(df_TWAS_DAF_DS_DAYWith[independentVariables], df_TWAS_DAF_DS_DAYWith['TWAS_DAF_DS_DAY'])\n",
        "\n",
        "generatedTWAS_DAF_DS_DAYValues = rfModel_TWAS_DAF_DS_DAY.predict(X = df_TWAS_DAF_DS_DAYWithout[independentVariables])\n",
        "\n",
        "print(generatedTWAS_DAF_DS_DAYValues)\n",
        "df_TWAS_DAF_DS_DAYWithout['TWAS_DAF_DS_DAY'] = generatedTWAS_DAF_DS_DAYValues.astype(float)\n",
        "data = df_TWAS_DAF_DS_DAYWith.append(df_TWAS_DAF_DS_DAYWithout)\n",
        "\n",
        "data.reset_index(inplace=True)\n",
        "\n",
        "\n",
        "data.set_index('Date', inplace=True)\n",
        "data = data.sort_index(ascending=True)\n",
        "\n",
        "filled_df['TWAS_DAF_DS_DAY'] = data['TWAS_DAF_DS_DAY']\n",
        "#data.DIGESTED_SLUDGE_VS_3_PER_WEEK\n"
      ],
      "execution_count": null,
      "outputs": [
        {
          "output_type": "stream",
          "text": [
            "[4.18   4.4149 4.0354 4.102  3.6026 3.9897 3.582  3.991  4.0111 3.8538\n",
            " 3.7717 4.0225 4.1082 4.6075 3.9078 3.3075 4.5274 4.6089 2.6843 4.2095\n",
            " 4.1672 4.5795 4.1928 4.7359 4.4785 4.8566 4.4145 4.7973 4.6279 4.1699\n",
            " 4.4022 4.2445 4.4724 3.7991 4.0016 4.4746 4.6175 4.4361 4.7388 4.8362\n",
            " 3.4071 3.5764 3.8854 3.8817 3.462  4.243  4.062  3.9653 4.6438 4.2294\n",
            " 5.2684 5.0519 5.0181 4.9623 4.2182 4.5687 4.3568 4.5266 3.7857 3.7769\n",
            " 3.8561 4.2542 4.1059 4.2564 4.2155 4.1322 3.9691 4.5582 4.741  4.2225\n",
            " 3.7116 3.5998 3.6044 3.7605 4.341  3.0498 3.9588 2.9522 3.975  3.85\n",
            " 3.7272 4.1893 4.2642 3.8652 3.6142 4.0465 4.0489 4.6628 3.953  3.5612\n",
            " 3.8028 4.7144 3.6069 3.5153 3.9731 4.1564 3.5065 3.6504 3.9609 3.6021\n",
            " 3.6718 3.7818 3.9472 3.6545 3.6441 4.3787 4.2893 3.8846 3.5836 3.8297\n",
            " 3.7436 3.5626 3.9423 3.8972 3.9429 3.4919 3.6    3.6618 4.0469 3.9289\n",
            " 3.6063 3.8901 3.6318 3.7925 3.7041 3.6941 3.7885 3.9441 3.8025 4.0538\n",
            " 4.1038 3.7345 3.8544 3.7019 4.0504 4.0088 3.6556 3.776  3.4234 3.937\n",
            " 3.4861 3.8094 3.8346 3.9106 4.4079 4.223  3.6529 3.5686 3.651  5.0572\n",
            " 4.9134 4.5763 4.8283 4.5518 3.9071 4.4551 4.7338 4.5819 4.2938 5.1003\n",
            " 4.7741 4.6827 4.8136 3.7999 4.3609 4.1975 4.564  4.5563 5.1536 5.0284\n",
            " 3.94   4.1507 3.7642 4.0118 4.5077 3.7459 3.5513 3.7449 4.1221 3.6489\n",
            " 4.9339 4.3253 4.7325 4.7473 4.1    4.6377 4.5547 4.4607 4.0556 4.6077\n",
            " 4.704  3.6374 4.9748 4.7865 4.3474 4.2605 4.7424 4.8784 5.0488 4.673\n",
            " 4.5277 4.5591 4.3985 4.2596 4.3371 4.4849 4.3312 4.5564 4.6836 3.9906\n",
            " 4.2823 3.9148 4.3681 4.8259 4.5602 4.2248 4.348  4.275  3.7315 3.6542\n",
            " 3.869  3.7306 5.0255 4.2544 3.8205 3.8884 4.1408 3.855  4.3296 3.9761\n",
            " 4.0856 3.793  3.7923 3.962  3.4592 3.3515 3.9927 3.5604 3.8495 4.1065\n",
            " 4.0158 4.0244 3.8164 4.5949 3.5361 3.3606 3.9134 4.3739 3.8853 4.3578\n",
            " 4.0619 3.7344 3.6449 3.5596 3.8066 3.8159 3.4593 3.8386 3.9222 4.0856\n",
            " 4.1509 3.4612 4.2167 3.5351 3.7748 4.0241 3.4285 3.547  3.7127 3.8944\n",
            " 3.9895 3.5231 3.3344 3.6804 3.8334 3.573  3.6109 3.6211 3.6479 3.1694\n",
            " 3.8441 3.3999 3.5753 3.2908 4.0463 3.5711 3.9572 3.5828 3.3612 3.467\n",
            " 3.6513 3.7657 4.0889 3.5546 3.9949 4.1681 3.763  4.0373 3.878  4.8294\n",
            " 4.5028 3.7915 4.5892 4.5831 4.1892 4.2186 3.7979 3.8595 3.5863 4.0501\n",
            " 3.3296 4.0279 3.66   3.563  3.7817 3.979  3.7465 3.7245 3.7328 3.6879\n",
            " 3.7245 3.7375 4.0271 3.8371 4.3495]\n"
          ],
          "name": "stdout"
        },
        {
          "output_type": "stream",
          "text": [
            "/usr/local/lib/python3.7/dist-packages/ipykernel_launcher.py:18: SettingWithCopyWarning: \n",
            "A value is trying to be set on a copy of a slice from a DataFrame.\n",
            "Try using .loc[row_indexer,col_indexer] = value instead\n",
            "\n",
            "See the caveats in the documentation: https://pandas.pydata.org/pandas-docs/stable/user_guide/indexing.html#returning-a-view-versus-a-copy\n"
          ],
          "name": "stderr"
        }
      ]
    },
    {
      "cell_type": "code",
      "metadata": {
        "id": "VL6c-wTI31S9",
        "colab": {
          "base_uri": "https://localhost:8080/"
        },
        "outputId": "84005bbd-ada5-4643-cfd4-19725b6aac04"
      },
      "source": [
        "# TPS_VS_DAY\n",
        "\n",
        "df_TPS_VS_DAY = filled_df.drop(columns=['TWAS_DAF_VS_DAY'])\n",
        "\n",
        "df_TPS_VS_DAYWith = df_TPS_VS_DAY[pd.isnull(df_TPS_VS_DAY['TPS_VS_DAY']) == False]\n",
        "df_TPS_VS_DAYWithout = df_TPS_VS_DAY[pd.isnull(df_TPS_VS_DAY['TPS_VS_DAY'])]\n",
        "\n",
        "variables = ['DIGESTED_SLUDGE_DS_3_PER_WEEK','DIGESTED_SLUDGE_VS_3_PER_WEEK','TWAS_DAF_QIN_DAY', 'DIGESTED_SLUDGE_QOUT_DAY', 'BIOGAS_PRODUCTION_Q_DAY','TPS_Q1_DAY' ,'DIG_SLUDGE_DEWATER_DS_AFTER_DEWATER_3_PER_WEEK', 'TPS_DS_DAY', 'TWAS_DAF_DS_DAY', 'TPS_VS_DAY']\n",
        "\n",
        "independentVariables = ['DIGESTED_SLUDGE_DS_3_PER_WEEK','DIGESTED_SLUDGE_VS_3_PER_WEEK','TWAS_DAF_QIN_DAY', 'DIGESTED_SLUDGE_QOUT_DAY', 'BIOGAS_PRODUCTION_Q_DAY','TPS_Q1_DAY' ,'DIG_SLUDGE_DEWATER_DS_AFTER_DEWATER_3_PER_WEEK', 'TPS_DS_DAY', 'TWAS_DAF_DS_DAY']\n",
        "\n",
        "rfModel_TPS_VS_DAY = RandomForestRegressor()\n",
        "rfModel_TPS_VS_DAY.fit(df_TPS_VS_DAYWith[independentVariables], df_TPS_VS_DAYWith['TPS_VS_DAY'])\n",
        "\n",
        "generatedTPS_VS_DAYValues = rfModel_TPS_VS_DAY.predict(X = df_TPS_VS_DAYWithout[independentVariables])\n",
        "\n",
        "print(generatedTPS_VS_DAYValues)\n",
        "df_TPS_VS_DAYWithout['TPS_VS_DAY'] = generatedTPS_VS_DAYValues.astype(float)\n",
        "data = df_TPS_VS_DAYWith.append(df_TPS_VS_DAYWithout)\n",
        "\n",
        "data.reset_index(inplace=True)\n",
        "\n",
        "\n",
        "data.set_index('Date', inplace=True)\n",
        "data = data.sort_index(ascending=True)\n",
        "\n",
        "filled_df['TPS_VS_DAY'] = data['TPS_VS_DAY']\n",
        "#data.DIGESTED_SLUDGE_VS_3_PER_WEEK\n"
      ],
      "execution_count": null,
      "outputs": [
        {
          "output_type": "stream",
          "text": [
            "[86.9002 88.0561 86.2132 86.5512 88.8985 86.0354 88.3347 86.8186 86.6626\n",
            " 86.7932 86.4901 86.35   85.9625 88.0722 88.8699 87.4928 85.4038 85.9759\n",
            " 87.3298 85.3602 86.7738 84.555  85.6646 87.0362 86.4819 84.2421 87.3375\n",
            " 87.0265 89.2741 88.1869 88.7342 88.64   86.821  86.7052 87.492  87.6508\n",
            " 87.4532 87.6135 86.8055 87.9078 87.4597 86.39   85.5924 87.5411 86.5743\n",
            " 87.1216 89.1482 86.8075 87.2036 86.4265 87.2916 86.6984 86.3992 87.5245\n",
            " 86.849  85.778  87.8095 85.7708 87.1879 88.6361 87.1817 86.2407 86.245\n",
            " 86.4703 85.0626 86.272  86.5236 86.9122 85.7646 86.2012 86.1166 86.906\n",
            " 87.0816 86.5924 87.9296 87.1548 85.8456 88.2697 86.3631 84.8387 85.5306\n",
            " 86.2875 85.8054 86.2056 83.589  86.82   88.309  85.904  86.5396 88.7974\n",
            " 85.6707 86.633  86.2754 86.5154 86.5281 86.3201 85.3595 87.0865 86.9838\n",
            " 85.888  86.4208 86.339  87.0274 86.6857 86.596  86.7357 86.6861 86.02\n",
            " 86.008  86.6291 86.1161 87.318  85.464  86.988  86.6433 86.8626 85.949\n",
            " 86.724  85.882  86.0563 86.9405 86.125  86.691  87.0516 86.4831 86.112\n",
            " 86.225  86.799  86.2826 86.9807 86.794  86.3391 86.4193 85.6946 89.8237\n",
            " 87.3854 89.5704 87.7759 87.3139 88.202  88.5505 87.4849 89.6412 88.5229\n",
            " 86.6488 86.0472 88.8435 89.0726 88.488  87.9899 88.654  87.9672 86.9746\n",
            " 87.2029 86.146  87.1352 86.1295 86.204  85.978  86.139  86.8846 86.502\n",
            " 88.0391 86.2082 87.7998 86.5079 86.4593 87.2841 86.1589 84.9982 88.4192\n",
            " 86.483  88.5702 89.5093 88.444  85.7051 88.3188 88.1448 85.1056 86.7176\n",
            " 85.6457 87.041  85.7    87.7608 89.2016 89.7533 89.3757 87.4998 90.0575\n",
            " 89.1579 87.0684 87.143  87.5311 87.3674 86.8219 86.932  87.837  86.927\n",
            " 89.2194 87.3943 89.4826 88.3578 87.6552 88.1195 87.0056 87.3093 87.387\n",
            " 83.668  88.7455 86.6872 87.3756 86.8944 86.5196 87.1924 87.6307 87.929\n",
            " 88.1875 87.9271 87.1462 87.5957 86.686  86.127  86.119  85.6633 85.988\n",
            " 87.9602 86.5933 86.8799 86.1949 86.881  83.894  86.4652 86.1782 87.0874\n",
            " 86.152  87.0476 86.5616 87.2903 86.457  86.6351 86.5227 86.4443 86.8317\n",
            " 86.594  86.692  87.7518 86.0893 86.055  85.7319 86.8456 85.9634 86.017\n",
            " 85.9763 83.5708 83.8579 84.677  87.3047 86.7783 86.1534 86.5631 85.6228\n",
            " 86.1576 86.691  86.112  86.4121 86.618  86.154  86.4931 87.1753 86.198\n",
            " 87.587  86.8235 87.0085 85.5457 86.4917 86.6357 86.796  87.7336 86.9547\n",
            " 84.5668 87.3    86.3606 86.3443 86.246  87.601  86.3907 85.967  86.388\n",
            " 86.649  86.123  86.354  87.2206 86.583  86.853  86.312  88.0788 87.4365\n",
            " 85.7428 89.1645 86.9782 86.8561 87.519  86.8956 86.5695 87.3724 86.9212\n",
            " 86.2027 87.4104 86.1082 87.7555 87.3094 86.3697 86.0096 86.601  86.7684\n",
            " 86.6764 83.5677 86.903  87.266  87.536  86.8194 86.2883 87.9478 84.903\n",
            " 85.6052 85.5676 87.9453 86.0396 88.5245 87.7193 85.595  83.203  87.0947]\n"
          ],
          "name": "stdout"
        },
        {
          "output_type": "stream",
          "text": [
            "/usr/local/lib/python3.7/dist-packages/ipykernel_launcher.py:18: SettingWithCopyWarning: \n",
            "A value is trying to be set on a copy of a slice from a DataFrame.\n",
            "Try using .loc[row_indexer,col_indexer] = value instead\n",
            "\n",
            "See the caveats in the documentation: https://pandas.pydata.org/pandas-docs/stable/user_guide/indexing.html#returning-a-view-versus-a-copy\n"
          ],
          "name": "stderr"
        }
      ]
    },
    {
      "cell_type": "code",
      "metadata": {
        "id": "bO8DAVo05FEC",
        "colab": {
          "base_uri": "https://localhost:8080/"
        },
        "outputId": "11e01b07-3631-4cef-e7c0-1f47c4eb79a4"
      },
      "source": [
        "# TWAS_DAF_VS_DAY\n",
        "\n",
        "df_TWAS_DAF_VS_DAY = filled_df.copy()\n",
        "\n",
        "df_TWAS_DAF_VS_DAYWith = df_TWAS_DAF_VS_DAY[pd.isnull(df_TWAS_DAF_VS_DAY['TWAS_DAF_VS_DAY']) == False]\n",
        "df_TWAS_DAF_VS_DAYWithout = df_TWAS_DAF_VS_DAY[pd.isnull(df_TWAS_DAF_VS_DAY['TWAS_DAF_VS_DAY'])]\n",
        "\n",
        "variables = ['DIGESTED_SLUDGE_DS_3_PER_WEEK','DIGESTED_SLUDGE_VS_3_PER_WEEK','TWAS_DAF_QIN_DAY', 'DIGESTED_SLUDGE_QOUT_DAY', 'BIOGAS_PRODUCTION_Q_DAY','TPS_Q1_DAY' ,'DIG_SLUDGE_DEWATER_DS_AFTER_DEWATER_3_PER_WEEK', 'TPS_DS_DAY', 'TWAS_DAF_DS_DAY', 'TPS_VS_DAY', 'TWAS_DAF_VS_DAY']\n",
        "\n",
        "independentVariables = ['DIGESTED_SLUDGE_DS_3_PER_WEEK','DIGESTED_SLUDGE_VS_3_PER_WEEK','TWAS_DAF_QIN_DAY', 'DIGESTED_SLUDGE_QOUT_DAY', 'BIOGAS_PRODUCTION_Q_DAY','TPS_Q1_DAY' ,'DIG_SLUDGE_DEWATER_DS_AFTER_DEWATER_3_PER_WEEK', 'TPS_DS_DAY', 'TWAS_DAF_DS_DAY', 'TPS_VS_DAY']\n",
        "\n",
        "rfModel_TWAS_DAF_VS_DAY = RandomForestRegressor()\n",
        "rfModel_TWAS_DAF_VS_DAY.fit(df_TWAS_DAF_VS_DAYWith[independentVariables], df_TWAS_DAF_VS_DAYWith['TWAS_DAF_VS_DAY'])\n",
        "\n",
        "generatedTWAS_DAF_VS_DAYValues = rfModel_TWAS_DAF_VS_DAY.predict(X = df_TWAS_DAF_VS_DAYWithout[independentVariables])\n",
        "\n",
        "print(generatedTWAS_DAF_VS_DAYValues)\n",
        "df_TWAS_DAF_VS_DAYWithout['TWAS_DAF_VS_DAY'] = generatedTWAS_DAF_VS_DAYValues.astype(float)\n",
        "data = df_TWAS_DAF_VS_DAYWith.append(df_TWAS_DAF_VS_DAYWithout)\n",
        "\n",
        "data.reset_index(inplace=True)\n",
        "\n",
        "\n",
        "data.set_index('Date', inplace=True)\n",
        "data = data.sort_index(ascending=True)\n",
        "\n",
        "filled_df['TWAS_DAF_VS_DAY'] = data['TWAS_DAF_VS_DAY']\n",
        "#data.DIGESTED_SLUDGE_VS_3_PER_WEEK\n"
      ],
      "execution_count": null,
      "outputs": [
        {
          "output_type": "stream",
          "text": [
            "[82.4703 82.4744 81.791  81.7726 81.358  83.4495 81.954  81.7604 81.6725\n",
            " 82.8837 81.5795 81.1123 81.8827 84.8212 83.8896 84.1857 84.5634 83.5057\n",
            " 85.3357 83.4868 79.867  83.3137 85.0418 84.6947 83.6184 82.06   86.2562\n",
            " 86.534  82.7246 79.6174 85.6732 82.9379 82.0252 82.6615 82.8374 83.3055\n",
            " 85.6341 83.8089 84.1627 83.1119 84.1855 81.8868 81.5568 82.8593 82.4455\n",
            " 82.2482 81.8321 82.5935 83.1017 83.0463 81.7077 80.0348 83.7839 83.6341\n",
            " 81.793  85.7127 82.042  83.0156 81.402  82.1855 82.4506 81.8441 82.3782\n",
            " 82.2432 80.804  82.78   81.0926 82.9115 84.986  82.9875 82.602  81.269\n",
            " 81.46   82.2092 78.2    80.976  80.856  80.633  82.4774 80.728  82.2945\n",
            " 82.1437 79.7604 81.1491 80.8675 82.0343 82.294  81.3598 82.9807 83.1379\n",
            " 79.9226 84.6237 81.8442 81.309  83.7853 81.3356 83.8028 81.254  81.7147\n",
            " 83.4215 82.0552 82.2535 83.34   80.528  81.8676 83.928  82.4568 81.899\n",
            " 80.865  82.051  81.437  81.7143 79.9662 82.1255 83.0277 80.055  81.383\n",
            " 81.278  81.8259 81.678  81.47   81.504  81.236  81.394  80.382  81.515\n",
            " 83.7075 82.2239 80.408  82.2045 81.5856 80.9    81.5022 81.376  81.6177\n",
            " 81.389  83.1663 81.488  81.887  82.2601 80.654  81.235  81.061  82.3238\n",
            " 83.7851 81.6915 81.354  81.5605 81.6048 85.4065 85.3188 83.777  85.9651\n",
            " 82.7847 83.6422 85.4164 84.2127 84.792  83.362  85.6916 85.5857 85.0137\n",
            " 81.8942 81.7552 85.0091 83.6284 84.1694 83.8207 83.772  83.5998 81.471\n",
            " 83.0303 84.919  82.1818 81.6188 80.936  80.1075 81.478  81.9795 81.729\n",
            " 83.9921 81.6905 81.8313 82.472  81.3425 81.8575 82.159  83.5622 83.6977\n",
            " 84.0437 81.5    86.0991 86.0823 84.3733 81.318  84.1559 84.8179 81.641\n",
            " 81.8944 83.6401 83.891  81.523  83.0132 83.1774 85.3051 85.3433 82.4369\n",
            " 85.3245 84.3971 82.5624 82.2361 83.357  82.325  83.8863 82.8351 82.3607\n",
            " 83.3128 83.211  83.3859 85.4388 84.2313 83.4074 83.894  82.606  82.029\n",
            " 82.598  82.1738 84.8264 83.4516 81.6826 82.3081 81.092  82.4315 81.9375\n",
            " 83.8786 82.9247 83.2729 82.6276 81.8022 81.594  81.5085 81.325  81.2985\n",
            " 81.663  82.633  82.556  82.3994 81.6766 81.7584 82.225  82.721  82.8114\n",
            " 82.615  81.5225 82.2788 81.5277 82.5521 80.614  81.265  80.918  81.288\n",
            " 81.4822 81.9299 81.493  81.5646 83.1813 81.1705 81.237  83.7159 82.1002\n",
            " 81.73   81.579  81.709  82.5091 82.2953 81.881  81.2613 82.5963 81.358\n",
            " 82.5993 82.0394 81.305  82.623  81.6761 81.355  80.86   81.5616 81.2596\n",
            " 82.2299 81.496  80.573  82.859  81.215  82.9714 81.4324 82.1505 81.3435\n",
            " 81.578  81.5343 81.049  83.5808 83.2695 82.4767 82.9299 81.5837 81.107\n",
            " 83.37   82.2498 81.442  82.654  84.127  81.362  81.113  79.787  82.28\n",
            " 81.1876 82.412  81.4812 83.4623 82.4077 81.472  84.7696 81.9512 81.7509\n",
            " 82.5827 82.5877 81.4845 82.8348 81.7158 82.972  81.7231 83.5996 82.046\n",
            " 82.1463 83.4073 82.7092 82.482  81.9361 82.2759 81.8055 83.0282 82.732\n",
            " 84.355  83.0523 83.3137 81.6469 82.5226]\n"
          ],
          "name": "stdout"
        },
        {
          "output_type": "stream",
          "text": [
            "/usr/local/lib/python3.7/dist-packages/ipykernel_launcher.py:18: SettingWithCopyWarning: \n",
            "A value is trying to be set on a copy of a slice from a DataFrame.\n",
            "Try using .loc[row_indexer,col_indexer] = value instead\n",
            "\n",
            "See the caveats in the documentation: https://pandas.pydata.org/pandas-docs/stable/user_guide/indexing.html#returning-a-view-versus-a-copy\n"
          ],
          "name": "stderr"
        }
      ]
    },
    {
      "cell_type": "code",
      "metadata": {
        "id": "570UHXE_UxkO"
      },
      "source": [
        "dti = pd.date_range(\"2012-01-01\", periods=851, freq=\"D\")\n",
        "filled_df['Date'] = dti\n",
        "filled_df.set_index(\"Date\", inplace=True)\n",
        "# filled_df.drop(columns=['Date'], inplace=True)\n",
        "df_pca = filled_df.copy()\n"
      ],
      "execution_count": null,
      "outputs": []
    },
    {
      "cell_type": "code",
      "metadata": {
        "id": "LHoLY7gTcUMR"
      },
      "source": [
        "filled_df.drop(columns=['TPS_DS_DAY', 'TPS_VS_DAY', 'TWAS_DAF_DS_DAY', 'TWAS_DAF_VS_DAY', 'DIGESTED_SLUDGE_DS_3_PER_WEEK', 'DIGESTED_SLUDGE_VS_3_PER_WEEK'], inplace=True)"
      ],
      "execution_count": null,
      "outputs": []
    },
    {
      "cell_type": "code",
      "metadata": {
        "id": "R9_qqSiENXb_",
        "colab": {
          "base_uri": "https://localhost:8080/",
          "height": 450
        },
        "outputId": "26b5c53c-97aa-4c4a-b32f-01b08b7a8aad"
      },
      "source": [
        "filled_df.sav"
      ],
      "execution_count": null,
      "outputs": [
        {
          "output_type": "execute_result",
          "data": {
            "text/html": [
              "<div>\n",
              "<style scoped>\n",
              "    .dataframe tbody tr th:only-of-type {\n",
              "        vertical-align: middle;\n",
              "    }\n",
              "\n",
              "    .dataframe tbody tr th {\n",
              "        vertical-align: top;\n",
              "    }\n",
              "\n",
              "    .dataframe thead th {\n",
              "        text-align: right;\n",
              "    }\n",
              "</style>\n",
              "<table border=\"1\" class=\"dataframe\">\n",
              "  <thead>\n",
              "    <tr style=\"text-align: right;\">\n",
              "      <th></th>\n",
              "      <th>TPS_Q1_DAY</th>\n",
              "      <th>TWAS_DAF_QIN_DAY</th>\n",
              "      <th>DIGESTED_SLUDGE_QOUT_DAY</th>\n",
              "      <th>BIOGAS_PRODUCTION_Q_DAY</th>\n",
              "      <th>DIG_SLUDGE_DEWATER_DS_AFTER_DEWATER_3_PER_WEEK</th>\n",
              "    </tr>\n",
              "    <tr>\n",
              "      <th>Date</th>\n",
              "      <th></th>\n",
              "      <th></th>\n",
              "      <th></th>\n",
              "      <th></th>\n",
              "      <th></th>\n",
              "    </tr>\n",
              "  </thead>\n",
              "  <tbody>\n",
              "    <tr>\n",
              "      <th>2012-01-01</th>\n",
              "      <td>199.5</td>\n",
              "      <td>242.5</td>\n",
              "      <td>414</td>\n",
              "      <td>5.064</td>\n",
              "      <td>32.1</td>\n",
              "    </tr>\n",
              "    <tr>\n",
              "      <th>2012-01-02</th>\n",
              "      <td>199.5</td>\n",
              "      <td>165.5</td>\n",
              "      <td>392</td>\n",
              "      <td>5.293</td>\n",
              "      <td>32.1</td>\n",
              "    </tr>\n",
              "    <tr>\n",
              "      <th>2012-01-03</th>\n",
              "      <td>199.5</td>\n",
              "      <td>241.5</td>\n",
              "      <td>428</td>\n",
              "      <td>5.609</td>\n",
              "      <td>32.1</td>\n",
              "    </tr>\n",
              "    <tr>\n",
              "      <th>2012-01-04</th>\n",
              "      <td>170.0</td>\n",
              "      <td>194.0</td>\n",
              "      <td>354</td>\n",
              "      <td>4.470</td>\n",
              "      <td>31.8</td>\n",
              "    </tr>\n",
              "    <tr>\n",
              "      <th>2012-01-05</th>\n",
              "      <td>199.5</td>\n",
              "      <td>193.5</td>\n",
              "      <td>383</td>\n",
              "      <td>2.848</td>\n",
              "      <td>31.4</td>\n",
              "    </tr>\n",
              "    <tr>\n",
              "      <th>...</th>\n",
              "      <td>...</td>\n",
              "      <td>...</td>\n",
              "      <td>...</td>\n",
              "      <td>...</td>\n",
              "      <td>...</td>\n",
              "    </tr>\n",
              "    <tr>\n",
              "      <th>2014-04-26</th>\n",
              "      <td>199.5</td>\n",
              "      <td>271.5</td>\n",
              "      <td>470</td>\n",
              "      <td>1.824</td>\n",
              "      <td>32.0</td>\n",
              "    </tr>\n",
              "    <tr>\n",
              "      <th>2014-04-27</th>\n",
              "      <td>199.5</td>\n",
              "      <td>188.5</td>\n",
              "      <td>390</td>\n",
              "      <td>1.670</td>\n",
              "      <td>30.0</td>\n",
              "    </tr>\n",
              "    <tr>\n",
              "      <th>2014-04-28</th>\n",
              "      <td>199.5</td>\n",
              "      <td>185.5</td>\n",
              "      <td>392</td>\n",
              "      <td>1.613</td>\n",
              "      <td>32.0</td>\n",
              "    </tr>\n",
              "    <tr>\n",
              "      <th>2014-04-29</th>\n",
              "      <td>199.5</td>\n",
              "      <td>180.5</td>\n",
              "      <td>387</td>\n",
              "      <td>1.943</td>\n",
              "      <td>32.0</td>\n",
              "    </tr>\n",
              "    <tr>\n",
              "      <th>2014-04-30</th>\n",
              "      <td>199.5</td>\n",
              "      <td>377.5</td>\n",
              "      <td>569</td>\n",
              "      <td>1.811</td>\n",
              "      <td>29.0</td>\n",
              "    </tr>\n",
              "  </tbody>\n",
              "</table>\n",
              "<p>851 rows × 5 columns</p>\n",
              "</div>"
            ],
            "text/plain": [
              "            TPS_Q1_DAY  ...  DIG_SLUDGE_DEWATER_DS_AFTER_DEWATER_3_PER_WEEK\n",
              "Date                    ...                                                \n",
              "2012-01-01       199.5  ...                                            32.1\n",
              "2012-01-02       199.5  ...                                            32.1\n",
              "2012-01-03       199.5  ...                                            32.1\n",
              "2012-01-04       170.0  ...                                            31.8\n",
              "2012-01-05       199.5  ...                                            31.4\n",
              "...                ...  ...                                             ...\n",
              "2014-04-26       199.5  ...                                            32.0\n",
              "2014-04-27       199.5  ...                                            30.0\n",
              "2014-04-28       199.5  ...                                            32.0\n",
              "2014-04-29       199.5  ...                                            32.0\n",
              "2014-04-30       199.5  ...                                            29.0\n",
              "\n",
              "[851 rows x 5 columns]"
            ]
          },
          "metadata": {
            "tags": []
          },
          "execution_count": 16
        }
      ]
    },
    {
      "cell_type": "markdown",
      "metadata": {
        "id": "MSJznNzVorR9"
      },
      "source": [
        "### Numeric Dimensionality Reduction"
      ]
    },
    {
      "cell_type": "code",
      "metadata": {
        "colab": {
          "base_uri": "https://localhost:8080/"
        },
        "id": "l7xGSmetoxlH",
        "outputId": "f68b6b93-cc4e-4790-d078-9064ef6adf7b"
      },
      "source": [
        "df_pca.corr()['BIOGAS_PRODUCTION_Q_DAY'].abs().sort_values(ascending=False)"
      ],
      "execution_count": null,
      "outputs": [
        {
          "output_type": "execute_result",
          "data": {
            "text/plain": [
              "BIOGAS_PRODUCTION_Q_DAY                           1.000000\n",
              "TPS_Q1_DAY                                        0.149911\n",
              "DIGESTED_SLUDGE_VS_3_PER_WEEK                     0.131365\n",
              "DIGESTED_SLUDGE_QOUT_DAY                          0.130412\n",
              "TPS_DS_DAY                                        0.123878\n",
              "TPS_VS_DAY                                        0.105626\n",
              "DIG_SLUDGE_DEWATER_DS_AFTER_DEWATER_3_PER_WEEK    0.078082\n",
              "TWAS_DAF_QIN_DAY                                  0.061662\n",
              "TWAS_DAF_VS_DAY                                   0.051948\n",
              "DIGESTED_SLUDGE_DS_3_PER_WEEK                     0.038762\n",
              "TWAS_DAF_DS_DAY                                   0.021795\n",
              "Name: BIOGAS_PRODUCTION_Q_DAY, dtype: float64"
            ]
          },
          "metadata": {
            "tags": []
          },
          "execution_count": 16
        }
      ]
    },
    {
      "cell_type": "code",
      "metadata": {
        "colab": {
          "base_uri": "https://localhost:8080/"
        },
        "id": "HSFj81s7xpSz",
        "outputId": "017a5969-8cff-4bf2-bfd5-44cdf9fcae7e"
      },
      "source": [
        "\n",
        "test_dataset = df_pca.iloc[800:]\n",
        "df_pca.drop(df_pca.index[800:], inplace = True)\n",
        "print(test_dataset.shape)\n",
        "print(df_pca.shape)"
      ],
      "execution_count": null,
      "outputs": [
        {
          "output_type": "stream",
          "text": [
            "(51, 11)\n",
            "(800, 11)\n"
          ],
          "name": "stdout"
        }
      ]
    },
    {
      "cell_type": "code",
      "metadata": {
        "id": "HjtXzadW-ChK"
      },
      "source": [
        "label = df_pca['BIOGAS_PRODUCTION_Q_DAY']"
      ],
      "execution_count": null,
      "outputs": []
    },
    {
      "cell_type": "code",
      "metadata": {
        "colab": {
          "base_uri": "https://localhost:8080/"
        },
        "id": "AIoj-uANEZ2i",
        "outputId": "683ef274-394a-4cfe-fd4c-8a5be428013e"
      },
      "source": [
        "for column in df_pca.columns:\n",
        "  #if column !='BIOGAS_PRODUCTION_Q_DAY':\n",
        "    data = df_pca[column]\n",
        "    exp = ExponentialSmoothing(data)\n",
        "    exp_model = exp.fit(smoothing_level=0.5)\n",
        "    result = exp_model.fittedvalues\n",
        "    df_pca[column] = result"
      ],
      "execution_count": null,
      "outputs": [
        {
          "output_type": "stream",
          "text": [
            "/usr/local/lib/python3.7/dist-packages/statsmodels/tsa/base/tsa_model.py:165: ValueWarning: No frequency information was provided, so inferred frequency D will be used.\n",
            "  % freq, ValueWarning)\n",
            "/usr/local/lib/python3.7/dist-packages/statsmodels/tsa/base/tsa_model.py:165: ValueWarning: No frequency information was provided, so inferred frequency D will be used.\n",
            "  % freq, ValueWarning)\n",
            "/usr/local/lib/python3.7/dist-packages/statsmodels/tsa/base/tsa_model.py:165: ValueWarning: No frequency information was provided, so inferred frequency D will be used.\n",
            "  % freq, ValueWarning)\n",
            "/usr/local/lib/python3.7/dist-packages/statsmodels/tsa/base/tsa_model.py:165: ValueWarning: No frequency information was provided, so inferred frequency D will be used.\n",
            "  % freq, ValueWarning)\n",
            "/usr/local/lib/python3.7/dist-packages/statsmodels/tsa/base/tsa_model.py:165: ValueWarning: No frequency information was provided, so inferred frequency D will be used.\n",
            "  % freq, ValueWarning)\n",
            "/usr/local/lib/python3.7/dist-packages/statsmodels/tsa/base/tsa_model.py:165: ValueWarning: No frequency information was provided, so inferred frequency D will be used.\n",
            "  % freq, ValueWarning)\n",
            "/usr/local/lib/python3.7/dist-packages/statsmodels/tsa/base/tsa_model.py:165: ValueWarning: No frequency information was provided, so inferred frequency D will be used.\n",
            "  % freq, ValueWarning)\n",
            "/usr/local/lib/python3.7/dist-packages/statsmodels/tsa/base/tsa_model.py:165: ValueWarning: No frequency information was provided, so inferred frequency D will be used.\n",
            "  % freq, ValueWarning)\n",
            "/usr/local/lib/python3.7/dist-packages/statsmodels/tsa/base/tsa_model.py:165: ValueWarning: No frequency information was provided, so inferred frequency D will be used.\n",
            "  % freq, ValueWarning)\n",
            "/usr/local/lib/python3.7/dist-packages/statsmodels/tsa/base/tsa_model.py:165: ValueWarning: No frequency information was provided, so inferred frequency D will be used.\n",
            "  % freq, ValueWarning)\n",
            "/usr/local/lib/python3.7/dist-packages/statsmodels/tsa/base/tsa_model.py:165: ValueWarning: No frequency information was provided, so inferred frequency D will be used.\n",
            "  % freq, ValueWarning)\n"
          ],
          "name": "stderr"
        }
      ]
    },
    {
      "cell_type": "code",
      "metadata": {
        "id": "RGwuOMtoo-3W"
      },
      "source": [
        "####NOT IN USE####\n",
        "\n",
        "for column in df_pca.columns:\n",
        "  #if column != 'BIOGAS_PRODUCTION_Q_DAY':\n",
        "    result = seasonal_decompose(df_pca[column], model='additive')\n",
        "\n",
        "    df_pca[column] -=result.trend\n",
        "    df_pca[column] -=result.seasonal\n",
        "\n",
        "df_pca = df_pca.dropna(axis=0)"
      ],
      "execution_count": null,
      "outputs": []
    },
    {
      "cell_type": "code",
      "metadata": {
        "id": "_u-RKelLKwfg"
      },
      "source": [
        ""
      ],
      "execution_count": null,
      "outputs": []
    },
    {
      "cell_type": "code",
      "metadata": {
        "id": "qUzjmlsxt190"
      },
      "source": [
        "###NOT IN USE###\n",
        "# Normalise features\n",
        "df_pca=(df_pca-df_pca.min())/(df_pca.max()-df_pca.min())\n",
        "#df_pca=(df_pca-df_pca.mean())/df_pca.std()\n",
        "#df_pca['BIOGAS_PRODUCTION_Q_DAY'] = label\n",
        "label = df_pca['BIOGAS_PRODUCTION_Q_DAY']\n",
        "df_pca.tail()"
      ],
      "execution_count": null,
      "outputs": []
    },
    {
      "cell_type": "code",
      "metadata": {
        "id": "hYrV7Tvqpnl6"
      },
      "source": [
        "# multivariate multi-headed 1d cnn example\n",
        "from numpy import array\n",
        "from numpy import hstack\n",
        "from keras.models import Model\n",
        "from keras.layers import Input\n",
        "from keras.layers import Dense\n",
        "from keras.layers import Flatten\n",
        "from keras.layers.convolutional import Conv1D\n",
        "from keras.layers.convolutional import MaxPooling1D\n",
        "from keras.layers.merge import concatenate\n",
        "\n",
        "# split a multivariate sequence into samples\n",
        "def split_sequences(sequences, n_steps):\n",
        "\tX, y = list(), list()\n",
        "\tfor i in range(len(sequences)):\n",
        "\t\t# find the end of this pattern\n",
        "\t\tend_ix = i + n_steps\n",
        "\t\t# check if we are beyond the dataset\n",
        "\t\tif end_ix > len(sequences):\n",
        "\t\t\tbreak\n",
        "\t\t# gather input and output parts of the pattern\n",
        "\t\tseq_x, seq_y = sequences[i:end_ix, :-1], sequences[end_ix-1, -1]\n",
        "\t\tX.append(seq_x)\n",
        "\t\ty.append(seq_y)\n",
        "\treturn array(X), array(y)\n",
        "\n"
      ],
      "execution_count": null,
      "outputs": []
    },
    {
      "cell_type": "code",
      "metadata": {
        "id": "HnOPAWBAyy_R"
      },
      "source": [
        "# convert to [rows, columns] structure\n",
        "\n",
        "X1 = df_pca['TPS_Q1_DAY']\n",
        "X2 = df_pca['TPS_DS_DAY']\n",
        "X3 = df_pca['TPS_VS_DAY']\n",
        "X4 = df_pca['TWAS_DAF_QIN_DAY']\n",
        "X5 = df_pca['TWAS_DAF_DS_DAY']\n",
        "X6 = df_pca['TWAS_DAF_VS_DAY']\n",
        "X7 = df_pca['DIGESTED_SLUDGE_QOUT_DAY']\n",
        "X8 = df_pca['DIGESTED_SLUDGE_DS_3_PER_WEEK']\n",
        "X9 = df_pca['DIGESTED_SLUDGE_VS_3_PER_WEEK']\n",
        "X10 = df_pca['BIOGAS_PRODUCTION_Q_DAY']\n",
        "X11 = df_pca['DIG_SLUDGE_DEWATER_DS_AFTER_DEWATER_3_PER_WEEK']\n",
        "\n",
        "OUT = label\n",
        "\n"
      ],
      "execution_count": null,
      "outputs": []
    },
    {
      "cell_type": "code",
      "metadata": {
        "id": "q3uhCNc_IMKl"
      },
      "source": [
        "X1 = X1.to_numpy().reshape((len(X1), 1))\n",
        "X2 = X2.to_numpy().reshape((len(X2), 1))\n",
        "X3 = X3.to_numpy().reshape((len(X3), 1))\n",
        "X4 = X4.to_numpy().reshape((len(X4), 1))\n",
        "X5 = X5.to_numpy().reshape((len(X5), 1))\n",
        "X6 = X6.to_numpy().reshape((len(X6), 1))\n",
        "X7 = X7.to_numpy().reshape((len(X7), 1))\n",
        "X8 = X8.to_numpy().reshape((len(X8), 1))\n",
        "X9 = X9.to_numpy().reshape((len(X9), 1))\n",
        "X10 = X10.to_numpy().reshape((len(X10), 1))\n",
        "X11 = X11.to_numpy().reshape((len(X11), 1))\n",
        "\n",
        "\n",
        "OUT = OUT.to_numpy().reshape((len(OUT), 1))\n",
        "\n"
      ],
      "execution_count": null,
      "outputs": []
    },
    {
      "cell_type": "code",
      "metadata": {
        "id": "CeKqmvsnyhGk"
      },
      "source": [
        "# horizontally stack columns\n",
        "dataset = hstack((X1, X2, X3, X4, X5, X6, X7, X8, X9, X10, X11, OUT))\n",
        "# choose a number of time steps\n",
        "n_steps = 3\n",
        "# convert into input/output\n",
        "X, y = split_sequences(dataset, n_steps)\n",
        "# one time series per head\n",
        "n_features = 1\n",
        "# separate input data\n",
        "X1 = X[:, :, 0].reshape(X.shape[0], X.shape[1], n_features)\n",
        "X2 = X[:, :, 1].reshape(X.shape[0], X.shape[1], n_features)\n",
        "X3 = X[:, :, 2].reshape(X.shape[0], X.shape[1], n_features)\n",
        "X4 = X[:, :, 3].reshape(X.shape[0], X.shape[1], n_features)\n",
        "X5 = X[:, :, 4].reshape(X.shape[0], X.shape[1], n_features)\n",
        "X6 = X[:, :, 5].reshape(X.shape[0], X.shape[1], n_features)\n",
        "X7 = X[:, :, 6].reshape(X.shape[0], X.shape[1], n_features)\n",
        "X8 = X[:, :, 7].reshape(X.shape[0], X.shape[1], n_features)\n",
        "X9 = X[:, :, 8].reshape(X.shape[0], X.shape[1], n_features)\n",
        "X10 = X[:, :, 9].reshape(X.shape[0], X.shape[1], n_features)\n",
        "X11 = X[:, :, 10].reshape(X.shape[0], X.shape[1], n_features)\n",
        "\n",
        "# first input model\n",
        "visible1 = Input(shape=(n_steps, n_features))\n",
        "cnn1 = Conv1D(filters=64, kernel_size=2, activation='relu')(visible1)\n",
        "cnn1 = MaxPooling1D(pool_size=2)(cnn1)\n",
        "cnn1 = Flatten()(cnn1)\n",
        "# second input model\n",
        "visible2 = Input(shape=(n_steps, n_features))\n",
        "cnn2 = Conv1D(filters=64, kernel_size=2, activation='relu')(visible2)\n",
        "cnn2 = MaxPooling1D(pool_size=2)(cnn2)\n",
        "cnn2 = Flatten()(cnn2)\n",
        "# third input model\n",
        "visible3 = Input(shape=(n_steps, n_features))\n",
        "cnn3 = Conv1D(filters=64, kernel_size=2, activation='relu')(visible3)\n",
        "cnn3 = MaxPooling1D(pool_size=2)(cnn3)\n",
        "cnn3 = Flatten()(cnn3)\n",
        "# fourth input model\n",
        "visible4 = Input(shape=(n_steps, n_features))\n",
        "cnn4 = Conv1D(filters=64, kernel_size=2, activation='relu')(visible4)\n",
        "cnn4 = MaxPooling1D(pool_size=2)(cnn4)\n",
        "cnn4 = Flatten()(cnn4)\n",
        "# fifth input model\n",
        "visible5 = Input(shape=(n_steps, n_features))\n",
        "cnn5 = Conv1D(filters=64, kernel_size=2, activation='relu')(visible5)\n",
        "cnn5 = MaxPooling1D(pool_size=2)(cnn5)\n",
        "cnn5 = Flatten()(cnn5)\n",
        "# sixth input model\n",
        "visible6 = Input(shape=(n_steps, n_features))\n",
        "cnn6 = Conv1D(filters=64, kernel_size=2, activation='relu')(visible6)\n",
        "cnn6 = MaxPooling1D(pool_size=2)(cnn6)\n",
        "cnn6 = Flatten()(cnn6)\n",
        "# seventh input model\n",
        "visible7 = Input(shape=(n_steps, n_features))\n",
        "cnn7 = Conv1D(filters=64, kernel_size=2, activation='relu')(visible7)\n",
        "cnn7 = MaxPooling1D(pool_size=2)(cnn7)\n",
        "cnn7 = Flatten()(cnn7)\n",
        "# eighth input model\n",
        "visible8 = Input(shape=(n_steps, n_features))\n",
        "cnn8 = Conv1D(filters=64, kernel_size=2, activation='relu')(visible8)\n",
        "cnn8 = MaxPooling1D(pool_size=2)(cnn8)\n",
        "cnn8 = Flatten()(cnn8)\n",
        "# ninth input model\n",
        "visible9 = Input(shape=(n_steps, n_features))\n",
        "cnn9 = Conv1D(filters=64, kernel_size=2, activation='relu')(visible9)\n",
        "cnn9 = MaxPooling1D(pool_size=2)(cnn9)\n",
        "cnn9 = Flatten()(cnn9)\n",
        "# tenth input model\n",
        "visible10 = Input(shape=(n_steps, n_features))\n",
        "cnn10 = Conv1D(filters=64, kernel_size=2, activation='relu')(visible10)\n",
        "cnn10 = MaxPooling1D(pool_size=2)(cnn10)\n",
        "cnn10 = Flatten()(cnn10)\n",
        "# eleventh input model\n",
        "visible11 = Input(shape=(n_steps, n_features))\n",
        "cnn11 = Conv1D(filters=64, kernel_size=2, activation='relu')(visible11)\n",
        "cnn11 = MaxPooling1D(pool_size=2)(cnn11)\n",
        "cnn11 = Flatten()(cnn11)\n",
        "\n",
        "# merge input models\n",
        "merge = concatenate([cnn1, cnn2, cnn3, cnn4, cnn5, cnn6, cnn7, cnn8, cnn9, cnn10, cnn11])\n",
        "dense = Dense(50, activation='relu')(merge)\n",
        "output = Dense(1)(dense)\n",
        "model = Model(inputs=[visible1, visible2, visible3, visible4, visible5, visible6, visible7, visible8, visible9, visible10, visible11], outputs=output)\n",
        "model.compile(optimizer='adam', loss='mse')\n",
        "\n",
        "\n",
        "history  = model.fit([X1, X2, X3, X4, X5, X6, X7, X8, X9, X10, X11], y, epochs=20, verbose=0, validation_split=0.2)"
      ],
      "execution_count": null,
      "outputs": []
    },
    {
      "cell_type": "code",
      "metadata": {
        "colab": {
          "base_uri": "https://localhost:8080/",
          "height": 424
        },
        "id": "k_uhnWvvkbBk",
        "outputId": "076ff3f4-84e3-4095-a8f8-cee366bcbd2b"
      },
      "source": [
        "# summarize history for loss\n",
        "plt.plot(history.history['loss'])\n",
        "plt.plot(history.history['val_loss'])\n",
        "plt.title('model loss')\n",
        "plt.ylabel('loss')\n",
        "plt.xlabel('epoch')\n",
        "plt.legend(['train', 'test'], loc='upper left')\n",
        "plt.show()"
      ],
      "execution_count": null,
      "outputs": [
        {
          "output_type": "display_data",
          "data": {
            "image/png": "[encoded data removed]",
            "text/plain": [
              "<Figure size 1058.4x451.44 with 1 Axes>"
            ]
          },
          "metadata": {
            "tags": []
          }
        }
      ]
    },
    {
      "cell_type": "code",
      "metadata": {
        "colab": {
          "base_uri": "https://localhost:8080/"
        },
        "id": "SjMO_97SIlsM",
        "outputId": "93b4bc1f-7f13-4b26-ca86-efbb6b1bfce2"
      },
      "source": [
        "history.history['val_loss']"
      ],
      "execution_count": null,
      "outputs": [
        {
          "output_type": "execute_result",
          "data": {
            "text/plain": [
              "[12.019233703613281,\n",
              " 4.550685882568359,\n",
              " 2.9358179569244385,\n",
              " 1.0490734577178955,\n",
              " 0.751736044883728,\n",
              " 0.976100742816925,\n",
              " 1.541887879371643,\n",
              " 0.8144891858100891,\n",
              " 1.1361007690429688,\n",
              " 0.41746196150779724,\n",
              " 0.3972945809364319,\n",
              " 0.36712443828582764,\n",
              " 0.37799447774887085,\n",
              " 0.41195663809776306,\n",
              " 0.2650609314441681,\n",
              " 0.6272944211959839,\n",
              " 0.4260520040988922,\n",
              " 0.20746257901191711,\n",
              " 0.16561946272850037,\n",
              " 0.1666867733001709]"
            ]
          },
          "metadata": {
            "tags": []
          },
          "execution_count": 64
        }
      ]
    },
    {
      "cell_type": "code",
      "metadata": {
        "id": "m6DObXxxYY1a"
      },
      "source": [
        "pred_test = test_dataset.loc[:]#, test_dataset.columns != 'BIOGAS_PRODUCTION_Q_DAY']\n",
        "predictions = list()\n",
        "for i in range(2,len(test_dataset)-10):\n",
        "  x_input = array([pred_test.iloc[i-2], pred_test.iloc[i-1], pred_test.iloc[i]])\n",
        "  x1 = x_input[:, 0].reshape((1, n_steps, n_features))\n",
        "  x2 = x_input[:, 1].reshape((1, n_steps, n_features))\n",
        "  x3 = x_input[:, 2].reshape((1, n_steps, n_features))\n",
        "  x4 = x_input[:, 3].reshape((1, n_steps, n_features))\n",
        "  x5 = x_input[:, 4].reshape((1, n_steps, n_features))\n",
        "  x6 = x_input[:, 5].reshape((1, n_steps, n_features))\n",
        "  x7 = x_input[:, 6].reshape((1, n_steps, n_features))\n",
        "  x8 = x_input[:, 7].reshape((1, n_steps, n_features))\n",
        "  x9 = x_input[:, 8].reshape((1, n_steps, n_features))\n",
        "  x10 = x_input[:, 9].reshape((1, n_steps, n_features))\n",
        "  x11 = x_input[:, 10].reshape((1, n_steps, n_features))\n",
        "  yhat = model.predict([x1, x2, x3, x4, x5, x6, x7, x8, x9, x10, x11], verbose=0)\n",
        "  predictions.append(yhat)\n",
        "\n",
        "predicts= list()\n",
        "for elem in predictions:\n",
        "  predicts.append(elem[0][0])\n",
        "\n",
        "#test_dataset['PREDICTED_BIOGAS'] = predictions"
      ],
      "execution_count": null,
      "outputs": []
    },
    {
      "cell_type": "code",
      "metadata": {
        "colab": {
          "base_uri": "https://localhost:8080/"
        },
        "id": "IdcBzc8MzTYh",
        "outputId": "e5503423-54a3-41c2-b851-c052adaafa10"
      },
      "source": [
        "print(predicts[0:10])\n",
        "print(test_dataset.BIOGAS_PRODUCTION_Q_DAY.iloc[:10])"
      ],
      "execution_count": null,
      "outputs": [
        {
          "output_type": "stream",
          "text": [
            "[2.411387, 2.3398216, 3.1470597, 3.2671678, 2.7126167, 2.9240088, 3.114271, 3.5851254, 2.6142626, 2.7347438]\n",
            "Date\n",
            "2014-03-11    2.475\n",
            "2014-03-12    2.497\n",
            "2014-03-13    3.185\n",
            "2014-03-14    2.542\n",
            "2014-03-15    3.052\n",
            "2014-03-16    2.975\n",
            "2014-03-17    2.983\n",
            "2014-03-18    3.125\n",
            "2014-03-19    3.218\n",
            "2014-03-20    3.284\n",
            "Name: BIOGAS_PRODUCTION_Q_DAY, dtype: float64\n"
          ],
          "name": "stdout"
        }
      ]
    },
    {
      "cell_type": "code",
      "metadata": {
        "colab": {
          "base_uri": "https://localhost:8080/"
        },
        "id": "bY-2uIMqiohb",
        "outputId": "a4524bf4-af0c-443e-c293-98fe4bbdf96c"
      },
      "source": [
        "test_dataset.iloc[2]"
      ],
      "execution_count": null,
      "outputs": [
        {
          "output_type": "execute_result",
          "data": {
            "text/plain": [
              "TPS_Q1_DAY                                        199.500\n",
              "TPS_DS_DAY                                          5.000\n",
              "TPS_VS_DAY                                         93.000\n",
              "TWAS_DAF_QIN_DAY                                  124.500\n",
              "TWAS_DAF_DS_DAY                                     3.000\n",
              "TWAS_DAF_VS_DAY                                    83.000\n",
              "DIGESTED_SLUDGE_QOUT_DAY                          343.000\n",
              "DIGESTED_SLUDGE_DS_3_PER_WEEK                       2.200\n",
              "DIGESTED_SLUDGE_VS_3_PER_WEEK                      78.000\n",
              "BIOGAS_PRODUCTION_Q_DAY                             3.185\n",
              "DIG_SLUDGE_DEWATER_DS_AFTER_DEWATER_3_PER_WEEK     29.000\n",
              "Name: 2014-03-13 00:00:00, dtype: float64"
            ]
          },
          "metadata": {
            "tags": []
          },
          "execution_count": 44
        }
      ]
    },
    {
      "cell_type": "code",
      "metadata": {
        "id": "IC4BxPk1btqF"
      },
      "source": [
        "#Date + 2\n",
        "dti = pd.date_range(\"2014-03-13\", periods=39, freq=\"D\")\n"
      ],
      "execution_count": null,
      "outputs": []
    },
    {
      "cell_type": "code",
      "metadata": {
        "colab": {
          "base_uri": "https://localhost:8080/"
        },
        "id": "BRf_8SJAKNo3",
        "outputId": "e2dbdc34-f387-447c-9d33-5bfcd7fd3225"
      },
      "source": [
        "test_dataset.drop(test_dataset.index[-10:], inplace=True)"
      ],
      "execution_count": null,
      "outputs": [
        {
          "output_type": "stream",
          "text": [
            "/usr/local/lib/python3.7/dist-packages/pandas/core/frame.py:4174: SettingWithCopyWarning: \n",
            "A value is trying to be set on a copy of a slice from a DataFrame\n",
            "\n",
            "See the caveats in the documentation: https://pandas.pydata.org/pandas-docs/stable/user_guide/indexing.html#returning-a-view-versus-a-copy\n",
            "  errors=errors,\n"
          ],
          "name": "stderr"
        }
      ]
    },
    {
      "cell_type": "code",
      "metadata": {
        "id": "4Ap99GWydo11",
        "colab": {
          "base_uri": "https://localhost:8080/"
        },
        "outputId": "03122f49-7989-4c31-c5cb-7b60ce493d58"
      },
      "source": [
        "predictions_df = pd.DataFrame(data = predicts, index=dti)\n",
        "test_dataset.drop(test_dataset.index[0:2], inplace=True)"
      ],
      "execution_count": null,
      "outputs": [
        {
          "output_type": "stream",
          "text": [
            "/usr/local/lib/python3.7/dist-packages/pandas/core/frame.py:4174: SettingWithCopyWarning: \n",
            "A value is trying to be set on a copy of a slice from a DataFrame\n",
            "\n",
            "See the caveats in the documentation: https://pandas.pydata.org/pandas-docs/stable/user_guide/indexing.html#returning-a-view-versus-a-copy\n",
            "  errors=errors,\n"
          ],
          "name": "stderr"
        }
      ]
    },
    {
      "cell_type": "code",
      "metadata": {
        "colab": {
          "base_uri": "https://localhost:8080/",
          "height": 425
        },
        "id": "2sEoFZ5dbRep",
        "outputId": "6515ba37-25f6-421c-aa82-4c41ad863e78"
      },
      "source": [
        "\n",
        "sns.set(rc={'figure.figsize':(14.7,6.27)})\n",
        "sns.lineplot(data=predictions_df)\n",
        "sns.lineplot(data = test_dataset['BIOGAS_PRODUCTION_Q_DAY'])"
      ],
      "execution_count": null,
      "outputs": [
        {
          "output_type": "execute_result",
          "data": {
            "text/plain": [
              "<matplotlib.axes._subplots.AxesSubplot at 0x7f6a10045d10>"
            ]
          },
          "metadata": {
            "tags": []
          },
          "execution_count": 70
        },
        {
          "output_type": "display_data",
          "data": {
            "image/png": "[encoded data removed]",
            "text/plain": [
              "<Figure size 1058.4x451.44 with 1 Axes>"
            ]
          },
          "metadata": {
            "tags": []
          }
        }
      ]
    },
    {
      "cell_type": "code",
      "metadata": {
        "colab": {
          "base_uri": "https://localhost:8080/"
        },
        "id": "nUffbyfJrSBk",
        "outputId": "a22a78bb-14d0-475a-a20f-511014105320"
      },
      "source": [
        "# Calculate Error:\n",
        "errors = list()\n",
        "for index, values in test_dataset.iterrows():\n",
        "  #print(df_pca.loc[index]['BIOGAS_PRODUCTION_Q_DAY'])\n",
        "  error = np.abs(((test_dataset.loc[index]['BIOGAS_PRODUCTION_Q_DAY'] - predictions_df.loc[index])/test_dataset.loc[index]['BIOGAS_PRODUCTION_Q_DAY']))\n",
        "  errors.append(error[0])\n",
        "\n",
        "errors = np.array(errors)\n",
        "print(errors)\n",
        "mape = np.mean(error)*100\n",
        "print(mape)\n",
        "# Calculate and display accuracy\n",
        "accuracy = 100 - np.mean(mape)\n",
        "print('Accuracy:', round(accuracy, 2), '%.')"
      ],
      "execution_count": null,
      "outputs": [
        {
          "output_type": "stream",
          "text": [
            "[0.24289263 0.07953518 0.03114668 0.09820767 0.09064141 0.06431717\n",
            " 0.03223402 0.09169472 0.06332405 0.03570387 0.07439875 0.04525387\n",
            " 0.00725312 0.12980174 0.11224611 0.00598534 0.20909401 0.3432437\n",
            " 0.02126818 0.34584041 0.16367424 0.32345991 0.05519645 0.03294933\n",
            " 0.47150967 0.01753927 0.14886599 0.05352556 0.30879212 0.18724838\n",
            " 0.10655445 0.09654356 0.07375591 0.0979576  0.30983861 0.0654198\n",
            " 0.04766867 0.03701103 0.12544264]\n",
            "12.54426441675859\n",
            "Accuracy: 87.46 %.\n"
          ],
          "name": "stdout"
        }
      ]
    },
    {
      "cell_type": "code",
      "metadata": {
        "id": "XlXdNaXurFQB"
      },
      "source": [
        "all = pd.Series(data=pd.date_range(start=df_pca.index.min(), end=df_pca.index.max(), freq='d'))\n",
        "mask = all.isin(df_pca.index.values)\n",
        "print(all[~mask])"
      ],
      "execution_count": null,
      "outputs": []
    },
    {
      "cell_type": "code",
      "metadata": {
        "id": "Yrid7N8QSsnX"
      },
      "source": [
        "sns.set(rc={'figure.figsize':(24.7,8.27)})\n",
        "sns.lineplot(data=label)#, x=\"day\", y=\"Bio-gas\")"
      ],
      "execution_count": null,
      "outputs": []
    },
    {
      "cell_type": "code",
      "metadata": {
        "id": "D7wsX6eVStdh"
      },
      "source": [
        ""
      ],
      "execution_count": null,
      "outputs": []
    }
  ]
}